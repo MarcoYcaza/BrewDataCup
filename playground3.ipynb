{
 "metadata": {
  "language_info": {
   "codemirror_mode": {
    "name": "ipython",
    "version": 3
   },
   "file_extension": ".py",
   "mimetype": "text/x-python",
   "name": "python",
   "nbconvert_exporter": "python",
   "pygments_lexer": "ipython3",
   "version": "3.8.3-final"
  },
  "orig_nbformat": 2,
  "kernelspec": {
   "name": "python38364bitbasecondaa6743f8ed62d454cbbb856e6cf8d6e67",
   "display_name": "Python 3.8.3 64-bit ('base': conda)"
  }
 },
 "nbformat": 4,
 "nbformat_minor": 2,
 "cells": [
  {
   "cell_type": "code",
   "execution_count": 5,
   "metadata": {},
   "outputs": [],
   "source": [
    "import os\n",
    "import pandas as pd\n",
    "import itertools\n",
    "import numpy as np\n",
    "from sklearn import preprocessing as prepro\n",
    "import matplotlib.pyplot as plt\n",
    "from matplotlib.pyplot import figure\n",
    "%matplotlib inline"
   ]
  },
  {
   "cell_type": "code",
   "execution_count": 97,
   "metadata": {},
   "outputs": [],
   "source": [
    "def bayesian_inf(likelihood,prior):\n",
    "    return (prior*likelihood)/((prior*likelihood)-((1-prior)*(1-likelihood)))"
   ]
  },
  {
   "cell_type": "code",
   "execution_count": 6,
   "metadata": {},
   "outputs": [],
   "source": [
    "datas = [\"peru-data/\"+str(i) for i in os.listdir('peru-data')]"
   ]
  },
  {
   "source": [
    "Preprocessing data of client\n"
   ],
   "cell_type": "markdown",
   "metadata": {}
  },
  {
   "cell_type": "code",
   "execution_count": 7,
   "metadata": {},
   "outputs": [],
   "source": [
    "clientAtrDf = pd.read_csv(datas[1],encoding=\"latin1\")\n",
    "\n",
    "clientAtrDf.dropna(inplace=True)\n",
    "\n",
    "cliente = list(clientAtrDf[\"Cliente\"])\n",
    "years = list(clientAtrDf[\"FechaAltaCliente\"].map(lambda x: 2020-int(x[0:4])))\n",
    "gerencia=list(clientAtrDf[\"Gerencia\"])\n",
    "tipo=list(clientAtrDf[\"TipoPoblacion\"])\n",
    "\n",
    "data = zip(cliente,years,gerencia,tipo)\n",
    "\n",
    "preprocess_client=pd.DataFrame(data,columns=[\"Cliente\",\"years\",\"gerencia\",\"tipo\"])"
   ]
  },
  {
   "cell_type": "code",
   "execution_count": 8,
   "metadata": {},
   "outputs": [],
   "source": [
    "pk1 = preprocess_client[[\"Cliente\"]]\n",
    "\n",
    "X  = preprocess_client[list(preprocess_client.columns[1:])]\n",
    "\n",
    "X_normalized = prepro.normalize(X, norm='l2')\n",
    "\n",
    "norm_preprocess_client=pd.DataFrame(X_normalized,columns=[list(preprocess_client.columns[1:])])\n",
    "\n",
    "norm_preprocess_client=pd.concat([pk1,norm_preprocess_client],axis=1)"
   ]
  },
  {
   "cell_type": "code",
   "execution_count": 9,
   "metadata": {},
   "outputs": [],
   "source": [
    "norm_preprocess_client.columns = [\"Cliente\",\"years\",\"gerencia\",\"tipo\"]"
   ]
  },
  {
   "source": [
    "Preprocessing sale's data"
   ],
   "cell_type": "markdown",
   "metadata": {}
  },
  {
   "cell_type": "code",
   "execution_count": 10,
   "metadata": {},
   "outputs": [],
   "source": [
    "salesDf = pd.read_csv(datas[0],encoding=\"latin1\")\n",
    "salesDf.dropna(inplace=True)\n",
    "salesDf.drop(columns=[\"Año\",\"Hl\"],inplace=True)\n",
    "preproSalesDf = salesDf.reset_index(drop=True)\n",
    "preproSalesDf=preproSalesDf[[\"Cliente\",\"Marca\",\"Cupo\",\"Mes\" ,\"ClaseEnvase\",\"SegmentoPrecio\",\"Nr\",\"Dcto\"]]\n",
    "pk = preproSalesDf[[\"Cliente\",\"Marca\",\"Cupo\",\"Mes\"]]"
   ]
  },
  {
   "cell_type": "code",
   "execution_count": 11,
   "metadata": {},
   "outputs": [],
   "source": [
    "X  = preproSalesDf[list(preproSalesDf.columns[4:])]\n",
    "\n",
    "X_normalized = prepro.normalize(X, norm='l2')\n",
    "\n",
    "norm_preproSalesDf=pd.DataFrame(X_normalized,columns=[list(preproSalesDf.columns[4:])])\n",
    "\n",
    "norm_preproSalesDf=pd.concat([norm_preproSalesDf,pk], axis=1)\n",
    "\n",
    "norm_preproSalesDf.rename(columns={norm_preproSalesDf.columns[0]:'envase',\tnorm_preproSalesDf.columns[1]:'segmento',norm_preproSalesDf.columns[2]:'rev',norm_preproSalesDf.columns[3]:'dcto'},inplace=True)"
   ]
  },
  {
   "cell_type": "code",
   "execution_count": 12,
   "metadata": {},
   "outputs": [
    {
     "output_type": "execute_result",
     "data": {
      "text/plain": [
       "           envase  segmento       rev      dcto  Cliente  Marca  Cupo  Mes\n",
       "0        0.000315  0.000315  1.000000  0.000000        1     44  10.0    1\n",
       "1        0.000020  0.000040  1.000000  0.000000        1     18  16.0    1\n",
       "2        0.000167  0.000084  0.970561 -0.240855        1      2   6.0    6\n",
       "3        0.000514  0.001029  0.999999  0.000000        1     37  34.0    7\n",
       "4        0.000123  0.000062  1.000000  0.000000        1      2  16.0    8\n",
       "...           ...       ...       ...       ...      ...    ...   ...  ...\n",
       "1894242  0.000265  0.000529  1.000000  0.000000    15068     44  32.0    8\n",
       "1894243  0.000159  0.000318  1.000000  0.000000    15069     44  32.0    3\n",
       "1894244  0.000159  0.000318  1.000000  0.000000    15069     44  32.0    4\n",
       "1894245  0.000127  0.000064  1.000000  0.000000    15069      2   6.0    4\n",
       "1894246  0.000062  0.000124  1.000000  0.000000    15069     44  29.0    7\n",
       "\n",
       "[1894247 rows x 8 columns]"
      ],
      "text/html": "<div>\n<style scoped>\n    .dataframe tbody tr th:only-of-type {\n        vertical-align: middle;\n    }\n\n    .dataframe tbody tr th {\n        vertical-align: top;\n    }\n\n    .dataframe thead th {\n        text-align: right;\n    }\n</style>\n<table border=\"1\" class=\"dataframe\">\n  <thead>\n    <tr style=\"text-align: right;\">\n      <th></th>\n      <th>envase</th>\n      <th>segmento</th>\n      <th>rev</th>\n      <th>dcto</th>\n      <th>Cliente</th>\n      <th>Marca</th>\n      <th>Cupo</th>\n      <th>Mes</th>\n    </tr>\n  </thead>\n  <tbody>\n    <tr>\n      <th>0</th>\n      <td>0.000315</td>\n      <td>0.000315</td>\n      <td>1.000000</td>\n      <td>0.000000</td>\n      <td>1</td>\n      <td>44</td>\n      <td>10.0</td>\n      <td>1</td>\n    </tr>\n    <tr>\n      <th>1</th>\n      <td>0.000020</td>\n      <td>0.000040</td>\n      <td>1.000000</td>\n      <td>0.000000</td>\n      <td>1</td>\n      <td>18</td>\n      <td>16.0</td>\n      <td>1</td>\n    </tr>\n    <tr>\n      <th>2</th>\n      <td>0.000167</td>\n      <td>0.000084</td>\n      <td>0.970561</td>\n      <td>-0.240855</td>\n      <td>1</td>\n      <td>2</td>\n      <td>6.0</td>\n      <td>6</td>\n    </tr>\n    <tr>\n      <th>3</th>\n      <td>0.000514</td>\n      <td>0.001029</td>\n      <td>0.999999</td>\n      <td>0.000000</td>\n      <td>1</td>\n      <td>37</td>\n      <td>34.0</td>\n      <td>7</td>\n    </tr>\n    <tr>\n      <th>4</th>\n      <td>0.000123</td>\n      <td>0.000062</td>\n      <td>1.000000</td>\n      <td>0.000000</td>\n      <td>1</td>\n      <td>2</td>\n      <td>16.0</td>\n      <td>8</td>\n    </tr>\n    <tr>\n      <th>...</th>\n      <td>...</td>\n      <td>...</td>\n      <td>...</td>\n      <td>...</td>\n      <td>...</td>\n      <td>...</td>\n      <td>...</td>\n      <td>...</td>\n    </tr>\n    <tr>\n      <th>1894242</th>\n      <td>0.000265</td>\n      <td>0.000529</td>\n      <td>1.000000</td>\n      <td>0.000000</td>\n      <td>15068</td>\n      <td>44</td>\n      <td>32.0</td>\n      <td>8</td>\n    </tr>\n    <tr>\n      <th>1894243</th>\n      <td>0.000159</td>\n      <td>0.000318</td>\n      <td>1.000000</td>\n      <td>0.000000</td>\n      <td>15069</td>\n      <td>44</td>\n      <td>32.0</td>\n      <td>3</td>\n    </tr>\n    <tr>\n      <th>1894244</th>\n      <td>0.000159</td>\n      <td>0.000318</td>\n      <td>1.000000</td>\n      <td>0.000000</td>\n      <td>15069</td>\n      <td>44</td>\n      <td>32.0</td>\n      <td>4</td>\n    </tr>\n    <tr>\n      <th>1894245</th>\n      <td>0.000127</td>\n      <td>0.000064</td>\n      <td>1.000000</td>\n      <td>0.000000</td>\n      <td>15069</td>\n      <td>2</td>\n      <td>6.0</td>\n      <td>4</td>\n    </tr>\n    <tr>\n      <th>1894246</th>\n      <td>0.000062</td>\n      <td>0.000124</td>\n      <td>1.000000</td>\n      <td>0.000000</td>\n      <td>15069</td>\n      <td>44</td>\n      <td>29.0</td>\n      <td>7</td>\n    </tr>\n  </tbody>\n</table>\n<p>1894247 rows × 8 columns</p>\n</div>"
     },
     "metadata": {},
     "execution_count": 12
    }
   ],
   "source": [
    "norm_preproSalesDf"
   ]
  },
  {
   "cell_type": "code",
   "execution_count": null,
   "metadata": {},
   "outputs": [],
   "source": []
  },
  {
   "cell_type": "code",
   "execution_count": 13,
   "metadata": {},
   "outputs": [],
   "source": [
    "client_salesComparisonDf =norm_preprocess_client.merge(norm_preproSalesDf,on='Cliente',how='outer')"
   ]
  },
  {
   "cell_type": "code",
   "execution_count": 35,
   "metadata": {},
   "outputs": [
    {
     "output_type": "execute_result",
     "data": {
      "text/plain": [
       "   Cliente     years  gerencia      tipo  envase  segmento  rev  dcto  Marca  \\\n",
       "0      1.0  0.463595  0.885044  0.042145     NaN       NaN  NaN   NaN    NaN   \n",
       "1      9.0  0.462364  0.882696  0.084066     NaN       NaN  NaN   NaN    NaN   \n",
       "2     15.0  0.462364  0.882696  0.084066     NaN       NaN  NaN   NaN    NaN   \n",
       "3     37.0  0.462364  0.882696  0.084066     NaN       NaN  NaN   NaN    NaN   \n",
       "4     43.0  0.462364  0.882696  0.084066     NaN       NaN  NaN   NaN    NaN   \n",
       "\n",
       "   Cupo  Mes  \n",
       "0   NaN  NaN  \n",
       "1   NaN  NaN  \n",
       "2   NaN  NaN  \n",
       "3   NaN  NaN  \n",
       "4   NaN  NaN  "
      ],
      "text/html": "<div>\n<style scoped>\n    .dataframe tbody tr th:only-of-type {\n        vertical-align: middle;\n    }\n\n    .dataframe tbody tr th {\n        vertical-align: top;\n    }\n\n    .dataframe thead th {\n        text-align: right;\n    }\n</style>\n<table border=\"1\" class=\"dataframe\">\n  <thead>\n    <tr style=\"text-align: right;\">\n      <th></th>\n      <th>Cliente</th>\n      <th>years</th>\n      <th>gerencia</th>\n      <th>tipo</th>\n      <th>envase</th>\n      <th>segmento</th>\n      <th>rev</th>\n      <th>dcto</th>\n      <th>Marca</th>\n      <th>Cupo</th>\n      <th>Mes</th>\n    </tr>\n  </thead>\n  <tbody>\n    <tr>\n      <th>0</th>\n      <td>1.0</td>\n      <td>0.463595</td>\n      <td>0.885044</td>\n      <td>0.042145</td>\n      <td>NaN</td>\n      <td>NaN</td>\n      <td>NaN</td>\n      <td>NaN</td>\n      <td>NaN</td>\n      <td>NaN</td>\n      <td>NaN</td>\n    </tr>\n    <tr>\n      <th>1</th>\n      <td>9.0</td>\n      <td>0.462364</td>\n      <td>0.882696</td>\n      <td>0.084066</td>\n      <td>NaN</td>\n      <td>NaN</td>\n      <td>NaN</td>\n      <td>NaN</td>\n      <td>NaN</td>\n      <td>NaN</td>\n      <td>NaN</td>\n    </tr>\n    <tr>\n      <th>2</th>\n      <td>15.0</td>\n      <td>0.462364</td>\n      <td>0.882696</td>\n      <td>0.084066</td>\n      <td>NaN</td>\n      <td>NaN</td>\n      <td>NaN</td>\n      <td>NaN</td>\n      <td>NaN</td>\n      <td>NaN</td>\n      <td>NaN</td>\n    </tr>\n    <tr>\n      <th>3</th>\n      <td>37.0</td>\n      <td>0.462364</td>\n      <td>0.882696</td>\n      <td>0.084066</td>\n      <td>NaN</td>\n      <td>NaN</td>\n      <td>NaN</td>\n      <td>NaN</td>\n      <td>NaN</td>\n      <td>NaN</td>\n      <td>NaN</td>\n    </tr>\n    <tr>\n      <th>4</th>\n      <td>43.0</td>\n      <td>0.462364</td>\n      <td>0.882696</td>\n      <td>0.084066</td>\n      <td>NaN</td>\n      <td>NaN</td>\n      <td>NaN</td>\n      <td>NaN</td>\n      <td>NaN</td>\n      <td>NaN</td>\n      <td>NaN</td>\n    </tr>\n  </tbody>\n</table>\n</div>"
     },
     "metadata": {},
     "execution_count": 35
    }
   ],
   "source": []
  },
  {
   "source": [
    "We need to infer , given client and sales data , what's the ranking order of the type of client."
   ],
   "cell_type": "markdown",
   "metadata": {}
  },
  {
   "cell_type": "code",
   "execution_count": 14,
   "metadata": {},
   "outputs": [
    {
     "output_type": "display_data",
     "data": {
      "text/plain": "<Figure size 576x576 with 2 Axes>",
      "image/png": "[encoded data removed]"
     },
     "metadata": {
      "needs_background": "light"
     }
    }
   ],
   "source": [
    "plt.rcParams[\"figure.figsize\"] = (8, 8)\n",
    "plt.matshow(client_salesComparisonDf.corr())\n",
    "\n",
    "plt.xticks(range(len(client_salesComparisonDf.columns)), client_salesComparisonDf.columns)\n",
    "plt.yticks(range(len(client_salesComparisonDf.columns)), client_salesComparisonDf.columns)\n",
    "plt.colorbar()\n",
    "\n",
    "plt.show()"
   ]
  },
  {
   "source": [
    "The number of years of a client is negative correlated with gerencia. So , using common sense , we can say that the longer a client has been subscribed the more status he has and hence represented with a low value ( i.e Rank 1)"
   ],
   "cell_type": "markdown",
   "metadata": {}
  },
  {
   "source": [
    "#### Back to the client\n",
    "Lets again ur data"
   ],
   "cell_type": "markdown",
   "metadata": {}
  },
  {
   "cell_type": "code",
   "execution_count": 15,
   "metadata": {},
   "outputs": [],
   "source": [
    "temp = ((norm_preprocess_client[\"years\"]+norm_preprocess_client[\"tipo\"]).values) #linear combination \n",
    "\n",
    "temp = np.floor(temp*100/(temp.max()))\n",
    "\n",
    "norm_preprocess_client[\"client_score\"]= temp"
   ]
  },
  {
   "cell_type": "code",
   "execution_count": 16,
   "metadata": {},
   "outputs": [
    {
     "output_type": "execute_result",
     "data": {
      "text/plain": [
       "       Cliente     years  gerencia      tipo  client_score\n",
       "0            1  0.463595  0.885044  0.042145          37.0\n",
       "1            9  0.462364  0.882696  0.084066          40.0\n",
       "2           15  0.462364  0.882696  0.084066          40.0\n",
       "3           37  0.462364  0.882696  0.084066          40.0\n",
       "4           43  0.462364  0.882696  0.084066          40.0\n",
       "...        ...       ...       ...       ...           ...\n",
       "15064    15040  0.061898  0.990375  0.123797          13.0\n",
       "15065    15043  0.049690  0.993808  0.099381          11.0\n",
       "15066    15052  0.136083  0.952579  0.272166          30.0\n",
       "15067    15065  0.047351  0.994379  0.094703          10.0\n",
       "15068    15069  0.070535  0.987484  0.141069          15.0\n",
       "\n",
       "[15069 rows x 5 columns]"
      ],
      "text/html": "<div>\n<style scoped>\n    .dataframe tbody tr th:only-of-type {\n        vertical-align: middle;\n    }\n\n    .dataframe tbody tr th {\n        vertical-align: top;\n    }\n\n    .dataframe thead th {\n        text-align: right;\n    }\n</style>\n<table border=\"1\" class=\"dataframe\">\n  <thead>\n    <tr style=\"text-align: right;\">\n      <th></th>\n      <th>Cliente</th>\n      <th>years</th>\n      <th>gerencia</th>\n      <th>tipo</th>\n      <th>client_score</th>\n    </tr>\n  </thead>\n  <tbody>\n    <tr>\n      <th>0</th>\n      <td>1</td>\n      <td>0.463595</td>\n      <td>0.885044</td>\n      <td>0.042145</td>\n      <td>37.0</td>\n    </tr>\n    <tr>\n      <th>1</th>\n      <td>9</td>\n      <td>0.462364</td>\n      <td>0.882696</td>\n      <td>0.084066</td>\n      <td>40.0</td>\n    </tr>\n    <tr>\n      <th>2</th>\n      <td>15</td>\n      <td>0.462364</td>\n      <td>0.882696</td>\n      <td>0.084066</td>\n      <td>40.0</td>\n    </tr>\n    <tr>\n      <th>3</th>\n      <td>37</td>\n      <td>0.462364</td>\n      <td>0.882696</td>\n      <td>0.084066</td>\n      <td>40.0</td>\n    </tr>\n    <tr>\n      <th>4</th>\n      <td>43</td>\n      <td>0.462364</td>\n      <td>0.882696</td>\n      <td>0.084066</td>\n      <td>40.0</td>\n    </tr>\n    <tr>\n      <th>...</th>\n      <td>...</td>\n      <td>...</td>\n      <td>...</td>\n      <td>...</td>\n      <td>...</td>\n    </tr>\n    <tr>\n      <th>15064</th>\n      <td>15040</td>\n      <td>0.061898</td>\n      <td>0.990375</td>\n      <td>0.123797</td>\n      <td>13.0</td>\n    </tr>\n    <tr>\n      <th>15065</th>\n      <td>15043</td>\n      <td>0.049690</td>\n      <td>0.993808</td>\n      <td>0.099381</td>\n      <td>11.0</td>\n    </tr>\n    <tr>\n      <th>15066</th>\n      <td>15052</td>\n      <td>0.136083</td>\n      <td>0.952579</td>\n      <td>0.272166</td>\n      <td>30.0</td>\n    </tr>\n    <tr>\n      <th>15067</th>\n      <td>15065</td>\n      <td>0.047351</td>\n      <td>0.994379</td>\n      <td>0.094703</td>\n      <td>10.0</td>\n    </tr>\n    <tr>\n      <th>15068</th>\n      <td>15069</td>\n      <td>0.070535</td>\n      <td>0.987484</td>\n      <td>0.141069</td>\n      <td>15.0</td>\n    </tr>\n  </tbody>\n</table>\n<p>15069 rows × 5 columns</p>\n</div>"
     },
     "metadata": {},
     "execution_count": 16
    }
   ],
   "source": [
    "norm_preprocess_client"
   ]
  },
  {
   "source": [
    "#### Back to the financials\n",
    "Lets again our data"
   ],
   "cell_type": "markdown",
   "metadata": {}
  },
  {
   "cell_type": "code",
   "execution_count": 17,
   "metadata": {},
   "outputs": [],
   "source": [
    "temp = (norm_preproSalesDf[\"rev\"].values+0.3*norm_preproSalesDf[\"dcto\"].values)\n",
    "temp =np.floor((temp*100)//(temp.max()))\n",
    "norm_preproSalesDf[\"sales_score\"]= temp"
   ]
  },
  {
   "cell_type": "code",
   "execution_count": 18,
   "metadata": {},
   "outputs": [],
   "source": [
    "norm_preproSalesDf[\"token\"] = norm_preproSalesDf[\"Cliente\"].map(lambda x: str(x)) + norm_preproSalesDf[\"Marca\"].map(lambda x: str(x))+norm_preproSalesDf[\"Cupo\"].map(lambda x: str(x)[:-2])"
   ]
  },
  {
   "cell_type": "code",
   "execution_count": 19,
   "metadata": {},
   "outputs": [
    {
     "output_type": "execute_result",
     "data": {
      "text/plain": [
       "           envase  segmento       rev      dcto  Cliente  Marca  Cupo  Mes  \\\n",
       "0        0.000315  0.000315  1.000000  0.000000        1     44  10.0    1   \n",
       "1        0.000020  0.000040  1.000000  0.000000        1     18  16.0    1   \n",
       "2        0.000167  0.000084  0.970561 -0.240855        1      2   6.0    6   \n",
       "3        0.000514  0.001029  0.999999  0.000000        1     37  34.0    7   \n",
       "4        0.000123  0.000062  1.000000  0.000000        1      2  16.0    8   \n",
       "...           ...       ...       ...       ...      ...    ...   ...  ...   \n",
       "1894242  0.000265  0.000529  1.000000  0.000000    15068     44  32.0    8   \n",
       "1894243  0.000159  0.000318  1.000000  0.000000    15069     44  32.0    3   \n",
       "1894244  0.000159  0.000318  1.000000  0.000000    15069     44  32.0    4   \n",
       "1894245  0.000127  0.000064  1.000000  0.000000    15069      2   6.0    4   \n",
       "1894246  0.000062  0.000124  1.000000  0.000000    15069     44  29.0    7   \n",
       "\n",
       "         sales_score      token  \n",
       "0               99.0      14410  \n",
       "1               99.0      11816  \n",
       "2               89.0        126  \n",
       "3               99.0      13734  \n",
       "4               99.0       1216  \n",
       "...              ...        ...  \n",
       "1894242         99.0  150684432  \n",
       "1894243         99.0  150694432  \n",
       "1894244         99.0  150694432  \n",
       "1894245         99.0    1506926  \n",
       "1894246         99.0  150694429  \n",
       "\n",
       "[1894247 rows x 10 columns]"
      ],
      "text/html": "<div>\n<style scoped>\n    .dataframe tbody tr th:only-of-type {\n        vertical-align: middle;\n    }\n\n    .dataframe tbody tr th {\n        vertical-align: top;\n    }\n\n    .dataframe thead th {\n        text-align: right;\n    }\n</style>\n<table border=\"1\" class=\"dataframe\">\n  <thead>\n    <tr style=\"text-align: right;\">\n      <th></th>\n      <th>envase</th>\n      <th>segmento</th>\n      <th>rev</th>\n      <th>dcto</th>\n      <th>Cliente</th>\n      <th>Marca</th>\n      <th>Cupo</th>\n      <th>Mes</th>\n      <th>sales_score</th>\n      <th>token</th>\n    </tr>\n  </thead>\n  <tbody>\n    <tr>\n      <th>0</th>\n      <td>0.000315</td>\n      <td>0.000315</td>\n      <td>1.000000</td>\n      <td>0.000000</td>\n      <td>1</td>\n      <td>44</td>\n      <td>10.0</td>\n      <td>1</td>\n      <td>99.0</td>\n      <td>14410</td>\n    </tr>\n    <tr>\n      <th>1</th>\n      <td>0.000020</td>\n      <td>0.000040</td>\n      <td>1.000000</td>\n      <td>0.000000</td>\n      <td>1</td>\n      <td>18</td>\n      <td>16.0</td>\n      <td>1</td>\n      <td>99.0</td>\n      <td>11816</td>\n    </tr>\n    <tr>\n      <th>2</th>\n      <td>0.000167</td>\n      <td>0.000084</td>\n      <td>0.970561</td>\n      <td>-0.240855</td>\n      <td>1</td>\n      <td>2</td>\n      <td>6.0</td>\n      <td>6</td>\n      <td>89.0</td>\n      <td>126</td>\n    </tr>\n    <tr>\n      <th>3</th>\n      <td>0.000514</td>\n      <td>0.001029</td>\n      <td>0.999999</td>\n      <td>0.000000</td>\n      <td>1</td>\n      <td>37</td>\n      <td>34.0</td>\n      <td>7</td>\n      <td>99.0</td>\n      <td>13734</td>\n    </tr>\n    <tr>\n      <th>4</th>\n      <td>0.000123</td>\n      <td>0.000062</td>\n      <td>1.000000</td>\n      <td>0.000000</td>\n      <td>1</td>\n      <td>2</td>\n      <td>16.0</td>\n      <td>8</td>\n      <td>99.0</td>\n      <td>1216</td>\n    </tr>\n    <tr>\n      <th>...</th>\n      <td>...</td>\n      <td>...</td>\n      <td>...</td>\n      <td>...</td>\n      <td>...</td>\n      <td>...</td>\n      <td>...</td>\n      <td>...</td>\n      <td>...</td>\n      <td>...</td>\n    </tr>\n    <tr>\n      <th>1894242</th>\n      <td>0.000265</td>\n      <td>0.000529</td>\n      <td>1.000000</td>\n      <td>0.000000</td>\n      <td>15068</td>\n      <td>44</td>\n      <td>32.0</td>\n      <td>8</td>\n      <td>99.0</td>\n      <td>150684432</td>\n    </tr>\n    <tr>\n      <th>1894243</th>\n      <td>0.000159</td>\n      <td>0.000318</td>\n      <td>1.000000</td>\n      <td>0.000000</td>\n      <td>15069</td>\n      <td>44</td>\n      <td>32.0</td>\n      <td>3</td>\n      <td>99.0</td>\n      <td>150694432</td>\n    </tr>\n    <tr>\n      <th>1894244</th>\n      <td>0.000159</td>\n      <td>0.000318</td>\n      <td>1.000000</td>\n      <td>0.000000</td>\n      <td>15069</td>\n      <td>44</td>\n      <td>32.0</td>\n      <td>4</td>\n      <td>99.0</td>\n      <td>150694432</td>\n    </tr>\n    <tr>\n      <th>1894245</th>\n      <td>0.000127</td>\n      <td>0.000064</td>\n      <td>1.000000</td>\n      <td>0.000000</td>\n      <td>15069</td>\n      <td>2</td>\n      <td>6.0</td>\n      <td>4</td>\n      <td>99.0</td>\n      <td>1506926</td>\n    </tr>\n    <tr>\n      <th>1894246</th>\n      <td>0.000062</td>\n      <td>0.000124</td>\n      <td>1.000000</td>\n      <td>0.000000</td>\n      <td>15069</td>\n      <td>44</td>\n      <td>29.0</td>\n      <td>7</td>\n      <td>99.0</td>\n      <td>150694429</td>\n    </tr>\n  </tbody>\n</table>\n<p>1894247 rows × 10 columns</p>\n</div>"
     },
     "metadata": {},
     "execution_count": 19
    }
   ],
   "source": [
    "norm_preproSalesDf"
   ]
  },
  {
   "cell_type": "code",
   "execution_count": null,
   "metadata": {},
   "outputs": [],
   "source": []
  },
  {
   "source": [
    "Preprocessing Promos data"
   ],
   "cell_type": "markdown",
   "metadata": {}
  },
  {
   "cell_type": "code",
   "execution_count": 20,
   "metadata": {},
   "outputs": [],
   "source": [
    "executedPromosDf = pd.read_csv(datas[2],encoding=\"latin1\")\n",
    "active_promosDf  = pd.read_csv(datas[3],encoding=\"latin1\")"
   ]
  },
  {
   "cell_type": "code",
   "execution_count": 21,
   "metadata": {},
   "outputs": [
    {
     "output_type": "execute_result",
     "data": {
      "text/plain": [
       "       CodigoDC  Cliente  Marca  Cupo\n",
       "0        297601     8410     29     9\n",
       "1        297601     9337     29     9\n",
       "2        309843     7404     40    16\n",
       "3        309874     4017     40    16\n",
       "4        309910     6316     40    16\n",
       "...         ...      ...    ...   ...\n",
       "27789    651436     9798     39    20\n",
       "27790    651588     2397     39    20\n",
       "27791    651597     4430     40    16\n",
       "27792    651617     7347     39    20\n",
       "27793    652143     1584     40    16\n",
       "\n",
       "[27794 rows x 4 columns]"
      ],
      "text/html": "<div>\n<style scoped>\n    .dataframe tbody tr th:only-of-type {\n        vertical-align: middle;\n    }\n\n    .dataframe tbody tr th {\n        vertical-align: top;\n    }\n\n    .dataframe thead th {\n        text-align: right;\n    }\n</style>\n<table border=\"1\" class=\"dataframe\">\n  <thead>\n    <tr style=\"text-align: right;\">\n      <th></th>\n      <th>CodigoDC</th>\n      <th>Cliente</th>\n      <th>Marca</th>\n      <th>Cupo</th>\n    </tr>\n  </thead>\n  <tbody>\n    <tr>\n      <th>0</th>\n      <td>297601</td>\n      <td>8410</td>\n      <td>29</td>\n      <td>9</td>\n    </tr>\n    <tr>\n      <th>1</th>\n      <td>297601</td>\n      <td>9337</td>\n      <td>29</td>\n      <td>9</td>\n    </tr>\n    <tr>\n      <th>2</th>\n      <td>309843</td>\n      <td>7404</td>\n      <td>40</td>\n      <td>16</td>\n    </tr>\n    <tr>\n      <th>3</th>\n      <td>309874</td>\n      <td>4017</td>\n      <td>40</td>\n      <td>16</td>\n    </tr>\n    <tr>\n      <th>4</th>\n      <td>309910</td>\n      <td>6316</td>\n      <td>40</td>\n      <td>16</td>\n    </tr>\n    <tr>\n      <th>...</th>\n      <td>...</td>\n      <td>...</td>\n      <td>...</td>\n      <td>...</td>\n    </tr>\n    <tr>\n      <th>27789</th>\n      <td>651436</td>\n      <td>9798</td>\n      <td>39</td>\n      <td>20</td>\n    </tr>\n    <tr>\n      <th>27790</th>\n      <td>651588</td>\n      <td>2397</td>\n      <td>39</td>\n      <td>20</td>\n    </tr>\n    <tr>\n      <th>27791</th>\n      <td>651597</td>\n      <td>4430</td>\n      <td>40</td>\n      <td>16</td>\n    </tr>\n    <tr>\n      <th>27792</th>\n      <td>651617</td>\n      <td>7347</td>\n      <td>39</td>\n      <td>20</td>\n    </tr>\n    <tr>\n      <th>27793</th>\n      <td>652143</td>\n      <td>1584</td>\n      <td>40</td>\n      <td>16</td>\n    </tr>\n  </tbody>\n</table>\n<p>27794 rows × 4 columns</p>\n</div>"
     },
     "metadata": {},
     "execution_count": 21
    }
   ],
   "source": [
    "executedPromosDf"
   ]
  },
  {
   "cell_type": "code",
   "execution_count": 22,
   "metadata": {},
   "outputs": [],
   "source": [
    "executedPromosDf[\"token\"] = executedPromosDf[\"Cliente\"].map(lambda x: str(x)) + executedPromosDf[\"Marca\"].map(lambda x: str(x))+executedPromosDf[\"Cupo\"].map(lambda x: str(x))"
   ]
  },
  {
   "cell_type": "code",
   "execution_count": 23,
   "metadata": {},
   "outputs": [],
   "source": [
    "executedPromosDf[\"executed\"]= \"yes\""
   ]
  },
  {
   "cell_type": "code",
   "execution_count": 24,
   "metadata": {},
   "outputs": [],
   "source": [
    "index_executedPromosDf=executedPromosDf[[\"token\",\"executed\"]]"
   ]
  },
  {
   "cell_type": "code",
   "execution_count": 25,
   "metadata": {},
   "outputs": [],
   "source": [
    "index_executedPromosDf.dropna(inplace=True)"
   ]
  },
  {
   "cell_type": "code",
   "execution_count": 26,
   "metadata": {},
   "outputs": [
    {
     "output_type": "execute_result",
     "data": {
      "text/plain": [
       "          token executed\n",
       "0       8410299      yes\n",
       "1       9337299      yes\n",
       "2      74044016      yes\n",
       "3      40174016      yes\n",
       "4      63164016      yes\n",
       "...         ...      ...\n",
       "27789  97983920      yes\n",
       "27790  23973920      yes\n",
       "27791  44304016      yes\n",
       "27792  73473920      yes\n",
       "27793  15844016      yes\n",
       "\n",
       "[27794 rows x 2 columns]"
      ],
      "text/html": "<div>\n<style scoped>\n    .dataframe tbody tr th:only-of-type {\n        vertical-align: middle;\n    }\n\n    .dataframe tbody tr th {\n        vertical-align: top;\n    }\n\n    .dataframe thead th {\n        text-align: right;\n    }\n</style>\n<table border=\"1\" class=\"dataframe\">\n  <thead>\n    <tr style=\"text-align: right;\">\n      <th></th>\n      <th>token</th>\n      <th>executed</th>\n    </tr>\n  </thead>\n  <tbody>\n    <tr>\n      <th>0</th>\n      <td>8410299</td>\n      <td>yes</td>\n    </tr>\n    <tr>\n      <th>1</th>\n      <td>9337299</td>\n      <td>yes</td>\n    </tr>\n    <tr>\n      <th>2</th>\n      <td>74044016</td>\n      <td>yes</td>\n    </tr>\n    <tr>\n      <th>3</th>\n      <td>40174016</td>\n      <td>yes</td>\n    </tr>\n    <tr>\n      <th>4</th>\n      <td>63164016</td>\n      <td>yes</td>\n    </tr>\n    <tr>\n      <th>...</th>\n      <td>...</td>\n      <td>...</td>\n    </tr>\n    <tr>\n      <th>27789</th>\n      <td>97983920</td>\n      <td>yes</td>\n    </tr>\n    <tr>\n      <th>27790</th>\n      <td>23973920</td>\n      <td>yes</td>\n    </tr>\n    <tr>\n      <th>27791</th>\n      <td>44304016</td>\n      <td>yes</td>\n    </tr>\n    <tr>\n      <th>27792</th>\n      <td>73473920</td>\n      <td>yes</td>\n    </tr>\n    <tr>\n      <th>27793</th>\n      <td>15844016</td>\n      <td>yes</td>\n    </tr>\n  </tbody>\n</table>\n<p>27794 rows × 2 columns</p>\n</div>"
     },
     "metadata": {},
     "execution_count": 26
    }
   ],
   "source": [
    "index_executedPromosDf"
   ]
  },
  {
   "cell_type": "code",
   "execution_count": 27,
   "metadata": {},
   "outputs": [
    {
     "output_type": "execute_result",
     "data": {
      "text/plain": [
       "     token executed\n",
       "0  8410299      yes"
      ],
      "text/html": "<div>\n<style scoped>\n    .dataframe tbody tr th:only-of-type {\n        vertical-align: middle;\n    }\n\n    .dataframe tbody tr th {\n        vertical-align: top;\n    }\n\n    .dataframe thead th {\n        text-align: right;\n    }\n</style>\n<table border=\"1\" class=\"dataframe\">\n  <thead>\n    <tr style=\"text-align: right;\">\n      <th></th>\n      <th>token</th>\n      <th>executed</th>\n    </tr>\n  </thead>\n  <tbody>\n    <tr>\n      <th>0</th>\n      <td>8410299</td>\n      <td>yes</td>\n    </tr>\n  </tbody>\n</table>\n</div>"
     },
     "metadata": {},
     "execution_count": 27
    }
   ],
   "source": [
    "index_executedPromosDf.head(1)"
   ]
  },
  {
   "cell_type": "code",
   "execution_count": 28,
   "metadata": {},
   "outputs": [
    {
     "output_type": "execute_result",
     "data": {
      "text/plain": [
       "   Cliente     years  gerencia      tipo  client_score\n",
       "0        1  0.463595  0.885044  0.042145          37.0"
      ],
      "text/html": "<div>\n<style scoped>\n    .dataframe tbody tr th:only-of-type {\n        vertical-align: middle;\n    }\n\n    .dataframe tbody tr th {\n        vertical-align: top;\n    }\n\n    .dataframe thead th {\n        text-align: right;\n    }\n</style>\n<table border=\"1\" class=\"dataframe\">\n  <thead>\n    <tr style=\"text-align: right;\">\n      <th></th>\n      <th>Cliente</th>\n      <th>years</th>\n      <th>gerencia</th>\n      <th>tipo</th>\n      <th>client_score</th>\n    </tr>\n  </thead>\n  <tbody>\n    <tr>\n      <th>0</th>\n      <td>1</td>\n      <td>0.463595</td>\n      <td>0.885044</td>\n      <td>0.042145</td>\n      <td>37.0</td>\n    </tr>\n  </tbody>\n</table>\n</div>"
     },
     "metadata": {},
     "execution_count": 28
    }
   ],
   "source": [
    "norm_preprocess_client.head(1)"
   ]
  },
  {
   "cell_type": "code",
   "execution_count": 29,
   "metadata": {},
   "outputs": [
    {
     "output_type": "execute_result",
     "data": {
      "text/plain": [
       "     envase  segmento  rev  dcto  Cliente  Marca  Cupo  Mes  sales_score  \\\n",
       "0  0.000315  0.000315  1.0   0.0        1     44  10.0    1         99.0   \n",
       "\n",
       "   token  \n",
       "0  14410  "
      ],
      "text/html": "<div>\n<style scoped>\n    .dataframe tbody tr th:only-of-type {\n        vertical-align: middle;\n    }\n\n    .dataframe tbody tr th {\n        vertical-align: top;\n    }\n\n    .dataframe thead th {\n        text-align: right;\n    }\n</style>\n<table border=\"1\" class=\"dataframe\">\n  <thead>\n    <tr style=\"text-align: right;\">\n      <th></th>\n      <th>envase</th>\n      <th>segmento</th>\n      <th>rev</th>\n      <th>dcto</th>\n      <th>Cliente</th>\n      <th>Marca</th>\n      <th>Cupo</th>\n      <th>Mes</th>\n      <th>sales_score</th>\n      <th>token</th>\n    </tr>\n  </thead>\n  <tbody>\n    <tr>\n      <th>0</th>\n      <td>0.000315</td>\n      <td>0.000315</td>\n      <td>1.0</td>\n      <td>0.0</td>\n      <td>1</td>\n      <td>44</td>\n      <td>10.0</td>\n      <td>1</td>\n      <td>99.0</td>\n      <td>14410</td>\n    </tr>\n  </tbody>\n</table>\n</div>"
     },
     "metadata": {},
     "execution_count": 29
    }
   ],
   "source": [
    "norm_preproSalesDf.head(1)"
   ]
  },
  {
   "cell_type": "code",
   "execution_count": 32,
   "metadata": {},
   "outputs": [],
   "source": [
    "index_executedPromosGroupedDf=index_executedPromosDf.groupby(\"token\",as_index=False).count()"
   ]
  },
  {
   "cell_type": "code",
   "execution_count": 33,
   "metadata": {},
   "outputs": [],
   "source": [
    "consolidatedSalesDf=norm_preproSalesDf.merge(index_executedPromosGroupedDf,on=\"token\",how=\"outer\").fillna(0)"
   ]
  },
  {
   "cell_type": "code",
   "execution_count": 34,
   "metadata": {},
   "outputs": [
    {
     "output_type": "execute_result",
     "data": {
      "text/plain": [
       "           envase  segmento       rev     dcto  Cliente  Marca  Cupo   Mes  \\\n",
       "0        0.000315  0.000315  1.000000  0.00000      1.0   44.0  10.0   1.0   \n",
       "1        0.000020  0.000040  1.000000  0.00000      1.0   18.0  16.0   1.0   \n",
       "2        0.000037  0.000074  0.820978 -0.57096      1.0   18.0  16.0   7.0   \n",
       "3        0.000100  0.000199  1.000000  0.00000      1.0   18.0  16.0  11.0   \n",
       "4        0.000049  0.000097  1.000000  0.00000      1.0   18.0  16.0   4.0   \n",
       "...           ...       ...       ...      ...      ...    ...   ...   ...   \n",
       "1894413  0.000000  0.000000  0.000000  0.00000      0.0    0.0   0.0   0.0   \n",
       "1894414  0.000000  0.000000  0.000000  0.00000      0.0    0.0   0.0   0.0   \n",
       "1894415  0.000000  0.000000  0.000000  0.00000      0.0    0.0   0.0   0.0   \n",
       "1894416  0.000000  0.000000  0.000000  0.00000      0.0    0.0   0.0   0.0   \n",
       "1894417  0.000000  0.000000  0.000000  0.00000      0.0    0.0   0.0   0.0   \n",
       "\n",
       "         sales_score     token  executed  \n",
       "0               99.0     14410       0.0  \n",
       "1               99.0     11816       0.0  \n",
       "2               64.0     11816       0.0  \n",
       "3               99.0     11816       0.0  \n",
       "4               99.0     11816       0.0  \n",
       "...              ...       ...       ...  \n",
       "1894413          0.0  97334016       1.0  \n",
       "1894414          0.0  98044016       1.0  \n",
       "1894415          0.0  98734016       1.0  \n",
       "1894416          0.0  99244016       1.0  \n",
       "1894417          0.0  99604016       1.0  \n",
       "\n",
       "[1894418 rows x 11 columns]"
      ],
      "text/html": "<div>\n<style scoped>\n    .dataframe tbody tr th:only-of-type {\n        vertical-align: middle;\n    }\n\n    .dataframe tbody tr th {\n        vertical-align: top;\n    }\n\n    .dataframe thead th {\n        text-align: right;\n    }\n</style>\n<table border=\"1\" class=\"dataframe\">\n  <thead>\n    <tr style=\"text-align: right;\">\n      <th></th>\n      <th>envase</th>\n      <th>segmento</th>\n      <th>rev</th>\n      <th>dcto</th>\n      <th>Cliente</th>\n      <th>Marca</th>\n      <th>Cupo</th>\n      <th>Mes</th>\n      <th>sales_score</th>\n      <th>token</th>\n      <th>executed</th>\n    </tr>\n  </thead>\n  <tbody>\n    <tr>\n      <th>0</th>\n      <td>0.000315</td>\n      <td>0.000315</td>\n      <td>1.000000</td>\n      <td>0.00000</td>\n      <td>1.0</td>\n      <td>44.0</td>\n      <td>10.0</td>\n      <td>1.0</td>\n      <td>99.0</td>\n      <td>14410</td>\n      <td>0.0</td>\n    </tr>\n    <tr>\n      <th>1</th>\n      <td>0.000020</td>\n      <td>0.000040</td>\n      <td>1.000000</td>\n      <td>0.00000</td>\n      <td>1.0</td>\n      <td>18.0</td>\n      <td>16.0</td>\n      <td>1.0</td>\n      <td>99.0</td>\n      <td>11816</td>\n      <td>0.0</td>\n    </tr>\n    <tr>\n      <th>2</th>\n      <td>0.000037</td>\n      <td>0.000074</td>\n      <td>0.820978</td>\n      <td>-0.57096</td>\n      <td>1.0</td>\n      <td>18.0</td>\n      <td>16.0</td>\n      <td>7.0</td>\n      <td>64.0</td>\n      <td>11816</td>\n      <td>0.0</td>\n    </tr>\n    <tr>\n      <th>3</th>\n      <td>0.000100</td>\n      <td>0.000199</td>\n      <td>1.000000</td>\n      <td>0.00000</td>\n      <td>1.0</td>\n      <td>18.0</td>\n      <td>16.0</td>\n      <td>11.0</td>\n      <td>99.0</td>\n      <td>11816</td>\n      <td>0.0</td>\n    </tr>\n    <tr>\n      <th>4</th>\n      <td>0.000049</td>\n      <td>0.000097</td>\n      <td>1.000000</td>\n      <td>0.00000</td>\n      <td>1.0</td>\n      <td>18.0</td>\n      <td>16.0</td>\n      <td>4.0</td>\n      <td>99.0</td>\n      <td>11816</td>\n      <td>0.0</td>\n    </tr>\n    <tr>\n      <th>...</th>\n      <td>...</td>\n      <td>...</td>\n      <td>...</td>\n      <td>...</td>\n      <td>...</td>\n      <td>...</td>\n      <td>...</td>\n      <td>...</td>\n      <td>...</td>\n      <td>...</td>\n      <td>...</td>\n    </tr>\n    <tr>\n      <th>1894413</th>\n      <td>0.000000</td>\n      <td>0.000000</td>\n      <td>0.000000</td>\n      <td>0.00000</td>\n      <td>0.0</td>\n      <td>0.0</td>\n      <td>0.0</td>\n      <td>0.0</td>\n      <td>0.0</td>\n      <td>97334016</td>\n      <td>1.0</td>\n    </tr>\n    <tr>\n      <th>1894414</th>\n      <td>0.000000</td>\n      <td>0.000000</td>\n      <td>0.000000</td>\n      <td>0.00000</td>\n      <td>0.0</td>\n      <td>0.0</td>\n      <td>0.0</td>\n      <td>0.0</td>\n      <td>0.0</td>\n      <td>98044016</td>\n      <td>1.0</td>\n    </tr>\n    <tr>\n      <th>1894415</th>\n      <td>0.000000</td>\n      <td>0.000000</td>\n      <td>0.000000</td>\n      <td>0.00000</td>\n      <td>0.0</td>\n      <td>0.0</td>\n      <td>0.0</td>\n      <td>0.0</td>\n      <td>0.0</td>\n      <td>98734016</td>\n      <td>1.0</td>\n    </tr>\n    <tr>\n      <th>1894416</th>\n      <td>0.000000</td>\n      <td>0.000000</td>\n      <td>0.000000</td>\n      <td>0.00000</td>\n      <td>0.0</td>\n      <td>0.0</td>\n      <td>0.0</td>\n      <td>0.0</td>\n      <td>0.0</td>\n      <td>99244016</td>\n      <td>1.0</td>\n    </tr>\n    <tr>\n      <th>1894417</th>\n      <td>0.000000</td>\n      <td>0.000000</td>\n      <td>0.000000</td>\n      <td>0.00000</td>\n      <td>0.0</td>\n      <td>0.0</td>\n      <td>0.0</td>\n      <td>0.0</td>\n      <td>0.0</td>\n      <td>99604016</td>\n      <td>1.0</td>\n    </tr>\n  </tbody>\n</table>\n<p>1894418 rows × 11 columns</p>\n</div>"
     },
     "metadata": {},
     "execution_count": 34
    }
   ],
   "source": [
    "consolidatedSalesDf"
   ]
  },
  {
   "cell_type": "code",
   "execution_count": null,
   "metadata": {},
   "outputs": [],
   "source": []
  },
  {
   "cell_type": "code",
   "execution_count": 35,
   "metadata": {},
   "outputs": [],
   "source": [
    "consolidatedSalesDf=consolidatedSalesDf[[\"token\",\"Mes\",\"executed\",\"Cliente\",\"Marca\",\"Cupo\",\"envase\",\"segmento\",\"rev\",\t \"dcto\",\"sales_score\"]]"
   ]
  },
  {
   "cell_type": "code",
   "execution_count": 36,
   "metadata": {},
   "outputs": [],
   "source": [
    "consolidatedSalesDf=consolidatedSalesDf[consolidatedSalesDf[\"Cliente\"]!=0]"
   ]
  },
  {
   "cell_type": "code",
   "execution_count": 37,
   "metadata": {},
   "outputs": [
    {
     "output_type": "execute_result",
     "data": {
      "text/plain": [
       "   token   Mes  executed  Cliente  Marca  Cupo    envase  segmento       rev  \\\n",
       "0  14410   1.0       0.0      1.0   44.0  10.0  0.000315  0.000315  1.000000   \n",
       "1  11816   1.0       0.0      1.0   18.0  16.0  0.000020  0.000040  1.000000   \n",
       "2  11816   7.0       0.0      1.0   18.0  16.0  0.000037  0.000074  0.820978   \n",
       "3  11816  11.0       0.0      1.0   18.0  16.0  0.000100  0.000199  1.000000   \n",
       "4  11816   4.0       0.0      1.0   18.0  16.0  0.000049  0.000097  1.000000   \n",
       "\n",
       "      dcto  sales_score  \n",
       "0  0.00000         99.0  \n",
       "1  0.00000         99.0  \n",
       "2 -0.57096         64.0  \n",
       "3  0.00000         99.0  \n",
       "4  0.00000         99.0  "
      ],
      "text/html": "<div>\n<style scoped>\n    .dataframe tbody tr th:only-of-type {\n        vertical-align: middle;\n    }\n\n    .dataframe tbody tr th {\n        vertical-align: top;\n    }\n\n    .dataframe thead th {\n        text-align: right;\n    }\n</style>\n<table border=\"1\" class=\"dataframe\">\n  <thead>\n    <tr style=\"text-align: right;\">\n      <th></th>\n      <th>token</th>\n      <th>Mes</th>\n      <th>executed</th>\n      <th>Cliente</th>\n      <th>Marca</th>\n      <th>Cupo</th>\n      <th>envase</th>\n      <th>segmento</th>\n      <th>rev</th>\n      <th>dcto</th>\n      <th>sales_score</th>\n    </tr>\n  </thead>\n  <tbody>\n    <tr>\n      <th>0</th>\n      <td>14410</td>\n      <td>1.0</td>\n      <td>0.0</td>\n      <td>1.0</td>\n      <td>44.0</td>\n      <td>10.0</td>\n      <td>0.000315</td>\n      <td>0.000315</td>\n      <td>1.000000</td>\n      <td>0.00000</td>\n      <td>99.0</td>\n    </tr>\n    <tr>\n      <th>1</th>\n      <td>11816</td>\n      <td>1.0</td>\n      <td>0.0</td>\n      <td>1.0</td>\n      <td>18.0</td>\n      <td>16.0</td>\n      <td>0.000020</td>\n      <td>0.000040</td>\n      <td>1.000000</td>\n      <td>0.00000</td>\n      <td>99.0</td>\n    </tr>\n    <tr>\n      <th>2</th>\n      <td>11816</td>\n      <td>7.0</td>\n      <td>0.0</td>\n      <td>1.0</td>\n      <td>18.0</td>\n      <td>16.0</td>\n      <td>0.000037</td>\n      <td>0.000074</td>\n      <td>0.820978</td>\n      <td>-0.57096</td>\n      <td>64.0</td>\n    </tr>\n    <tr>\n      <th>3</th>\n      <td>11816</td>\n      <td>11.0</td>\n      <td>0.0</td>\n      <td>1.0</td>\n      <td>18.0</td>\n      <td>16.0</td>\n      <td>0.000100</td>\n      <td>0.000199</td>\n      <td>1.000000</td>\n      <td>0.00000</td>\n      <td>99.0</td>\n    </tr>\n    <tr>\n      <th>4</th>\n      <td>11816</td>\n      <td>4.0</td>\n      <td>0.0</td>\n      <td>1.0</td>\n      <td>18.0</td>\n      <td>16.0</td>\n      <td>0.000049</td>\n      <td>0.000097</td>\n      <td>1.000000</td>\n      <td>0.00000</td>\n      <td>99.0</td>\n    </tr>\n  </tbody>\n</table>\n</div>"
     },
     "metadata": {},
     "execution_count": 37
    }
   ],
   "source": [
    "consolidatedSalesDf.head()"
   ]
  },
  {
   "cell_type": "code",
   "execution_count": 38,
   "metadata": {},
   "outputs": [],
   "source": [
    "active_promosDf  = pd.read_csv(datas[3],encoding=\"latin1\")"
   ]
  },
  {
   "cell_type": "code",
   "execution_count": 39,
   "metadata": {},
   "outputs": [],
   "source": [
    "active_promosDf[\"token\"] = active_promosDf[\"Cliente\"].map(lambda x: str(x)) + active_promosDf[\"Marca\"].map(lambda x: str(x))+active_promosDf[\"Cupo\"].map(lambda x: str(x))"
   ]
  },
  {
   "cell_type": "code",
   "execution_count": 40,
   "metadata": {},
   "outputs": [
    {
     "output_type": "execute_result",
     "data": {
      "text/plain": [
       "        CodigoDC  Marca  Cupo Fecha_Desde Fecha_Hasta  Cliente      token\n",
       "0         297601     29     9  2018-08-06  2018-08-30     3213    3213299\n",
       "1         297601     29     9  2018-08-06  2018-08-30     3795    3795299\n",
       "2         297601     29     9  2018-08-06  2018-08-30    11816   11816299\n",
       "3         298856     40    16  2018-08-12  2018-08-19     8444   84444016\n",
       "4         309916     40    16  2018-08-12  2018-08-19     8488   84884016\n",
       "...          ...    ...   ...         ...         ...      ...        ...\n",
       "422432    688354     40    16  2019-09-25  2019-09-26    14435  144354016\n",
       "422433    688355     29     9  2019-09-25  2019-09-26      320     320299\n",
       "422434    688355     29     9  2019-09-25  2019-09-26     3117    3117299\n",
       "422435    688355     29     9  2019-09-25  2019-09-26     3503    3503299\n",
       "422436    688355     29     9  2019-09-25  2019-09-26     6372    6372299\n",
       "\n",
       "[422437 rows x 7 columns]"
      ],
      "text/html": "<div>\n<style scoped>\n    .dataframe tbody tr th:only-of-type {\n        vertical-align: middle;\n    }\n\n    .dataframe tbody tr th {\n        vertical-align: top;\n    }\n\n    .dataframe thead th {\n        text-align: right;\n    }\n</style>\n<table border=\"1\" class=\"dataframe\">\n  <thead>\n    <tr style=\"text-align: right;\">\n      <th></th>\n      <th>CodigoDC</th>\n      <th>Marca</th>\n      <th>Cupo</th>\n      <th>Fecha_Desde</th>\n      <th>Fecha_Hasta</th>\n      <th>Cliente</th>\n      <th>token</th>\n    </tr>\n  </thead>\n  <tbody>\n    <tr>\n      <th>0</th>\n      <td>297601</td>\n      <td>29</td>\n      <td>9</td>\n      <td>2018-08-06</td>\n      <td>2018-08-30</td>\n      <td>3213</td>\n      <td>3213299</td>\n    </tr>\n    <tr>\n      <th>1</th>\n      <td>297601</td>\n      <td>29</td>\n      <td>9</td>\n      <td>2018-08-06</td>\n      <td>2018-08-30</td>\n      <td>3795</td>\n      <td>3795299</td>\n    </tr>\n    <tr>\n      <th>2</th>\n      <td>297601</td>\n      <td>29</td>\n      <td>9</td>\n      <td>2018-08-06</td>\n      <td>2018-08-30</td>\n      <td>11816</td>\n      <td>11816299</td>\n    </tr>\n    <tr>\n      <th>3</th>\n      <td>298856</td>\n      <td>40</td>\n      <td>16</td>\n      <td>2018-08-12</td>\n      <td>2018-08-19</td>\n      <td>8444</td>\n      <td>84444016</td>\n    </tr>\n    <tr>\n      <th>4</th>\n      <td>309916</td>\n      <td>40</td>\n      <td>16</td>\n      <td>2018-08-12</td>\n      <td>2018-08-19</td>\n      <td>8488</td>\n      <td>84884016</td>\n    </tr>\n    <tr>\n      <th>...</th>\n      <td>...</td>\n      <td>...</td>\n      <td>...</td>\n      <td>...</td>\n      <td>...</td>\n      <td>...</td>\n      <td>...</td>\n    </tr>\n    <tr>\n      <th>422432</th>\n      <td>688354</td>\n      <td>40</td>\n      <td>16</td>\n      <td>2019-09-25</td>\n      <td>2019-09-26</td>\n      <td>14435</td>\n      <td>144354016</td>\n    </tr>\n    <tr>\n      <th>422433</th>\n      <td>688355</td>\n      <td>29</td>\n      <td>9</td>\n      <td>2019-09-25</td>\n      <td>2019-09-26</td>\n      <td>320</td>\n      <td>320299</td>\n    </tr>\n    <tr>\n      <th>422434</th>\n      <td>688355</td>\n      <td>29</td>\n      <td>9</td>\n      <td>2019-09-25</td>\n      <td>2019-09-26</td>\n      <td>3117</td>\n      <td>3117299</td>\n    </tr>\n    <tr>\n      <th>422435</th>\n      <td>688355</td>\n      <td>29</td>\n      <td>9</td>\n      <td>2019-09-25</td>\n      <td>2019-09-26</td>\n      <td>3503</td>\n      <td>3503299</td>\n    </tr>\n    <tr>\n      <th>422436</th>\n      <td>688355</td>\n      <td>29</td>\n      <td>9</td>\n      <td>2019-09-25</td>\n      <td>2019-09-26</td>\n      <td>6372</td>\n      <td>6372299</td>\n    </tr>\n  </tbody>\n</table>\n<p>422437 rows × 7 columns</p>\n</div>"
     },
     "metadata": {},
     "execution_count": 40
    }
   ],
   "source": [
    "active_promosDf"
   ]
  },
  {
   "cell_type": "code",
   "execution_count": 41,
   "metadata": {},
   "outputs": [
    {
     "output_type": "execute_result",
     "data": {
      "text/plain": [
       "         CodigoDC  Cliente_x  Marca_x  Cupo_x  token_x executed  Marca_y  \\\n",
       "0          297601     8410.0     29.0     9.0  8410299      yes       29   \n",
       "1          297601     8410.0     29.0     9.0  8410299      yes       29   \n",
       "2          297601     8410.0     29.0     9.0  8410299      yes       29   \n",
       "3          297601     8410.0     29.0     9.0  8410299      yes       29   \n",
       "4          297601     8410.0     29.0     9.0  8410299      yes       29   \n",
       "...           ...        ...      ...     ...      ...      ...      ...   \n",
       "9686334    687322        NaN      NaN     NaN      NaN      NaN       40   \n",
       "9686335    687694        NaN      NaN     NaN      NaN      NaN       39   \n",
       "9686336    687694        NaN      NaN     NaN      NaN      NaN       40   \n",
       "9686337    687704        NaN      NaN     NaN      NaN      NaN       39   \n",
       "9686338    687704        NaN      NaN     NaN      NaN      NaN       40   \n",
       "\n",
       "         Cupo_y Fecha_Desde Fecha_Hasta  Cliente_y   token_y  \n",
       "0             9  2018-08-06  2018-08-30       3213   3213299  \n",
       "1             9  2018-08-06  2018-08-30       3795   3795299  \n",
       "2             9  2018-08-06  2018-08-30      11816  11816299  \n",
       "3             9  2018-08-06  2018-08-30       6106   6106299  \n",
       "4             9  2018-08-06  2018-08-30       8157   8157299  \n",
       "...         ...         ...         ...        ...       ...  \n",
       "9686334      16  2019-09-22  2019-09-22       9774  97744016  \n",
       "9686335      20  2019-09-22  2019-09-22       8584  85843920  \n",
       "9686336      16  2019-09-22  2019-09-22       8584  85844016  \n",
       "9686337      20  2019-09-22  2019-09-22       2632  26323920  \n",
       "9686338      16  2019-09-22  2019-09-22       2632  26324016  \n",
       "\n",
       "[9686339 rows x 12 columns]"
      ],
      "text/html": "<div>\n<style scoped>\n    .dataframe tbody tr th:only-of-type {\n        vertical-align: middle;\n    }\n\n    .dataframe tbody tr th {\n        vertical-align: top;\n    }\n\n    .dataframe thead th {\n        text-align: right;\n    }\n</style>\n<table border=\"1\" class=\"dataframe\">\n  <thead>\n    <tr style=\"text-align: right;\">\n      <th></th>\n      <th>CodigoDC</th>\n      <th>Cliente_x</th>\n      <th>Marca_x</th>\n      <th>Cupo_x</th>\n      <th>token_x</th>\n      <th>executed</th>\n      <th>Marca_y</th>\n      <th>Cupo_y</th>\n      <th>Fecha_Desde</th>\n      <th>Fecha_Hasta</th>\n      <th>Cliente_y</th>\n      <th>token_y</th>\n    </tr>\n  </thead>\n  <tbody>\n    <tr>\n      <th>0</th>\n      <td>297601</td>\n      <td>8410.0</td>\n      <td>29.0</td>\n      <td>9.0</td>\n      <td>8410299</td>\n      <td>yes</td>\n      <td>29</td>\n      <td>9</td>\n      <td>2018-08-06</td>\n      <td>2018-08-30</td>\n      <td>3213</td>\n      <td>3213299</td>\n    </tr>\n    <tr>\n      <th>1</th>\n      <td>297601</td>\n      <td>8410.0</td>\n      <td>29.0</td>\n      <td>9.0</td>\n      <td>8410299</td>\n      <td>yes</td>\n      <td>29</td>\n      <td>9</td>\n      <td>2018-08-06</td>\n      <td>2018-08-30</td>\n      <td>3795</td>\n      <td>3795299</td>\n    </tr>\n    <tr>\n      <th>2</th>\n      <td>297601</td>\n      <td>8410.0</td>\n      <td>29.0</td>\n      <td>9.0</td>\n      <td>8410299</td>\n      <td>yes</td>\n      <td>29</td>\n      <td>9</td>\n      <td>2018-08-06</td>\n      <td>2018-08-30</td>\n      <td>11816</td>\n      <td>11816299</td>\n    </tr>\n    <tr>\n      <th>3</th>\n      <td>297601</td>\n      <td>8410.0</td>\n      <td>29.0</td>\n      <td>9.0</td>\n      <td>8410299</td>\n      <td>yes</td>\n      <td>29</td>\n      <td>9</td>\n      <td>2018-08-06</td>\n      <td>2018-08-30</td>\n      <td>6106</td>\n      <td>6106299</td>\n    </tr>\n    <tr>\n      <th>4</th>\n      <td>297601</td>\n      <td>8410.0</td>\n      <td>29.0</td>\n      <td>9.0</td>\n      <td>8410299</td>\n      <td>yes</td>\n      <td>29</td>\n      <td>9</td>\n      <td>2018-08-06</td>\n      <td>2018-08-30</td>\n      <td>8157</td>\n      <td>8157299</td>\n    </tr>\n    <tr>\n      <th>...</th>\n      <td>...</td>\n      <td>...</td>\n      <td>...</td>\n      <td>...</td>\n      <td>...</td>\n      <td>...</td>\n      <td>...</td>\n      <td>...</td>\n      <td>...</td>\n      <td>...</td>\n      <td>...</td>\n      <td>...</td>\n    </tr>\n    <tr>\n      <th>9686334</th>\n      <td>687322</td>\n      <td>NaN</td>\n      <td>NaN</td>\n      <td>NaN</td>\n      <td>NaN</td>\n      <td>NaN</td>\n      <td>40</td>\n      <td>16</td>\n      <td>2019-09-22</td>\n      <td>2019-09-22</td>\n      <td>9774</td>\n      <td>97744016</td>\n    </tr>\n    <tr>\n      <th>9686335</th>\n      <td>687694</td>\n      <td>NaN</td>\n      <td>NaN</td>\n      <td>NaN</td>\n      <td>NaN</td>\n      <td>NaN</td>\n      <td>39</td>\n      <td>20</td>\n      <td>2019-09-22</td>\n      <td>2019-09-22</td>\n      <td>8584</td>\n      <td>85843920</td>\n    </tr>\n    <tr>\n      <th>9686336</th>\n      <td>687694</td>\n      <td>NaN</td>\n      <td>NaN</td>\n      <td>NaN</td>\n      <td>NaN</td>\n      <td>NaN</td>\n      <td>40</td>\n      <td>16</td>\n      <td>2019-09-22</td>\n      <td>2019-09-22</td>\n      <td>8584</td>\n      <td>85844016</td>\n    </tr>\n    <tr>\n      <th>9686337</th>\n      <td>687704</td>\n      <td>NaN</td>\n      <td>NaN</td>\n      <td>NaN</td>\n      <td>NaN</td>\n      <td>NaN</td>\n      <td>39</td>\n      <td>20</td>\n      <td>2019-09-22</td>\n      <td>2019-09-22</td>\n      <td>2632</td>\n      <td>26323920</td>\n    </tr>\n    <tr>\n      <th>9686338</th>\n      <td>687704</td>\n      <td>NaN</td>\n      <td>NaN</td>\n      <td>NaN</td>\n      <td>NaN</td>\n      <td>NaN</td>\n      <td>40</td>\n      <td>16</td>\n      <td>2019-09-22</td>\n      <td>2019-09-22</td>\n      <td>2632</td>\n      <td>26324016</td>\n    </tr>\n  </tbody>\n</table>\n<p>9686339 rows × 12 columns</p>\n</div>"
     },
     "metadata": {},
     "execution_count": 41
    }
   ],
   "source": [
    "executedPromosDf.merge(active_promosDf,on=\"CodigoDC\",how=\"outer\")"
   ]
  },
  {
   "cell_type": "code",
   "execution_count": 42,
   "metadata": {},
   "outputs": [
    {
     "output_type": "execute_result",
     "data": {
      "text/plain": [
       "   token   Mes  executed  Cliente  Marca  Cupo    envase  segmento       rev  \\\n",
       "0  14410   1.0       0.0      1.0   44.0  10.0  0.000315  0.000315  1.000000   \n",
       "1  11816   1.0       0.0      1.0   18.0  16.0  0.000020  0.000040  1.000000   \n",
       "2  11816   7.0       0.0      1.0   18.0  16.0  0.000037  0.000074  0.820978   \n",
       "3  11816  11.0       0.0      1.0   18.0  16.0  0.000100  0.000199  1.000000   \n",
       "4  11816   4.0       0.0      1.0   18.0  16.0  0.000049  0.000097  1.000000   \n",
       "\n",
       "      dcto  sales_score  \n",
       "0  0.00000         99.0  \n",
       "1  0.00000         99.0  \n",
       "2 -0.57096         64.0  \n",
       "3  0.00000         99.0  \n",
       "4  0.00000         99.0  "
      ],
      "text/html": "<div>\n<style scoped>\n    .dataframe tbody tr th:only-of-type {\n        vertical-align: middle;\n    }\n\n    .dataframe tbody tr th {\n        vertical-align: top;\n    }\n\n    .dataframe thead th {\n        text-align: right;\n    }\n</style>\n<table border=\"1\" class=\"dataframe\">\n  <thead>\n    <tr style=\"text-align: right;\">\n      <th></th>\n      <th>token</th>\n      <th>Mes</th>\n      <th>executed</th>\n      <th>Cliente</th>\n      <th>Marca</th>\n      <th>Cupo</th>\n      <th>envase</th>\n      <th>segmento</th>\n      <th>rev</th>\n      <th>dcto</th>\n      <th>sales_score</th>\n    </tr>\n  </thead>\n  <tbody>\n    <tr>\n      <th>0</th>\n      <td>14410</td>\n      <td>1.0</td>\n      <td>0.0</td>\n      <td>1.0</td>\n      <td>44.0</td>\n      <td>10.0</td>\n      <td>0.000315</td>\n      <td>0.000315</td>\n      <td>1.000000</td>\n      <td>0.00000</td>\n      <td>99.0</td>\n    </tr>\n    <tr>\n      <th>1</th>\n      <td>11816</td>\n      <td>1.0</td>\n      <td>0.0</td>\n      <td>1.0</td>\n      <td>18.0</td>\n      <td>16.0</td>\n      <td>0.000020</td>\n      <td>0.000040</td>\n      <td>1.000000</td>\n      <td>0.00000</td>\n      <td>99.0</td>\n    </tr>\n    <tr>\n      <th>2</th>\n      <td>11816</td>\n      <td>7.0</td>\n      <td>0.0</td>\n      <td>1.0</td>\n      <td>18.0</td>\n      <td>16.0</td>\n      <td>0.000037</td>\n      <td>0.000074</td>\n      <td>0.820978</td>\n      <td>-0.57096</td>\n      <td>64.0</td>\n    </tr>\n    <tr>\n      <th>3</th>\n      <td>11816</td>\n      <td>11.0</td>\n      <td>0.0</td>\n      <td>1.0</td>\n      <td>18.0</td>\n      <td>16.0</td>\n      <td>0.000100</td>\n      <td>0.000199</td>\n      <td>1.000000</td>\n      <td>0.00000</td>\n      <td>99.0</td>\n    </tr>\n    <tr>\n      <th>4</th>\n      <td>11816</td>\n      <td>4.0</td>\n      <td>0.0</td>\n      <td>1.0</td>\n      <td>18.0</td>\n      <td>16.0</td>\n      <td>0.000049</td>\n      <td>0.000097</td>\n      <td>1.000000</td>\n      <td>0.00000</td>\n      <td>99.0</td>\n    </tr>\n  </tbody>\n</table>\n</div>"
     },
     "metadata": {},
     "execution_count": 42
    }
   ],
   "source": [
    "consolidatedSalesDf.head()"
   ]
  },
  {
   "cell_type": "code",
   "execution_count": 61,
   "metadata": {},
   "outputs": [],
   "source": [
    "temp = consolidatedSalesDf[\"executed\"].values\n",
    "temp = np.floor(temp*100/temp.max())\n",
    "consolidatedSalesDf[\"promo_score\"] = temp"
   ]
  },
  {
   "cell_type": "code",
   "execution_count": 62,
   "metadata": {},
   "outputs": [],
   "source": [
    "consolidatedDf = norm_preprocess_client.merge(consolidatedSalesDf,on=\"Cliente\",how=\"inner\")"
   ]
  },
  {
   "cell_type": "code",
   "execution_count": 63,
   "metadata": {},
   "outputs": [],
   "source": [
    "consolidatedDf=consolidatedDf.drop(columns=[\"years\",\"executed\",\"gerencia\",\"tipo\",\"segmento\",\"envase\",\"rev\",\"dcto\"],inplace=False)"
   ]
  },
  {
   "cell_type": "code",
   "execution_count": 73,
   "metadata": {},
   "outputs": [],
   "source": [
    "temp = (consolidatedDf[\"promo_score\"].values/100) * (consolidatedDf[\"sales_score\"].values/100) *((consolidatedDf[\"client_score\"].values/100) ) \n",
    "\n",
    "consolidatedDf[\"prob\"]=temp"
   ]
  },
  {
   "cell_type": "code",
   "execution_count": 80,
   "metadata": {},
   "outputs": [],
   "source": [
    "temp2=consolidatedDf[consolidatedDf[\"prob\"]!=0]"
   ]
  },
  {
   "cell_type": "code",
   "execution_count": 83,
   "metadata": {},
   "outputs": [],
   "source": [
    "temp2 = temp2.reset_index(drop=True)"
   ]
  },
  {
   "cell_type": "code",
   "execution_count": 85,
   "metadata": {},
   "outputs": [
    {
     "output_type": "execute_result",
     "data": {
      "text/plain": [
       "        Cliente  client_score      token   Mes  Marca  Cupo  sales_score  \\\n",
       "0             1          37.0      14016   2.0   40.0  16.0         99.0   \n",
       "1             1          37.0      14016   8.0   40.0  16.0         99.0   \n",
       "2             1          37.0      14016   1.0   40.0  16.0         99.0   \n",
       "3             1          37.0      14016   3.0   40.0  16.0         99.0   \n",
       "4             1          37.0      14016  11.0   40.0  16.0         94.0   \n",
       "...         ...           ...        ...   ...    ...   ...          ...   \n",
       "109716    14991          27.0  149914016   7.0   40.0  16.0         99.0   \n",
       "109717    14991          27.0  149914016   4.0   40.0  16.0         99.0   \n",
       "109718    14991          27.0  149914016   5.0   40.0  16.0         99.0   \n",
       "109719    14991          27.0  149914016   6.0   40.0  16.0         97.0   \n",
       "109720    15020          17.0  150204016   8.0   40.0  16.0         99.0   \n",
       "\n",
       "        promo_score      prob  \n",
       "0               5.0  0.018315  \n",
       "1               5.0  0.018315  \n",
       "2               5.0  0.018315  \n",
       "3               5.0  0.018315  \n",
       "4               5.0  0.017390  \n",
       "...             ...       ...  \n",
       "109716         11.0  0.029403  \n",
       "109717         11.0  0.029403  \n",
       "109718         11.0  0.029403  \n",
       "109719         11.0  0.028809  \n",
       "109720          5.0  0.008415  \n",
       "\n",
       "[109721 rows x 9 columns]"
      ],
      "text/html": "<div>\n<style scoped>\n    .dataframe tbody tr th:only-of-type {\n        vertical-align: middle;\n    }\n\n    .dataframe tbody tr th {\n        vertical-align: top;\n    }\n\n    .dataframe thead th {\n        text-align: right;\n    }\n</style>\n<table border=\"1\" class=\"dataframe\">\n  <thead>\n    <tr style=\"text-align: right;\">\n      <th></th>\n      <th>Cliente</th>\n      <th>client_score</th>\n      <th>token</th>\n      <th>Mes</th>\n      <th>Marca</th>\n      <th>Cupo</th>\n      <th>sales_score</th>\n      <th>promo_score</th>\n      <th>prob</th>\n    </tr>\n  </thead>\n  <tbody>\n    <tr>\n      <th>0</th>\n      <td>1</td>\n      <td>37.0</td>\n      <td>14016</td>\n      <td>2.0</td>\n      <td>40.0</td>\n      <td>16.0</td>\n      <td>99.0</td>\n      <td>5.0</td>\n      <td>0.018315</td>\n    </tr>\n    <tr>\n      <th>1</th>\n      <td>1</td>\n      <td>37.0</td>\n      <td>14016</td>\n      <td>8.0</td>\n      <td>40.0</td>\n      <td>16.0</td>\n      <td>99.0</td>\n      <td>5.0</td>\n      <td>0.018315</td>\n    </tr>\n    <tr>\n      <th>2</th>\n      <td>1</td>\n      <td>37.0</td>\n      <td>14016</td>\n      <td>1.0</td>\n      <td>40.0</td>\n      <td>16.0</td>\n      <td>99.0</td>\n      <td>5.0</td>\n      <td>0.018315</td>\n    </tr>\n    <tr>\n      <th>3</th>\n      <td>1</td>\n      <td>37.0</td>\n      <td>14016</td>\n      <td>3.0</td>\n      <td>40.0</td>\n      <td>16.0</td>\n      <td>99.0</td>\n      <td>5.0</td>\n      <td>0.018315</td>\n    </tr>\n    <tr>\n      <th>4</th>\n      <td>1</td>\n      <td>37.0</td>\n      <td>14016</td>\n      <td>11.0</td>\n      <td>40.0</td>\n      <td>16.0</td>\n      <td>94.0</td>\n      <td>5.0</td>\n      <td>0.017390</td>\n    </tr>\n    <tr>\n      <th>...</th>\n      <td>...</td>\n      <td>...</td>\n      <td>...</td>\n      <td>...</td>\n      <td>...</td>\n      <td>...</td>\n      <td>...</td>\n      <td>...</td>\n      <td>...</td>\n    </tr>\n    <tr>\n      <th>109716</th>\n      <td>14991</td>\n      <td>27.0</td>\n      <td>149914016</td>\n      <td>7.0</td>\n      <td>40.0</td>\n      <td>16.0</td>\n      <td>99.0</td>\n      <td>11.0</td>\n      <td>0.029403</td>\n    </tr>\n    <tr>\n      <th>109717</th>\n      <td>14991</td>\n      <td>27.0</td>\n      <td>149914016</td>\n      <td>4.0</td>\n      <td>40.0</td>\n      <td>16.0</td>\n      <td>99.0</td>\n      <td>11.0</td>\n      <td>0.029403</td>\n    </tr>\n    <tr>\n      <th>109718</th>\n      <td>14991</td>\n      <td>27.0</td>\n      <td>149914016</td>\n      <td>5.0</td>\n      <td>40.0</td>\n      <td>16.0</td>\n      <td>99.0</td>\n      <td>11.0</td>\n      <td>0.029403</td>\n    </tr>\n    <tr>\n      <th>109719</th>\n      <td>14991</td>\n      <td>27.0</td>\n      <td>149914016</td>\n      <td>6.0</td>\n      <td>40.0</td>\n      <td>16.0</td>\n      <td>97.0</td>\n      <td>11.0</td>\n      <td>0.028809</td>\n    </tr>\n    <tr>\n      <th>109720</th>\n      <td>15020</td>\n      <td>17.0</td>\n      <td>150204016</td>\n      <td>8.0</td>\n      <td>40.0</td>\n      <td>16.0</td>\n      <td>99.0</td>\n      <td>5.0</td>\n      <td>0.008415</td>\n    </tr>\n  </tbody>\n</table>\n<p>109721 rows × 9 columns</p>\n</div>"
     },
     "metadata": {},
     "execution_count": 85
    }
   ],
   "source": [
    "temp2"
   ]
  },
  {
   "cell_type": "code",
   "execution_count": 91,
   "metadata": {},
   "outputs": [],
   "source": [
    "temp3 = temp2.sort_values(by=[\"Cliente\",\"Mes\"]).reset_index(drop=True)"
   ]
  },
  {
   "cell_type": "code",
   "execution_count": 120,
   "metadata": {},
   "outputs": [],
   "source": [
    "likelihood_ini=temp3[\"prob\"].max()"
   ]
  },
  {
   "cell_type": "code",
   "execution_count": 134,
   "metadata": {},
   "outputs": [],
   "source": [
    "lista = []\n",
    "for token in pd.unique(temp3[\"token\"]):\n",
    "    likelihood = likelihood_ini\n",
    "    probs = list(temp3[temp3[\"token\"]==token][\"prob\"])\n",
    "\n",
    "    for p_aplica in probs:\n",
    "        temp=bayesian_inf(likelihood,p_aplica)\n",
    "        likelihood = temp\n",
    "\n",
    "    lista.append([temp,token])"
   ]
  },
  {
   "cell_type": "code",
   "execution_count": 135,
   "metadata": {},
   "outputs": [
    {
     "output_type": "execute_result",
     "data": {
      "text/plain": [
       "[1.9811599530368715, '50334016']"
      ]
     },
     "metadata": {},
     "execution_count": 135
    }
   ],
   "source": [
    "max(lista)"
   ]
  },
  {
   "cell_type": "code",
   "execution_count": 156,
   "metadata": {},
   "outputs": [],
   "source": [
    "cons = temp2.groupby(\"token\",as_index=False).mean()\n",
    "cons[\"prob\"]=cons[\"prob\"].values-cons[\"prob\"].min()"
   ]
  },
  {
   "cell_type": "code",
   "execution_count": 159,
   "metadata": {},
   "outputs": [],
   "source": [
    "cons=cons.sort_values(by=\"prob\").reset_index(drop=True)"
   ]
  },
  {
   "cell_type": "code",
   "execution_count": 161,
   "metadata": {},
   "outputs": [
    {
     "output_type": "execute_result",
     "data": {
      "text/plain": [
       "       token  Cliente  client_score  Mes  Marca  Cupo  sales_score  \\\n",
       "3545  104016       10          40.0  7.0   40.0  16.0    74.666667   \n",
       "\n",
       "      promo_score      prob  \n",
       "3545         11.0  0.060214  "
      ],
      "text/html": "<div>\n<style scoped>\n    .dataframe tbody tr th:only-of-type {\n        vertical-align: middle;\n    }\n\n    .dataframe tbody tr th {\n        vertical-align: top;\n    }\n\n    .dataframe thead th {\n        text-align: right;\n    }\n</style>\n<table border=\"1\" class=\"dataframe\">\n  <thead>\n    <tr style=\"text-align: right;\">\n      <th></th>\n      <th>token</th>\n      <th>Cliente</th>\n      <th>client_score</th>\n      <th>Mes</th>\n      <th>Marca</th>\n      <th>Cupo</th>\n      <th>sales_score</th>\n      <th>promo_score</th>\n      <th>prob</th>\n    </tr>\n  </thead>\n  <tbody>\n    <tr>\n      <th>3545</th>\n      <td>104016</td>\n      <td>10</td>\n      <td>40.0</td>\n      <td>7.0</td>\n      <td>40.0</td>\n      <td>16.0</td>\n      <td>74.666667</td>\n      <td>11.0</td>\n      <td>0.060214</td>\n    </tr>\n  </tbody>\n</table>\n</div>"
     },
     "metadata": {},
     "execution_count": 161
    }
   ],
   "source": [
    "cons[cons[\"token\"]==\"104016\"]"
   ]
  },
  {
   "cell_type": "code",
   "execution_count": null,
   "metadata": {},
   "outputs": [],
   "source": []
  }
 ]
}