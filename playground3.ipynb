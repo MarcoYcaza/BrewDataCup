{
 "metadata": {
  "language_info": {
   "codemirror_mode": {
    "name": "ipython",
    "version": 3
   },
   "file_extension": ".py",
   "mimetype": "text/x-python",
   "name": "python",
   "nbconvert_exporter": "python",
   "pygments_lexer": "ipython3",
   "version": "3.8.3-final"
  },
  "orig_nbformat": 2,
  "kernelspec": {
   "name": "python38364bitbasecondaa6743f8ed62d454cbbb856e6cf8d6e67",
   "display_name": "Python 3.8.3 64-bit ('base': conda)"
  }
 },
 "nbformat": 4,
 "nbformat_minor": 2,
 "cells": [
  {
   "cell_type": "code",
   "execution_count": 1,
   "metadata": {},
   "outputs": [],
   "source": [
    "import os\n",
    "import pandas as pd\n",
    "import itertools\n",
    "import numpy as np\n",
    "from sklearn import preprocessing as prepro\n",
    "import matplotlib.pyplot as plt\n",
    "from matplotlib.pyplot import figure\n",
    "%matplotlib inline"
   ]
  },
  {
   "cell_type": "code",
   "execution_count": 2,
   "metadata": {},
   "outputs": [],
   "source": [
    "def bayesian_inf(likelihood,prior):\n",
    "    return (prior*likelihood)/((prior*likelihood)-((1-prior)*(1-likelihood)))"
   ]
  },
  {
   "cell_type": "code",
   "execution_count": 3,
   "metadata": {},
   "outputs": [],
   "source": [
    "datas = [\"peru-data/\"+str(i) for i in os.listdir('peru-data')]"
   ]
  },
  {
   "source": [
    "Preprocessing data of client\n"
   ],
   "cell_type": "markdown",
   "metadata": {}
  },
  {
   "cell_type": "code",
   "execution_count": 4,
   "metadata": {},
   "outputs": [],
   "source": [
    "clientAtrDf = pd.read_csv(datas[1],encoding=\"latin1\")\n",
    "\n",
    "clientAtrDf.dropna(inplace=True)\n",
    "\n",
    "cliente = list(clientAtrDf[\"Cliente\"])\n",
    "years = list(clientAtrDf[\"FechaAltaCliente\"].map(lambda x: 2020-int(x[0:4])))\n",
    "gerencia=list(clientAtrDf[\"Gerencia\"])\n",
    "tipo=list(clientAtrDf[\"TipoPoblacion\"])\n",
    "\n",
    "data = zip(cliente,years,gerencia,tipo)\n",
    "\n",
    "preprocess_client=pd.DataFrame(data,columns=[\"Cliente\",\"years\",\"gerencia\",\"tipo\"])"
   ]
  },
  {
   "cell_type": "code",
   "execution_count": 5,
   "metadata": {},
   "outputs": [],
   "source": [
    "pk1 = preprocess_client[[\"Cliente\"]]\n",
    "\n",
    "X  = preprocess_client[list(preprocess_client.columns[1:])]\n",
    "\n",
    "X_normalized = prepro.normalize(X, norm='l2')\n",
    "\n",
    "norm_preprocess_client=pd.DataFrame(X_normalized,columns=[list(preprocess_client.columns[1:])])\n",
    "\n",
    "norm_preprocess_client=pd.concat([pk1,norm_preprocess_client],axis=1)"
   ]
  },
  {
   "cell_type": "code",
   "execution_count": 6,
   "metadata": {},
   "outputs": [],
   "source": [
    "norm_preprocess_client.columns = [\"Cliente\",\"years\",\"gerencia\",\"tipo\"]"
   ]
  },
  {
   "source": [
    "Preprocessing sale's data"
   ],
   "cell_type": "markdown",
   "metadata": {}
  },
  {
   "cell_type": "code",
   "execution_count": 7,
   "metadata": {},
   "outputs": [],
   "source": [
    "salesDf = pd.read_csv(datas[0],encoding=\"latin1\")\n",
    "salesDf.dropna(inplace=True)\n",
    "salesDf.drop(columns=[\"Año\",\"Hl\"],inplace=True)\n",
    "preproSalesDf = salesDf.reset_index(drop=True)\n",
    "preproSalesDf=preproSalesDf[[\"Cliente\",\"Marca\",\"Cupo\",\"Mes\" ,\"ClaseEnvase\",\"SegmentoPrecio\",\"Nr\",\"Dcto\"]]\n",
    "pk = preproSalesDf[[\"Cliente\",\"Marca\",\"Cupo\",\"Mes\"]]"
   ]
  },
  {
   "cell_type": "code",
   "execution_count": 8,
   "metadata": {},
   "outputs": [],
   "source": [
    "X  = preproSalesDf[list(preproSalesDf.columns[4:])]\n",
    "\n",
    "X_normalized = prepro.normalize(X, norm='l2')\n",
    "\n",
    "norm_preproSalesDf=pd.DataFrame(X_normalized,columns=[list(preproSalesDf.columns[4:])])\n",
    "\n",
    "norm_preproSalesDf=pd.concat([norm_preproSalesDf,pk], axis=1)\n",
    "\n",
    "norm_preproSalesDf.rename(columns={norm_preproSalesDf.columns[0]:'envase',\tnorm_preproSalesDf.columns[1]:'segmento',norm_preproSalesDf.columns[2]:'rev',norm_preproSalesDf.columns[3]:'dcto'},inplace=True)"
   ]
  },
  {
   "cell_type": "code",
   "execution_count": 9,
   "metadata": {},
   "outputs": [
    {
     "output_type": "execute_result",
     "data": {
      "text/plain": [
       "           envase  segmento       rev      dcto  Cliente  Marca  Cupo  Mes\n",
       "0        0.000315  0.000315  1.000000  0.000000        1     44  10.0    1\n",
       "1        0.000020  0.000040  1.000000  0.000000        1     18  16.0    1\n",
       "2        0.000167  0.000084  0.970561 -0.240855        1      2   6.0    6\n",
       "3        0.000514  0.001029  0.999999  0.000000        1     37  34.0    7\n",
       "4        0.000123  0.000062  1.000000  0.000000        1      2  16.0    8\n",
       "...           ...       ...       ...       ...      ...    ...   ...  ...\n",
       "1894242  0.000265  0.000529  1.000000  0.000000    15068     44  32.0    8\n",
       "1894243  0.000159  0.000318  1.000000  0.000000    15069     44  32.0    3\n",
       "1894244  0.000159  0.000318  1.000000  0.000000    15069     44  32.0    4\n",
       "1894245  0.000127  0.000064  1.000000  0.000000    15069      2   6.0    4\n",
       "1894246  0.000062  0.000124  1.000000  0.000000    15069     44  29.0    7\n",
       "\n",
       "[1894247 rows x 8 columns]"
      ],
      "text/html": "<div>\n<style scoped>\n    .dataframe tbody tr th:only-of-type {\n        vertical-align: middle;\n    }\n\n    .dataframe tbody tr th {\n        vertical-align: top;\n    }\n\n    .dataframe thead th {\n        text-align: right;\n    }\n</style>\n<table border=\"1\" class=\"dataframe\">\n  <thead>\n    <tr style=\"text-align: right;\">\n      <th></th>\n      <th>envase</th>\n      <th>segmento</th>\n      <th>rev</th>\n      <th>dcto</th>\n      <th>Cliente</th>\n      <th>Marca</th>\n      <th>Cupo</th>\n      <th>Mes</th>\n    </tr>\n  </thead>\n  <tbody>\n    <tr>\n      <th>0</th>\n      <td>0.000315</td>\n      <td>0.000315</td>\n      <td>1.000000</td>\n      <td>0.000000</td>\n      <td>1</td>\n      <td>44</td>\n      <td>10.0</td>\n      <td>1</td>\n    </tr>\n    <tr>\n      <th>1</th>\n      <td>0.000020</td>\n      <td>0.000040</td>\n      <td>1.000000</td>\n      <td>0.000000</td>\n      <td>1</td>\n      <td>18</td>\n      <td>16.0</td>\n      <td>1</td>\n    </tr>\n    <tr>\n      <th>2</th>\n      <td>0.000167</td>\n      <td>0.000084</td>\n      <td>0.970561</td>\n      <td>-0.240855</td>\n      <td>1</td>\n      <td>2</td>\n      <td>6.0</td>\n      <td>6</td>\n    </tr>\n    <tr>\n      <th>3</th>\n      <td>0.000514</td>\n      <td>0.001029</td>\n      <td>0.999999</td>\n      <td>0.000000</td>\n      <td>1</td>\n      <td>37</td>\n      <td>34.0</td>\n      <td>7</td>\n    </tr>\n    <tr>\n      <th>4</th>\n      <td>0.000123</td>\n      <td>0.000062</td>\n      <td>1.000000</td>\n      <td>0.000000</td>\n      <td>1</td>\n      <td>2</td>\n      <td>16.0</td>\n      <td>8</td>\n    </tr>\n    <tr>\n      <th>...</th>\n      <td>...</td>\n      <td>...</td>\n      <td>...</td>\n      <td>...</td>\n      <td>...</td>\n      <td>...</td>\n      <td>...</td>\n      <td>...</td>\n    </tr>\n    <tr>\n      <th>1894242</th>\n      <td>0.000265</td>\n      <td>0.000529</td>\n      <td>1.000000</td>\n      <td>0.000000</td>\n      <td>15068</td>\n      <td>44</td>\n      <td>32.0</td>\n      <td>8</td>\n    </tr>\n    <tr>\n      <th>1894243</th>\n      <td>0.000159</td>\n      <td>0.000318</td>\n      <td>1.000000</td>\n      <td>0.000000</td>\n      <td>15069</td>\n      <td>44</td>\n      <td>32.0</td>\n      <td>3</td>\n    </tr>\n    <tr>\n      <th>1894244</th>\n      <td>0.000159</td>\n      <td>0.000318</td>\n      <td>1.000000</td>\n      <td>0.000000</td>\n      <td>15069</td>\n      <td>44</td>\n      <td>32.0</td>\n      <td>4</td>\n    </tr>\n    <tr>\n      <th>1894245</th>\n      <td>0.000127</td>\n      <td>0.000064</td>\n      <td>1.000000</td>\n      <td>0.000000</td>\n      <td>15069</td>\n      <td>2</td>\n      <td>6.0</td>\n      <td>4</td>\n    </tr>\n    <tr>\n      <th>1894246</th>\n      <td>0.000062</td>\n      <td>0.000124</td>\n      <td>1.000000</td>\n      <td>0.000000</td>\n      <td>15069</td>\n      <td>44</td>\n      <td>29.0</td>\n      <td>7</td>\n    </tr>\n  </tbody>\n</table>\n<p>1894247 rows × 8 columns</p>\n</div>"
     },
     "metadata": {},
     "execution_count": 9
    }
   ],
   "source": [
    "norm_preproSalesDf"
   ]
  },
  {
   "cell_type": "code",
   "execution_count": null,
   "metadata": {},
   "outputs": [],
   "source": []
  },
  {
   "cell_type": "code",
   "execution_count": 10,
   "metadata": {},
   "outputs": [],
   "source": [
    "client_salesComparisonDf =norm_preprocess_client.merge(norm_preproSalesDf,on='Cliente',how='outer')"
   ]
  },
  {
   "cell_type": "code",
   "execution_count": 35,
   "metadata": {},
   "outputs": [
    {
     "output_type": "execute_result",
     "data": {
      "text/plain": [
       "   Cliente     years  gerencia      tipo  envase  segmento  rev  dcto  Marca  \\\n",
       "0      1.0  0.463595  0.885044  0.042145     NaN       NaN  NaN   NaN    NaN   \n",
       "1      9.0  0.462364  0.882696  0.084066     NaN       NaN  NaN   NaN    NaN   \n",
       "2     15.0  0.462364  0.882696  0.084066     NaN       NaN  NaN   NaN    NaN   \n",
       "3     37.0  0.462364  0.882696  0.084066     NaN       NaN  NaN   NaN    NaN   \n",
       "4     43.0  0.462364  0.882696  0.084066     NaN       NaN  NaN   NaN    NaN   \n",
       "\n",
       "   Cupo  Mes  \n",
       "0   NaN  NaN  \n",
       "1   NaN  NaN  \n",
       "2   NaN  NaN  \n",
       "3   NaN  NaN  \n",
       "4   NaN  NaN  "
      ],
      "text/html": "<div>\n<style scoped>\n    .dataframe tbody tr th:only-of-type {\n        vertical-align: middle;\n    }\n\n    .dataframe tbody tr th {\n        vertical-align: top;\n    }\n\n    .dataframe thead th {\n        text-align: right;\n    }\n</style>\n<table border=\"1\" class=\"dataframe\">\n  <thead>\n    <tr style=\"text-align: right;\">\n      <th></th>\n      <th>Cliente</th>\n      <th>years</th>\n      <th>gerencia</th>\n      <th>tipo</th>\n      <th>envase</th>\n      <th>segmento</th>\n      <th>rev</th>\n      <th>dcto</th>\n      <th>Marca</th>\n      <th>Cupo</th>\n      <th>Mes</th>\n    </tr>\n  </thead>\n  <tbody>\n    <tr>\n      <th>0</th>\n      <td>1.0</td>\n      <td>0.463595</td>\n      <td>0.885044</td>\n      <td>0.042145</td>\n      <td>NaN</td>\n      <td>NaN</td>\n      <td>NaN</td>\n      <td>NaN</td>\n      <td>NaN</td>\n      <td>NaN</td>\n      <td>NaN</td>\n    </tr>\n    <tr>\n      <th>1</th>\n      <td>9.0</td>\n      <td>0.462364</td>\n      <td>0.882696</td>\n      <td>0.084066</td>\n      <td>NaN</td>\n      <td>NaN</td>\n      <td>NaN</td>\n      <td>NaN</td>\n      <td>NaN</td>\n      <td>NaN</td>\n      <td>NaN</td>\n    </tr>\n    <tr>\n      <th>2</th>\n      <td>15.0</td>\n      <td>0.462364</td>\n      <td>0.882696</td>\n      <td>0.084066</td>\n      <td>NaN</td>\n      <td>NaN</td>\n      <td>NaN</td>\n      <td>NaN</td>\n      <td>NaN</td>\n      <td>NaN</td>\n      <td>NaN</td>\n    </tr>\n    <tr>\n      <th>3</th>\n      <td>37.0</td>\n      <td>0.462364</td>\n      <td>0.882696</td>\n      <td>0.084066</td>\n      <td>NaN</td>\n      <td>NaN</td>\n      <td>NaN</td>\n      <td>NaN</td>\n      <td>NaN</td>\n      <td>NaN</td>\n      <td>NaN</td>\n    </tr>\n    <tr>\n      <th>4</th>\n      <td>43.0</td>\n      <td>0.462364</td>\n      <td>0.882696</td>\n      <td>0.084066</td>\n      <td>NaN</td>\n      <td>NaN</td>\n      <td>NaN</td>\n      <td>NaN</td>\n      <td>NaN</td>\n      <td>NaN</td>\n      <td>NaN</td>\n    </tr>\n  </tbody>\n</table>\n</div>"
     },
     "metadata": {},
     "execution_count": 35
    }
   ],
   "source": []
  },
  {
   "source": [
    "We need to infer , given client and sales data , what's the ranking order of the type of client."
   ],
   "cell_type": "markdown",
   "metadata": {}
  },
  {
   "cell_type": "code",
   "execution_count": 11,
   "metadata": {},
   "outputs": [
    {
     "output_type": "display_data",
     "data": {
      "text/plain": "<Figure size 576x576 with 2 Axes>",
      "image/svg+xml": "<?xml version=\"1.0\" encoding=\"utf-8\" standalone=\"no\"?>\n<!DOCTYPE svg PUBLIC \"-//W3C//DTD SVG 1.1//EN\"\n  \"http://www.w3.org/Graphics/SVG/1.1/DTD/svg11.dtd\">\n<!-- Created with matplotlib (https://matplotlib.org/) -->\n<svg height=\"464.599219pt\" version=\"1.1\" viewBox=\"0 0 510.786562 464.599219\" width=\"510.786562pt\" xmlns=\"http://www.w3.org/2000/svg\" xmlns:xlink=\"http://www.w3.org/1999/xlink\">\n <defs>\n  <style type=\"text/css\">\n*{stroke-linecap:butt;stroke-linejoin:round;}\n  </style>\n </defs>\n <g id=\"figure_1\">\n  <g id=\"patch_1\">\n   <path d=\"M 0 464.599219 \nL 510.786562 464.599219 \nL 510.786562 0 \nL 0 0 \nz\n\" style=\"fill:none;\"/>\n  </g>\n  <g id=\"axes_1\">\n   <g id=\"patch_2\">\n    <path d=\"M 64.18125 412.759219 \nL 421.30125 412.759219 \nL 421.30125 55.639219 \nL 64.18125 55.639219 \nz\n\" style=\"fill:#ffffff;\"/>\n   </g>\n   <g clip-path=\"url(#p97d1819e6c)\">\n    <image height=\"358\" id=\"image79566855ec\" transform=\"scale(1 -1)translate(0 -358)\" width=\"358\" x=\"64.18125\" xlink:href=\"data:image/png;base64,\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\" y=\"-54.759219\"/>\n   </g>\n   <g id=\"matplotlib.axis_1\">\n    <g id=\"xtick_1\">\n     <g id=\"line2d_1\">\n      <defs>\n       <path d=\"M 0 0 \nL 0 3.5 \n\" id=\"m53cf2f90e3\" style=\"stroke:#000000;stroke-width:0.8;\"/>\n      </defs>\n      <g>\n       <use style=\"stroke:#000000;stroke-width:0.8;\" x=\"80.413977\" xlink:href=\"#m53cf2f90e3\" y=\"412.759219\"/>\n      </g>\n     </g>\n     <g id=\"line2d_2\">\n      <defs>\n       <path d=\"M 0 0 \nL 0 -3.5 \n\" id=\"m8fe01cd77f\" style=\"stroke:#000000;stroke-width:0.8;\"/>\n      </defs>\n      <g>\n       <use style=\"stroke:#000000;stroke-width:0.8;\" x=\"80.413977\" xlink:href=\"#m8fe01cd77f\" y=\"55.639219\"/>\n      </g>\n     </g>\n     <g id=\"text_1\">\n      <!-- Cliente -->\n      <defs>\n       <path d=\"M 64.40625 67.28125 \nL 64.40625 56.890625 \nQ 59.421875 61.53125 53.78125 63.8125 \nQ 48.140625 66.109375 41.796875 66.109375 \nQ 29.296875 66.109375 22.65625 58.46875 \nQ 16.015625 50.828125 16.015625 36.375 \nQ 16.015625 21.96875 22.65625 14.328125 \nQ 29.296875 6.6875 41.796875 6.6875 \nQ 48.140625 6.6875 53.78125 8.984375 \nQ 59.421875 11.28125 64.40625 15.921875 \nL 64.40625 5.609375 \nQ 59.234375 2.09375 53.4375 0.328125 \nQ 47.65625 -1.421875 41.21875 -1.421875 \nQ 24.65625 -1.421875 15.125 8.703125 \nQ 5.609375 18.84375 5.609375 36.375 \nQ 5.609375 53.953125 15.125 64.078125 \nQ 24.65625 74.21875 41.21875 74.21875 \nQ 47.75 74.21875 53.53125 72.484375 \nQ 59.328125 70.75 64.40625 67.28125 \nz\n\" id=\"DejaVuSans-67\"/>\n       <path d=\"M 9.421875 75.984375 \nL 18.40625 75.984375 \nL 18.40625 0 \nL 9.421875 0 \nz\n\" id=\"DejaVuSans-108\"/>\n       <path d=\"M 9.421875 54.6875 \nL 18.40625 54.6875 \nL 18.40625 0 \nL 9.421875 0 \nz\nM 9.421875 75.984375 \nL 18.40625 75.984375 \nL 18.40625 64.59375 \nL 9.421875 64.59375 \nz\n\" id=\"DejaVuSans-105\"/>\n       <path d=\"M 56.203125 29.59375 \nL 56.203125 25.203125 \nL 14.890625 25.203125 \nQ 15.484375 15.921875 20.484375 11.0625 \nQ 25.484375 6.203125 34.421875 6.203125 \nQ 39.59375 6.203125 44.453125 7.46875 \nQ 49.3125 8.734375 54.109375 11.28125 \nL 54.109375 2.78125 \nQ 49.265625 0.734375 44.1875 -0.34375 \nQ 39.109375 -1.421875 33.890625 -1.421875 \nQ 20.796875 -1.421875 13.15625 6.1875 \nQ 5.515625 13.8125 5.515625 26.8125 \nQ 5.515625 40.234375 12.765625 48.109375 \nQ 20.015625 56 32.328125 56 \nQ 43.359375 56 49.78125 48.890625 \nQ 56.203125 41.796875 56.203125 29.59375 \nz\nM 47.21875 32.234375 \nQ 47.125 39.59375 43.09375 43.984375 \nQ 39.0625 48.390625 32.421875 48.390625 \nQ 24.90625 48.390625 20.390625 44.140625 \nQ 15.875 39.890625 15.1875 32.171875 \nz\n\" id=\"DejaVuSans-101\"/>\n       <path d=\"M 54.890625 33.015625 \nL 54.890625 0 \nL 45.90625 0 \nL 45.90625 32.71875 \nQ 45.90625 40.484375 42.875 44.328125 \nQ 39.84375 48.1875 33.796875 48.1875 \nQ 26.515625 48.1875 22.3125 43.546875 \nQ 18.109375 38.921875 18.109375 30.90625 \nL 18.109375 0 \nL 9.078125 0 \nL 9.078125 54.6875 \nL 18.109375 54.6875 \nL 18.109375 46.1875 \nQ 21.34375 51.125 25.703125 53.5625 \nQ 30.078125 56 35.796875 56 \nQ 45.21875 56 50.046875 50.171875 \nQ 54.890625 44.34375 54.890625 33.015625 \nz\n\" id=\"DejaVuSans-110\"/>\n       <path d=\"M 18.3125 70.21875 \nL 18.3125 54.6875 \nL 36.8125 54.6875 \nL 36.8125 47.703125 \nL 18.3125 47.703125 \nL 18.3125 18.015625 \nQ 18.3125 11.328125 20.140625 9.421875 \nQ 21.96875 7.515625 27.59375 7.515625 \nL 36.8125 7.515625 \nL 36.8125 0 \nL 27.59375 0 \nQ 17.1875 0 13.234375 3.875 \nQ 9.28125 7.765625 9.28125 18.015625 \nL 9.28125 47.703125 \nL 2.6875 47.703125 \nL 2.6875 54.6875 \nL 9.28125 54.6875 \nL 9.28125 70.21875 \nz\n\" id=\"DejaVuSans-116\"/>\n      </defs>\n      <g transform=\"translate(62.862415 46.559531)scale(0.1 -0.1)\">\n       <use xlink:href=\"#DejaVuSans-67\"/>\n       <use x=\"69.824219\" xlink:href=\"#DejaVuSans-108\"/>\n       <use x=\"97.607422\" xlink:href=\"#DejaVuSans-105\"/>\n       <use x=\"125.390625\" xlink:href=\"#DejaVuSans-101\"/>\n       <use x=\"186.914062\" xlink:href=\"#DejaVuSans-110\"/>\n       <use x=\"250.292969\" xlink:href=\"#DejaVuSans-116\"/>\n       <use x=\"289.501953\" xlink:href=\"#DejaVuSans-101\"/>\n      </g>\n     </g>\n    </g>\n    <g id=\"xtick_2\">\n     <g id=\"line2d_3\">\n      <g>\n       <use style=\"stroke:#000000;stroke-width:0.8;\" x=\"112.879432\" xlink:href=\"#m53cf2f90e3\" y=\"412.759219\"/>\n      </g>\n     </g>\n     <g id=\"line2d_4\">\n      <g>\n       <use style=\"stroke:#000000;stroke-width:0.8;\" x=\"112.879432\" xlink:href=\"#m8fe01cd77f\" y=\"55.639219\"/>\n      </g>\n     </g>\n     <g id=\"text_2\">\n      <!-- years -->\n      <defs>\n       <path d=\"M 32.171875 -5.078125 \nQ 28.375 -14.84375 24.75 -17.8125 \nQ 21.140625 -20.796875 15.09375 -20.796875 \nL 7.90625 -20.796875 \nL 7.90625 -13.28125 \nL 13.1875 -13.28125 \nQ 16.890625 -13.28125 18.9375 -11.515625 \nQ 21 -9.765625 23.484375 -3.21875 \nL 25.09375 0.875 \nL 2.984375 54.6875 \nL 12.5 54.6875 \nL 29.59375 11.921875 \nL 46.6875 54.6875 \nL 56.203125 54.6875 \nz\n\" id=\"DejaVuSans-121\"/>\n       <path d=\"M 34.28125 27.484375 \nQ 23.390625 27.484375 19.1875 25 \nQ 14.984375 22.515625 14.984375 16.5 \nQ 14.984375 11.71875 18.140625 8.90625 \nQ 21.296875 6.109375 26.703125 6.109375 \nQ 34.1875 6.109375 38.703125 11.40625 \nQ 43.21875 16.703125 43.21875 25.484375 \nL 43.21875 27.484375 \nz\nM 52.203125 31.203125 \nL 52.203125 0 \nL 43.21875 0 \nL 43.21875 8.296875 \nQ 40.140625 3.328125 35.546875 0.953125 \nQ 30.953125 -1.421875 24.3125 -1.421875 \nQ 15.921875 -1.421875 10.953125 3.296875 \nQ 6 8.015625 6 15.921875 \nQ 6 25.140625 12.171875 29.828125 \nQ 18.359375 34.515625 30.609375 34.515625 \nL 43.21875 34.515625 \nL 43.21875 35.40625 \nQ 43.21875 41.609375 39.140625 45 \nQ 35.0625 48.390625 27.6875 48.390625 \nQ 23 48.390625 18.546875 47.265625 \nQ 14.109375 46.140625 10.015625 43.890625 \nL 10.015625 52.203125 \nQ 14.9375 54.109375 19.578125 55.046875 \nQ 24.21875 56 28.609375 56 \nQ 40.484375 56 46.34375 49.84375 \nQ 52.203125 43.703125 52.203125 31.203125 \nz\n\" id=\"DejaVuSans-97\"/>\n       <path d=\"M 41.109375 46.296875 \nQ 39.59375 47.171875 37.8125 47.578125 \nQ 36.03125 48 33.890625 48 \nQ 26.265625 48 22.1875 43.046875 \nQ 18.109375 38.09375 18.109375 28.8125 \nL 18.109375 0 \nL 9.078125 0 \nL 9.078125 54.6875 \nL 18.109375 54.6875 \nL 18.109375 46.1875 \nQ 20.953125 51.171875 25.484375 53.578125 \nQ 30.03125 56 36.53125 56 \nQ 37.453125 56 38.578125 55.875 \nQ 39.703125 55.765625 41.0625 55.515625 \nz\n\" id=\"DejaVuSans-114\"/>\n       <path d=\"M 44.28125 53.078125 \nL 44.28125 44.578125 \nQ 40.484375 46.53125 36.375 47.5 \nQ 32.28125 48.484375 27.875 48.484375 \nQ 21.1875 48.484375 17.84375 46.4375 \nQ 14.5 44.390625 14.5 40.28125 \nQ 14.5 37.15625 16.890625 35.375 \nQ 19.28125 33.59375 26.515625 31.984375 \nL 29.59375 31.296875 \nQ 39.15625 29.25 43.1875 25.515625 \nQ 47.21875 21.78125 47.21875 15.09375 \nQ 47.21875 7.46875 41.1875 3.015625 \nQ 35.15625 -1.421875 24.609375 -1.421875 \nQ 20.21875 -1.421875 15.453125 -0.5625 \nQ 10.6875 0.296875 5.421875 2 \nL 5.421875 11.28125 \nQ 10.40625 8.6875 15.234375 7.390625 \nQ 20.0625 6.109375 24.8125 6.109375 \nQ 31.15625 6.109375 34.5625 8.28125 \nQ 37.984375 10.453125 37.984375 14.40625 \nQ 37.984375 18.0625 35.515625 20.015625 \nQ 33.0625 21.96875 24.703125 23.78125 \nL 21.578125 24.515625 \nQ 13.234375 26.265625 9.515625 29.90625 \nQ 5.8125 33.546875 5.8125 39.890625 \nQ 5.8125 47.609375 11.28125 51.796875 \nQ 16.75 56 26.8125 56 \nQ 31.78125 56 36.171875 55.265625 \nQ 40.578125 54.546875 44.28125 53.078125 \nz\n\" id=\"DejaVuSans-115\"/>\n      </defs>\n      <g transform=\"translate(99.119276 46.559531)scale(0.1 -0.1)\">\n       <use xlink:href=\"#DejaVuSans-121\"/>\n       <use x=\"59.179688\" xlink:href=\"#DejaVuSans-101\"/>\n       <use x=\"120.703125\" xlink:href=\"#DejaVuSans-97\"/>\n       <use x=\"181.982422\" xlink:href=\"#DejaVuSans-114\"/>\n       <use x=\"223.095703\" xlink:href=\"#DejaVuSans-115\"/>\n      </g>\n     </g>\n    </g>\n    <g id=\"xtick_3\">\n     <g id=\"line2d_5\">\n      <g>\n       <use style=\"stroke:#000000;stroke-width:0.8;\" x=\"145.344886\" xlink:href=\"#m53cf2f90e3\" y=\"412.759219\"/>\n      </g>\n     </g>\n     <g id=\"line2d_6\">\n      <g>\n       <use style=\"stroke:#000000;stroke-width:0.8;\" x=\"145.344886\" xlink:href=\"#m8fe01cd77f\" y=\"55.639219\"/>\n      </g>\n     </g>\n     <g id=\"text_3\">\n      <!-- gerencia -->\n      <defs>\n       <path d=\"M 45.40625 27.984375 \nQ 45.40625 37.75 41.375 43.109375 \nQ 37.359375 48.484375 30.078125 48.484375 \nQ 22.859375 48.484375 18.828125 43.109375 \nQ 14.796875 37.75 14.796875 27.984375 \nQ 14.796875 18.265625 18.828125 12.890625 \nQ 22.859375 7.515625 30.078125 7.515625 \nQ 37.359375 7.515625 41.375 12.890625 \nQ 45.40625 18.265625 45.40625 27.984375 \nz\nM 54.390625 6.78125 \nQ 54.390625 -7.171875 48.1875 -13.984375 \nQ 42 -20.796875 29.203125 -20.796875 \nQ 24.46875 -20.796875 20.265625 -20.09375 \nQ 16.0625 -19.390625 12.109375 -17.921875 \nL 12.109375 -9.1875 \nQ 16.0625 -11.328125 19.921875 -12.34375 \nQ 23.78125 -13.375 27.78125 -13.375 \nQ 36.625 -13.375 41.015625 -8.765625 \nQ 45.40625 -4.15625 45.40625 5.171875 \nL 45.40625 9.625 \nQ 42.625 4.78125 38.28125 2.390625 \nQ 33.9375 0 27.875 0 \nQ 17.828125 0 11.671875 7.65625 \nQ 5.515625 15.328125 5.515625 27.984375 \nQ 5.515625 40.671875 11.671875 48.328125 \nQ 17.828125 56 27.875 56 \nQ 33.9375 56 38.28125 53.609375 \nQ 42.625 51.21875 45.40625 46.390625 \nL 45.40625 54.6875 \nL 54.390625 54.6875 \nz\n\" id=\"DejaVuSans-103\"/>\n       <path d=\"M 48.78125 52.59375 \nL 48.78125 44.1875 \nQ 44.96875 46.296875 41.140625 47.34375 \nQ 37.3125 48.390625 33.40625 48.390625 \nQ 24.65625 48.390625 19.8125 42.84375 \nQ 14.984375 37.3125 14.984375 27.296875 \nQ 14.984375 17.28125 19.8125 11.734375 \nQ 24.65625 6.203125 33.40625 6.203125 \nQ 37.3125 6.203125 41.140625 7.25 \nQ 44.96875 8.296875 48.78125 10.40625 \nL 48.78125 2.09375 \nQ 45.015625 0.34375 40.984375 -0.53125 \nQ 36.96875 -1.421875 32.421875 -1.421875 \nQ 20.0625 -1.421875 12.78125 6.34375 \nQ 5.515625 14.109375 5.515625 27.296875 \nQ 5.515625 40.671875 12.859375 48.328125 \nQ 20.21875 56 33.015625 56 \nQ 37.15625 56 41.109375 55.140625 \nQ 45.0625 54.296875 48.78125 52.59375 \nz\n\" id=\"DejaVuSans-99\"/>\n      </defs>\n      <g transform=\"translate(123.70348 46.559531)scale(0.1 -0.1)\">\n       <use xlink:href=\"#DejaVuSans-103\"/>\n       <use x=\"63.476562\" xlink:href=\"#DejaVuSans-101\"/>\n       <use x=\"125\" xlink:href=\"#DejaVuSans-114\"/>\n       <use x=\"163.863281\" xlink:href=\"#DejaVuSans-101\"/>\n       <use x=\"225.386719\" xlink:href=\"#DejaVuSans-110\"/>\n       <use x=\"288.765625\" xlink:href=\"#DejaVuSans-99\"/>\n       <use x=\"343.746094\" xlink:href=\"#DejaVuSans-105\"/>\n       <use x=\"371.529297\" xlink:href=\"#DejaVuSans-97\"/>\n      </g>\n     </g>\n    </g>\n    <g id=\"xtick_4\">\n     <g id=\"line2d_7\">\n      <g>\n       <use style=\"stroke:#000000;stroke-width:0.8;\" x=\"177.810341\" xlink:href=\"#m53cf2f90e3\" y=\"412.759219\"/>\n      </g>\n     </g>\n     <g id=\"line2d_8\">\n      <g>\n       <use style=\"stroke:#000000;stroke-width:0.8;\" x=\"177.810341\" xlink:href=\"#m8fe01cd77f\" y=\"55.639219\"/>\n      </g>\n     </g>\n     <g id=\"text_4\">\n      <!-- tipo -->\n      <defs>\n       <path d=\"M 18.109375 8.203125 \nL 18.109375 -20.796875 \nL 9.078125 -20.796875 \nL 9.078125 54.6875 \nL 18.109375 54.6875 \nL 18.109375 46.390625 \nQ 20.953125 51.265625 25.265625 53.625 \nQ 29.59375 56 35.59375 56 \nQ 45.5625 56 51.78125 48.09375 \nQ 58.015625 40.1875 58.015625 27.296875 \nQ 58.015625 14.40625 51.78125 6.484375 \nQ 45.5625 -1.421875 35.59375 -1.421875 \nQ 29.59375 -1.421875 25.265625 0.953125 \nQ 20.953125 3.328125 18.109375 8.203125 \nz\nM 48.6875 27.296875 \nQ 48.6875 37.203125 44.609375 42.84375 \nQ 40.53125 48.484375 33.40625 48.484375 \nQ 26.265625 48.484375 22.1875 42.84375 \nQ 18.109375 37.203125 18.109375 27.296875 \nQ 18.109375 17.390625 22.1875 11.75 \nQ 26.265625 6.109375 33.40625 6.109375 \nQ 40.53125 6.109375 44.609375 11.75 \nQ 48.6875 17.390625 48.6875 27.296875 \nz\n\" id=\"DejaVuSans-112\"/>\n       <path d=\"M 30.609375 48.390625 \nQ 23.390625 48.390625 19.1875 42.75 \nQ 14.984375 37.109375 14.984375 27.296875 \nQ 14.984375 17.484375 19.15625 11.84375 \nQ 23.34375 6.203125 30.609375 6.203125 \nQ 37.796875 6.203125 41.984375 11.859375 \nQ 46.1875 17.53125 46.1875 27.296875 \nQ 46.1875 37.015625 41.984375 42.703125 \nQ 37.796875 48.390625 30.609375 48.390625 \nz\nM 30.609375 56 \nQ 42.328125 56 49.015625 48.375 \nQ 55.71875 40.765625 55.71875 27.296875 \nQ 55.71875 13.875 49.015625 6.21875 \nQ 42.328125 -1.421875 30.609375 -1.421875 \nQ 18.84375 -1.421875 12.171875 6.21875 \nQ 5.515625 13.875 5.515625 27.296875 \nQ 5.515625 40.765625 12.171875 48.375 \nQ 18.84375 56 30.609375 56 \nz\n\" id=\"DejaVuSans-111\"/>\n      </defs>\n      <g transform=\"translate(168.227528 46.559531)scale(0.1 -0.1)\">\n       <use xlink:href=\"#DejaVuSans-116\"/>\n       <use x=\"39.208984\" xlink:href=\"#DejaVuSans-105\"/>\n       <use x=\"66.992188\" xlink:href=\"#DejaVuSans-112\"/>\n       <use x=\"130.46875\" xlink:href=\"#DejaVuSans-111\"/>\n      </g>\n     </g>\n    </g>\n    <g id=\"xtick_5\">\n     <g id=\"line2d_9\">\n      <g>\n       <use style=\"stroke:#000000;stroke-width:0.8;\" x=\"210.275795\" xlink:href=\"#m53cf2f90e3\" y=\"412.759219\"/>\n      </g>\n     </g>\n     <g id=\"line2d_10\">\n      <g>\n       <use style=\"stroke:#000000;stroke-width:0.8;\" x=\"210.275795\" xlink:href=\"#m8fe01cd77f\" y=\"55.639219\"/>\n      </g>\n     </g>\n     <g id=\"text_5\">\n      <!-- envase -->\n      <defs>\n       <path d=\"M 2.984375 54.6875 \nL 12.5 54.6875 \nL 29.59375 8.796875 \nL 46.6875 54.6875 \nL 56.203125 54.6875 \nL 35.6875 0 \nL 23.484375 0 \nz\n\" id=\"DejaVuSans-118\"/>\n      </defs>\n      <g transform=\"translate(192.325795 46.559531)scale(0.1 -0.1)\">\n       <use xlink:href=\"#DejaVuSans-101\"/>\n       <use x=\"61.523438\" xlink:href=\"#DejaVuSans-110\"/>\n       <use x=\"124.902344\" xlink:href=\"#DejaVuSans-118\"/>\n       <use x=\"184.082031\" xlink:href=\"#DejaVuSans-97\"/>\n       <use x=\"245.361328\" xlink:href=\"#DejaVuSans-115\"/>\n       <use x=\"297.460938\" xlink:href=\"#DejaVuSans-101\"/>\n      </g>\n     </g>\n    </g>\n    <g id=\"xtick_6\">\n     <g id=\"line2d_11\">\n      <g>\n       <use style=\"stroke:#000000;stroke-width:0.8;\" x=\"242.74125\" xlink:href=\"#m53cf2f90e3\" y=\"412.759219\"/>\n      </g>\n     </g>\n     <g id=\"line2d_12\">\n      <g>\n       <use style=\"stroke:#000000;stroke-width:0.8;\" x=\"242.74125\" xlink:href=\"#m8fe01cd77f\" y=\"55.639219\"/>\n      </g>\n     </g>\n     <g id=\"text_6\">\n      <!-- segmento -->\n      <defs>\n       <path d=\"M 52 44.1875 \nQ 55.375 50.25 60.0625 53.125 \nQ 64.75 56 71.09375 56 \nQ 79.640625 56 84.28125 50.015625 \nQ 88.921875 44.046875 88.921875 33.015625 \nL 88.921875 0 \nL 79.890625 0 \nL 79.890625 32.71875 \nQ 79.890625 40.578125 77.09375 44.375 \nQ 74.3125 48.1875 68.609375 48.1875 \nQ 61.625 48.1875 57.5625 43.546875 \nQ 53.515625 38.921875 53.515625 30.90625 \nL 53.515625 0 \nL 44.484375 0 \nL 44.484375 32.71875 \nQ 44.484375 40.625 41.703125 44.40625 \nQ 38.921875 48.1875 33.109375 48.1875 \nQ 26.21875 48.1875 22.15625 43.53125 \nQ 18.109375 38.875 18.109375 30.90625 \nL 18.109375 0 \nL 9.078125 0 \nL 9.078125 54.6875 \nL 18.109375 54.6875 \nL 18.109375 46.1875 \nQ 21.1875 51.21875 25.484375 53.609375 \nQ 29.78125 56 35.6875 56 \nQ 41.65625 56 45.828125 52.96875 \nQ 50 49.953125 52 44.1875 \nz\n\" id=\"DejaVuSans-109\"/>\n      </defs>\n      <g transform=\"translate(217.750625 46.559531)scale(0.1 -0.1)\">\n       <use xlink:href=\"#DejaVuSans-115\"/>\n       <use x=\"52.099609\" xlink:href=\"#DejaVuSans-101\"/>\n       <use x=\"113.623047\" xlink:href=\"#DejaVuSans-103\"/>\n       <use x=\"177.099609\" xlink:href=\"#DejaVuSans-109\"/>\n       <use x=\"274.511719\" xlink:href=\"#DejaVuSans-101\"/>\n       <use x=\"336.035156\" xlink:href=\"#DejaVuSans-110\"/>\n       <use x=\"399.414062\" xlink:href=\"#DejaVuSans-116\"/>\n       <use x=\"438.623047\" xlink:href=\"#DejaVuSans-111\"/>\n      </g>\n     </g>\n    </g>\n    <g id=\"xtick_7\">\n     <g id=\"line2d_13\">\n      <g>\n       <use style=\"stroke:#000000;stroke-width:0.8;\" x=\"275.206705\" xlink:href=\"#m53cf2f90e3\" y=\"412.759219\"/>\n      </g>\n     </g>\n     <g id=\"line2d_14\">\n      <g>\n       <use style=\"stroke:#000000;stroke-width:0.8;\" x=\"275.206705\" xlink:href=\"#m8fe01cd77f\" y=\"55.639219\"/>\n      </g>\n     </g>\n     <g id=\"text_7\">\n      <!-- rev -->\n      <g transform=\"translate(267.227798 46.559531)scale(0.1 -0.1)\">\n       <use xlink:href=\"#DejaVuSans-114\"/>\n       <use x=\"38.863281\" xlink:href=\"#DejaVuSans-101\"/>\n       <use x=\"100.386719\" xlink:href=\"#DejaVuSans-118\"/>\n      </g>\n     </g>\n    </g>\n    <g id=\"xtick_8\">\n     <g id=\"line2d_15\">\n      <g>\n       <use style=\"stroke:#000000;stroke-width:0.8;\" x=\"307.672159\" xlink:href=\"#m53cf2f90e3\" y=\"412.759219\"/>\n      </g>\n     </g>\n     <g id=\"line2d_16\">\n      <g>\n       <use style=\"stroke:#000000;stroke-width:0.8;\" x=\"307.672159\" xlink:href=\"#m8fe01cd77f\" y=\"55.639219\"/>\n      </g>\n     </g>\n     <g id=\"text_8\">\n      <!-- dcto -->\n      <defs>\n       <path d=\"M 45.40625 46.390625 \nL 45.40625 75.984375 \nL 54.390625 75.984375 \nL 54.390625 0 \nL 45.40625 0 \nL 45.40625 8.203125 \nQ 42.578125 3.328125 38.25 0.953125 \nQ 33.9375 -1.421875 27.875 -1.421875 \nQ 17.96875 -1.421875 11.734375 6.484375 \nQ 5.515625 14.40625 5.515625 27.296875 \nQ 5.515625 40.1875 11.734375 48.09375 \nQ 17.96875 56 27.875 56 \nQ 33.9375 56 38.25 53.625 \nQ 42.578125 51.265625 45.40625 46.390625 \nz\nM 14.796875 27.296875 \nQ 14.796875 17.390625 18.875 11.75 \nQ 22.953125 6.109375 30.078125 6.109375 \nQ 37.203125 6.109375 41.296875 11.75 \nQ 45.40625 17.390625 45.40625 27.296875 \nQ 45.40625 37.203125 41.296875 42.84375 \nQ 37.203125 48.484375 30.078125 48.484375 \nQ 22.953125 48.484375 18.875 42.84375 \nQ 14.796875 37.203125 14.796875 27.296875 \nz\n\" id=\"DejaVuSans-100\"/>\n      </defs>\n      <g transform=\"translate(296.72919 46.559531)scale(0.1 -0.1)\">\n       <use xlink:href=\"#DejaVuSans-100\"/>\n       <use x=\"63.476562\" xlink:href=\"#DejaVuSans-99\"/>\n       <use x=\"118.457031\" xlink:href=\"#DejaVuSans-116\"/>\n       <use x=\"157.666016\" xlink:href=\"#DejaVuSans-111\"/>\n      </g>\n     </g>\n    </g>\n    <g id=\"xtick_9\">\n     <g id=\"line2d_17\">\n      <g>\n       <use style=\"stroke:#000000;stroke-width:0.8;\" x=\"340.137614\" xlink:href=\"#m53cf2f90e3\" y=\"412.759219\"/>\n      </g>\n     </g>\n     <g id=\"line2d_18\">\n      <g>\n       <use style=\"stroke:#000000;stroke-width:0.8;\" x=\"340.137614\" xlink:href=\"#m8fe01cd77f\" y=\"55.639219\"/>\n      </g>\n     </g>\n     <g id=\"text_9\">\n      <!-- Marca -->\n      <defs>\n       <path d=\"M 9.8125 72.90625 \nL 24.515625 72.90625 \nL 43.109375 23.296875 \nL 61.8125 72.90625 \nL 76.515625 72.90625 \nL 76.515625 0 \nL 66.890625 0 \nL 66.890625 64.015625 \nL 48.09375 14.015625 \nL 38.1875 14.015625 \nL 19.390625 64.015625 \nL 19.390625 0 \nL 9.8125 0 \nz\n\" id=\"DejaVuSans-77\"/>\n      </defs>\n      <g transform=\"translate(325.003239 46.559531)scale(0.1 -0.1)\">\n       <use xlink:href=\"#DejaVuSans-77\"/>\n       <use x=\"86.279297\" xlink:href=\"#DejaVuSans-97\"/>\n       <use x=\"147.558594\" xlink:href=\"#DejaVuSans-114\"/>\n       <use x=\"186.421875\" xlink:href=\"#DejaVuSans-99\"/>\n       <use x=\"241.402344\" xlink:href=\"#DejaVuSans-97\"/>\n      </g>\n     </g>\n    </g>\n    <g id=\"xtick_10\">\n     <g id=\"line2d_19\">\n      <g>\n       <use style=\"stroke:#000000;stroke-width:0.8;\" x=\"372.603068\" xlink:href=\"#m53cf2f90e3\" y=\"412.759219\"/>\n      </g>\n     </g>\n     <g id=\"line2d_20\">\n      <g>\n       <use style=\"stroke:#000000;stroke-width:0.8;\" x=\"372.603068\" xlink:href=\"#m8fe01cd77f\" y=\"55.639219\"/>\n      </g>\n     </g>\n     <g id=\"text_10\">\n      <!-- Cupo -->\n      <defs>\n       <path d=\"M 8.5 21.578125 \nL 8.5 54.6875 \nL 17.484375 54.6875 \nL 17.484375 21.921875 \nQ 17.484375 14.15625 20.5 10.265625 \nQ 23.53125 6.390625 29.59375 6.390625 \nQ 36.859375 6.390625 41.078125 11.03125 \nQ 45.3125 15.671875 45.3125 23.6875 \nL 45.3125 54.6875 \nL 54.296875 54.6875 \nL 54.296875 0 \nL 45.3125 0 \nL 45.3125 8.40625 \nQ 42.046875 3.421875 37.71875 1 \nQ 33.40625 -1.421875 27.6875 -1.421875 \nQ 18.265625 -1.421875 13.375 4.4375 \nQ 8.5 10.296875 8.5 21.578125 \nz\nM 31.109375 56 \nz\n\" id=\"DejaVuSans-117\"/>\n      </defs>\n      <g transform=\"translate(359.709318 46.559531)scale(0.1 -0.1)\">\n       <use xlink:href=\"#DejaVuSans-67\"/>\n       <use x=\"69.824219\" xlink:href=\"#DejaVuSans-117\"/>\n       <use x=\"133.203125\" xlink:href=\"#DejaVuSans-112\"/>\n       <use x=\"196.679688\" xlink:href=\"#DejaVuSans-111\"/>\n      </g>\n     </g>\n    </g>\n    <g id=\"xtick_11\">\n     <g id=\"line2d_21\">\n      <g>\n       <use style=\"stroke:#000000;stroke-width:0.8;\" x=\"405.068523\" xlink:href=\"#m53cf2f90e3\" y=\"412.759219\"/>\n      </g>\n     </g>\n     <g id=\"line2d_22\">\n      <g>\n       <use style=\"stroke:#000000;stroke-width:0.8;\" x=\"405.068523\" xlink:href=\"#m8fe01cd77f\" y=\"55.639219\"/>\n      </g>\n     </g>\n     <g id=\"text_11\">\n      <!-- Mes -->\n      <g transform=\"translate(395.07321 46.559531)scale(0.1 -0.1)\">\n       <use xlink:href=\"#DejaVuSans-77\"/>\n       <use x=\"86.279297\" xlink:href=\"#DejaVuSans-101\"/>\n       <use x=\"147.802734\" xlink:href=\"#DejaVuSans-115\"/>\n      </g>\n     </g>\n    </g>\n   </g>\n   <g id=\"matplotlib.axis_2\">\n    <g id=\"ytick_1\">\n     <g id=\"line2d_23\">\n      <defs>\n       <path d=\"M 0 0 \nL -3.5 0 \n\" id=\"m372110e859\" style=\"stroke:#000000;stroke-width:0.8;\"/>\n      </defs>\n      <g>\n       <use style=\"stroke:#000000;stroke-width:0.8;\" x=\"64.18125\" xlink:href=\"#m372110e859\" y=\"71.871946\"/>\n      </g>\n     </g>\n     <g id=\"text_12\">\n      <!-- Cliente -->\n      <g transform=\"translate(22.078125 75.671165)scale(0.1 -0.1)\">\n       <use xlink:href=\"#DejaVuSans-67\"/>\n       <use x=\"69.824219\" xlink:href=\"#DejaVuSans-108\"/>\n       <use x=\"97.607422\" xlink:href=\"#DejaVuSans-105\"/>\n       <use x=\"125.390625\" xlink:href=\"#DejaVuSans-101\"/>\n       <use x=\"186.914062\" xlink:href=\"#DejaVuSans-110\"/>\n       <use x=\"250.292969\" xlink:href=\"#DejaVuSans-116\"/>\n       <use x=\"289.501953\" xlink:href=\"#DejaVuSans-101\"/>\n      </g>\n     </g>\n    </g>\n    <g id=\"ytick_2\">\n     <g id=\"line2d_24\">\n      <g>\n       <use style=\"stroke:#000000;stroke-width:0.8;\" x=\"64.18125\" xlink:href=\"#m372110e859\" y=\"104.337401\"/>\n      </g>\n     </g>\n     <g id=\"text_13\">\n      <!-- years -->\n      <g transform=\"translate(29.660938 108.136619)scale(0.1 -0.1)\">\n       <use xlink:href=\"#DejaVuSans-121\"/>\n       <use x=\"59.179688\" xlink:href=\"#DejaVuSans-101\"/>\n       <use x=\"120.703125\" xlink:href=\"#DejaVuSans-97\"/>\n       <use x=\"181.982422\" xlink:href=\"#DejaVuSans-114\"/>\n       <use x=\"223.095703\" xlink:href=\"#DejaVuSans-115\"/>\n      </g>\n     </g>\n    </g>\n    <g id=\"ytick_3\">\n     <g id=\"line2d_25\">\n      <g>\n       <use style=\"stroke:#000000;stroke-width:0.8;\" x=\"64.18125\" xlink:href=\"#m372110e859\" y=\"136.802855\"/>\n      </g>\n     </g>\n     <g id=\"text_14\">\n      <!-- gerencia -->\n      <g transform=\"translate(13.898438 140.602074)scale(0.1 -0.1)\">\n       <use xlink:href=\"#DejaVuSans-103\"/>\n       <use x=\"63.476562\" xlink:href=\"#DejaVuSans-101\"/>\n       <use x=\"125\" xlink:href=\"#DejaVuSans-114\"/>\n       <use x=\"163.863281\" xlink:href=\"#DejaVuSans-101\"/>\n       <use x=\"225.386719\" xlink:href=\"#DejaVuSans-110\"/>\n       <use x=\"288.765625\" xlink:href=\"#DejaVuSans-99\"/>\n       <use x=\"343.746094\" xlink:href=\"#DejaVuSans-105\"/>\n       <use x=\"371.529297\" xlink:href=\"#DejaVuSans-97\"/>\n      </g>\n     </g>\n    </g>\n    <g id=\"ytick_4\">\n     <g id=\"line2d_26\">\n      <g>\n       <use style=\"stroke:#000000;stroke-width:0.8;\" x=\"64.18125\" xlink:href=\"#m372110e859\" y=\"169.26831\"/>\n      </g>\n     </g>\n     <g id=\"text_15\">\n      <!-- tipo -->\n      <g transform=\"translate(38.015625 173.067528)scale(0.1 -0.1)\">\n       <use xlink:href=\"#DejaVuSans-116\"/>\n       <use x=\"39.208984\" xlink:href=\"#DejaVuSans-105\"/>\n       <use x=\"66.992188\" xlink:href=\"#DejaVuSans-112\"/>\n       <use x=\"130.46875\" xlink:href=\"#DejaVuSans-111\"/>\n      </g>\n     </g>\n    </g>\n    <g id=\"ytick_5\">\n     <g id=\"line2d_27\">\n      <g>\n       <use style=\"stroke:#000000;stroke-width:0.8;\" x=\"64.18125\" xlink:href=\"#m372110e859\" y=\"201.733764\"/>\n      </g>\n     </g>\n     <g id=\"text_16\">\n      <!-- envase -->\n      <g transform=\"translate(21.28125 205.532983)scale(0.1 -0.1)\">\n       <use xlink:href=\"#DejaVuSans-101\"/>\n       <use x=\"61.523438\" xlink:href=\"#DejaVuSans-110\"/>\n       <use x=\"124.902344\" xlink:href=\"#DejaVuSans-118\"/>\n       <use x=\"184.082031\" xlink:href=\"#DejaVuSans-97\"/>\n       <use x=\"245.361328\" xlink:href=\"#DejaVuSans-115\"/>\n       <use x=\"297.460938\" xlink:href=\"#DejaVuSans-101\"/>\n      </g>\n     </g>\n    </g>\n    <g id=\"ytick_6\">\n     <g id=\"line2d_28\">\n      <g>\n       <use style=\"stroke:#000000;stroke-width:0.8;\" x=\"64.18125\" xlink:href=\"#m372110e859\" y=\"234.199219\"/>\n      </g>\n     </g>\n     <g id=\"text_17\">\n      <!-- segmento -->\n      <g transform=\"translate(7.2 237.998437)scale(0.1 -0.1)\">\n       <use xlink:href=\"#DejaVuSans-115\"/>\n       <use x=\"52.099609\" xlink:href=\"#DejaVuSans-101\"/>\n       <use x=\"113.623047\" xlink:href=\"#DejaVuSans-103\"/>\n       <use x=\"177.099609\" xlink:href=\"#DejaVuSans-109\"/>\n       <use x=\"274.511719\" xlink:href=\"#DejaVuSans-101\"/>\n       <use x=\"336.035156\" xlink:href=\"#DejaVuSans-110\"/>\n       <use x=\"399.414062\" xlink:href=\"#DejaVuSans-116\"/>\n       <use x=\"438.623047\" xlink:href=\"#DejaVuSans-111\"/>\n      </g>\n     </g>\n    </g>\n    <g id=\"ytick_7\">\n     <g id=\"line2d_29\">\n      <g>\n       <use style=\"stroke:#000000;stroke-width:0.8;\" x=\"64.18125\" xlink:href=\"#m372110e859\" y=\"266.664673\"/>\n      </g>\n     </g>\n     <g id=\"text_18\">\n      <!-- rev -->\n      <g transform=\"translate(41.223438 270.463892)scale(0.1 -0.1)\">\n       <use xlink:href=\"#DejaVuSans-114\"/>\n       <use x=\"38.863281\" xlink:href=\"#DejaVuSans-101\"/>\n       <use x=\"100.386719\" xlink:href=\"#DejaVuSans-118\"/>\n      </g>\n     </g>\n    </g>\n    <g id=\"ytick_8\">\n     <g id=\"line2d_30\">\n      <g>\n       <use style=\"stroke:#000000;stroke-width:0.8;\" x=\"64.18125\" xlink:href=\"#m372110e859\" y=\"299.130128\"/>\n      </g>\n     </g>\n     <g id=\"text_19\">\n      <!-- dcto -->\n      <g transform=\"translate(35.295313 302.929347)scale(0.1 -0.1)\">\n       <use xlink:href=\"#DejaVuSans-100\"/>\n       <use x=\"63.476562\" xlink:href=\"#DejaVuSans-99\"/>\n       <use x=\"118.457031\" xlink:href=\"#DejaVuSans-116\"/>\n       <use x=\"157.666016\" xlink:href=\"#DejaVuSans-111\"/>\n      </g>\n     </g>\n    </g>\n    <g id=\"ytick_9\">\n     <g id=\"line2d_31\">\n      <g>\n       <use style=\"stroke:#000000;stroke-width:0.8;\" x=\"64.18125\" xlink:href=\"#m372110e859\" y=\"331.595582\"/>\n      </g>\n     </g>\n     <g id=\"text_20\">\n      <!-- Marca -->\n      <g transform=\"translate(26.9125 335.394801)scale(0.1 -0.1)\">\n       <use xlink:href=\"#DejaVuSans-77\"/>\n       <use x=\"86.279297\" xlink:href=\"#DejaVuSans-97\"/>\n       <use x=\"147.558594\" xlink:href=\"#DejaVuSans-114\"/>\n       <use x=\"186.421875\" xlink:href=\"#DejaVuSans-99\"/>\n       <use x=\"241.402344\" xlink:href=\"#DejaVuSans-97\"/>\n      </g>\n     </g>\n    </g>\n    <g id=\"ytick_10\">\n     <g id=\"line2d_32\">\n      <g>\n       <use style=\"stroke:#000000;stroke-width:0.8;\" x=\"64.18125\" xlink:href=\"#m372110e859\" y=\"364.061037\"/>\n      </g>\n     </g>\n     <g id=\"text_21\">\n      <!-- Cupo -->\n      <g transform=\"translate(31.39375 367.860256)scale(0.1 -0.1)\">\n       <use xlink:href=\"#DejaVuSans-67\"/>\n       <use x=\"69.824219\" xlink:href=\"#DejaVuSans-117\"/>\n       <use x=\"133.203125\" xlink:href=\"#DejaVuSans-112\"/>\n       <use x=\"196.679688\" xlink:href=\"#DejaVuSans-111\"/>\n      </g>\n     </g>\n    </g>\n    <g id=\"ytick_11\">\n     <g id=\"line2d_33\">\n      <g>\n       <use style=\"stroke:#000000;stroke-width:0.8;\" x=\"64.18125\" xlink:href=\"#m372110e859\" y=\"396.526491\"/>\n      </g>\n     </g>\n     <g id=\"text_22\">\n      <!-- Mes -->\n      <g transform=\"translate(37.190625 400.32571)scale(0.1 -0.1)\">\n       <use xlink:href=\"#DejaVuSans-77\"/>\n       <use x=\"86.279297\" xlink:href=\"#DejaVuSans-101\"/>\n       <use x=\"147.802734\" xlink:href=\"#DejaVuSans-115\"/>\n      </g>\n     </g>\n    </g>\n   </g>\n   <g id=\"patch_3\">\n    <path d=\"M 64.18125 412.759219 \nL 64.18125 55.639219 \n\" style=\"fill:none;stroke:#000000;stroke-linecap:square;stroke-linejoin:miter;stroke-width:0.8;\"/>\n   </g>\n   <g id=\"patch_4\">\n    <path d=\"M 421.30125 412.759219 \nL 421.30125 55.639219 \n\" style=\"fill:none;stroke:#000000;stroke-linecap:square;stroke-linejoin:miter;stroke-width:0.8;\"/>\n   </g>\n   <g id=\"patch_5\">\n    <path d=\"M 64.18125 412.759219 \nL 421.30125 412.759219 \n\" style=\"fill:none;stroke:#000000;stroke-linecap:square;stroke-linejoin:miter;stroke-width:0.8;\"/>\n   </g>\n   <g id=\"patch_6\">\n    <path d=\"M 64.18125 55.639219 \nL 421.30125 55.639219 \n\" style=\"fill:none;stroke:#000000;stroke-linecap:square;stroke-linejoin:miter;stroke-width:0.8;\"/>\n   </g>\n  </g>\n  <g id=\"axes_2\">\n   <g id=\"patch_7\">\n    <path clip-path=\"url(#pe21ce298ef)\" d=\"M 443.62125 457.399219 \nL 443.62125 455.655469 \nL 443.62125 12.742969 \nL 443.62125 10.999219 \nL 465.94125 10.999219 \nL 465.94125 12.742969 \nL 465.94125 455.655469 \nL 465.94125 457.399219 \nz\n\" style=\"fill:#ffffff;stroke:#ffffff;stroke-linejoin:miter;stroke-width:0.01;\"/>\n   </g>\n   <image height=\"447\" id=\"image04ceaaba0b\" transform=\"scale(1 -1)translate(0 -447)\" width=\"22\" x=\"444\" xlink:href=\"data:image/png;base64,\niVBORw0KGgoAAAANSUhEUgAAABYAAAG/CAYAAABc0CepAAAABHNCSVQICAgIfAhkiAAAAkpJREFUeJztncFtBDEMA22vS0sJ6b+UXB5r8yrgY4CZAgSCoqTbQy47f+bvZxTYY65G3dGpOsbYc81K4Z5iPU5hnhUDGDea4rk6tYFWjJIVxi3URnpPt9vBuIWaYndFUHFoxk0rXnxUCL1jSmyeil+MW+hZ8cEpbpXmDQgwbjzFrQExx0HFwbgFmxeaHtcK06z4OCCH5oCUCvOsaE2e2y3Ubh7RCmDcOoV5+xhpRacw7zsh3oAAm0ccEON2Chu3i3ELxi0gn0w7hZFxc/JeeHHTimDcgnELyLjR9rFxuwDjxlPsB++LAxJ4HgOt4Cl2QFK48svKQbRCxcHtFtwVgafY5gUVB7dbcEACT7HNCzXFTl7gNQ+o2NN0cUBCU3Hn+d/mBRUHt1tAKu7sCl7cgJ82eXHDNa93THnNU/HFuAV3RQAe09q3WKU/bLJ5X4Aj3fuF97B5L8X/aeqA3MJacWnGrVSYt+h5ceOd/5bHyMnDxa1UmOcxsXm4AVlAj43bi3ELwLgt3HOecbsQ46YVB+MWakvI5gUVh5piohW48w/02LgdiIodkG/hv0phnhXGLRi3sB/jlsK45vF2xQPcFZ1UEJuHU7yGI30KP1pxaA4IzuPWMQVagVPsMU1hrbg040ZT7DG9EPcxbqRbHgM/xvIeFXgjXTymNCt4cSOOtHF78TQF3sONkxeIzcMtet52Iz5L157zaFbwFJfecgf0eLckN09Tp3CzebS3bbQq7wf34pGFax4xbqV3xhLj1qnNa17zgnRq85pXK/wPcwWOgIriIpMAAAAASUVORK5CYII=\" y=\"-10\"/>\n   <g id=\"matplotlib.axis_3\"/>\n   <g id=\"matplotlib.axis_4\">\n    <g id=\"ytick_12\">\n     <g id=\"line2d_34\">\n      <defs>\n       <path d=\"M 0 0 \nL 3.5 0 \n\" id=\"me121a5f6f6\" style=\"stroke:#000000;stroke-width:0.8;\"/>\n      </defs>\n      <g>\n       <use style=\"stroke:#000000;stroke-width:0.8;\" x=\"465.94125\" xlink:href=\"#me121a5f6f6\" y=\"413.359768\"/>\n      </g>\n     </g>\n     <g id=\"text_23\">\n      <!-- −0.75 -->\n      <defs>\n       <path d=\"M 10.59375 35.5 \nL 73.1875 35.5 \nL 73.1875 27.203125 \nL 10.59375 27.203125 \nz\n\" id=\"DejaVuSans-8722\"/>\n       <path d=\"M 31.78125 66.40625 \nQ 24.171875 66.40625 20.328125 58.90625 \nQ 16.5 51.421875 16.5 36.375 \nQ 16.5 21.390625 20.328125 13.890625 \nQ 24.171875 6.390625 31.78125 6.390625 \nQ 39.453125 6.390625 43.28125 13.890625 \nQ 47.125 21.390625 47.125 36.375 \nQ 47.125 51.421875 43.28125 58.90625 \nQ 39.453125 66.40625 31.78125 66.40625 \nz\nM 31.78125 74.21875 \nQ 44.046875 74.21875 50.515625 64.515625 \nQ 56.984375 54.828125 56.984375 36.375 \nQ 56.984375 17.96875 50.515625 8.265625 \nQ 44.046875 -1.421875 31.78125 -1.421875 \nQ 19.53125 -1.421875 13.0625 8.265625 \nQ 6.59375 17.96875 6.59375 36.375 \nQ 6.59375 54.828125 13.0625 64.515625 \nQ 19.53125 74.21875 31.78125 74.21875 \nz\n\" id=\"DejaVuSans-48\"/>\n       <path d=\"M 10.6875 12.40625 \nL 21 12.40625 \nL 21 0 \nL 10.6875 0 \nz\n\" id=\"DejaVuSans-46\"/>\n       <path d=\"M 8.203125 72.90625 \nL 55.078125 72.90625 \nL 55.078125 68.703125 \nL 28.609375 0 \nL 18.3125 0 \nL 43.21875 64.59375 \nL 8.203125 64.59375 \nz\n\" id=\"DejaVuSans-55\"/>\n       <path d=\"M 10.796875 72.90625 \nL 49.515625 72.90625 \nL 49.515625 64.59375 \nL 19.828125 64.59375 \nL 19.828125 46.734375 \nQ 21.96875 47.46875 24.109375 47.828125 \nQ 26.265625 48.1875 28.421875 48.1875 \nQ 40.625 48.1875 47.75 41.5 \nQ 54.890625 34.8125 54.890625 23.390625 \nQ 54.890625 11.625 47.5625 5.09375 \nQ 40.234375 -1.421875 26.90625 -1.421875 \nQ 22.3125 -1.421875 17.546875 -0.640625 \nQ 12.796875 0.140625 7.71875 1.703125 \nL 7.71875 11.625 \nQ 12.109375 9.234375 16.796875 8.0625 \nQ 21.484375 6.890625 26.703125 6.890625 \nQ 35.15625 6.890625 40.078125 11.328125 \nQ 45.015625 15.765625 45.015625 23.390625 \nQ 45.015625 31 40.078125 35.4375 \nQ 35.15625 39.890625 26.703125 39.890625 \nQ 22.75 39.890625 18.8125 39.015625 \nQ 14.890625 38.140625 10.796875 36.28125 \nz\n\" id=\"DejaVuSans-53\"/>\n      </defs>\n      <g transform=\"translate(472.94125 417.158987)scale(0.1 -0.1)\">\n       <use xlink:href=\"#DejaVuSans-8722\"/>\n       <use x=\"83.789062\" xlink:href=\"#DejaVuSans-48\"/>\n       <use x=\"147.412109\" xlink:href=\"#DejaVuSans-46\"/>\n       <use x=\"179.199219\" xlink:href=\"#DejaVuSans-55\"/>\n       <use x=\"242.822266\" xlink:href=\"#DejaVuSans-53\"/>\n      </g>\n     </g>\n    </g>\n    <g id=\"ytick_13\">\n     <g id=\"line2d_35\">\n      <g>\n       <use style=\"stroke:#000000;stroke-width:0.8;\" x=\"465.94125\" xlink:href=\"#me121a5f6f6\" y=\"355.87969\"/>\n      </g>\n     </g>\n     <g id=\"text_24\">\n      <!-- −0.50 -->\n      <g transform=\"translate(472.94125 359.678908)scale(0.1 -0.1)\">\n       <use xlink:href=\"#DejaVuSans-8722\"/>\n       <use x=\"83.789062\" xlink:href=\"#DejaVuSans-48\"/>\n       <use x=\"147.412109\" xlink:href=\"#DejaVuSans-46\"/>\n       <use x=\"179.199219\" xlink:href=\"#DejaVuSans-53\"/>\n       <use x=\"242.822266\" xlink:href=\"#DejaVuSans-48\"/>\n      </g>\n     </g>\n    </g>\n    <g id=\"ytick_14\">\n     <g id=\"line2d_36\">\n      <g>\n       <use style=\"stroke:#000000;stroke-width:0.8;\" x=\"465.94125\" xlink:href=\"#me121a5f6f6\" y=\"298.399611\"/>\n      </g>\n     </g>\n     <g id=\"text_25\">\n      <!-- −0.25 -->\n      <defs>\n       <path d=\"M 19.1875 8.296875 \nL 53.609375 8.296875 \nL 53.609375 0 \nL 7.328125 0 \nL 7.328125 8.296875 \nQ 12.9375 14.109375 22.625 23.890625 \nQ 32.328125 33.6875 34.8125 36.53125 \nQ 39.546875 41.84375 41.421875 45.53125 \nQ 43.3125 49.21875 43.3125 52.78125 \nQ 43.3125 58.59375 39.234375 62.25 \nQ 35.15625 65.921875 28.609375 65.921875 \nQ 23.96875 65.921875 18.8125 64.3125 \nQ 13.671875 62.703125 7.8125 59.421875 \nL 7.8125 69.390625 \nQ 13.765625 71.78125 18.9375 73 \nQ 24.125 74.21875 28.421875 74.21875 \nQ 39.75 74.21875 46.484375 68.546875 \nQ 53.21875 62.890625 53.21875 53.421875 \nQ 53.21875 48.921875 51.53125 44.890625 \nQ 49.859375 40.875 45.40625 35.40625 \nQ 44.1875 33.984375 37.640625 27.21875 \nQ 31.109375 20.453125 19.1875 8.296875 \nz\n\" id=\"DejaVuSans-50\"/>\n      </defs>\n      <g transform=\"translate(472.94125 302.19883)scale(0.1 -0.1)\">\n       <use xlink:href=\"#DejaVuSans-8722\"/>\n       <use x=\"83.789062\" xlink:href=\"#DejaVuSans-48\"/>\n       <use x=\"147.412109\" xlink:href=\"#DejaVuSans-46\"/>\n       <use x=\"179.199219\" xlink:href=\"#DejaVuSans-50\"/>\n       <use x=\"242.822266\" xlink:href=\"#DejaVuSans-53\"/>\n      </g>\n     </g>\n    </g>\n    <g id=\"ytick_15\">\n     <g id=\"line2d_37\">\n      <g>\n       <use style=\"stroke:#000000;stroke-width:0.8;\" x=\"465.94125\" xlink:href=\"#me121a5f6f6\" y=\"240.919533\"/>\n      </g>\n     </g>\n     <g id=\"text_26\">\n      <!-- 0.00 -->\n      <g transform=\"translate(472.94125 244.718751)scale(0.1 -0.1)\">\n       <use xlink:href=\"#DejaVuSans-48\"/>\n       <use x=\"63.623047\" xlink:href=\"#DejaVuSans-46\"/>\n       <use x=\"95.410156\" xlink:href=\"#DejaVuSans-48\"/>\n       <use x=\"159.033203\" xlink:href=\"#DejaVuSans-48\"/>\n      </g>\n     </g>\n    </g>\n    <g id=\"ytick_16\">\n     <g id=\"line2d_38\">\n      <g>\n       <use style=\"stroke:#000000;stroke-width:0.8;\" x=\"465.94125\" xlink:href=\"#me121a5f6f6\" y=\"183.439454\"/>\n      </g>\n     </g>\n     <g id=\"text_27\">\n      <!-- 0.25 -->\n      <g transform=\"translate(472.94125 187.238673)scale(0.1 -0.1)\">\n       <use xlink:href=\"#DejaVuSans-48\"/>\n       <use x=\"63.623047\" xlink:href=\"#DejaVuSans-46\"/>\n       <use x=\"95.410156\" xlink:href=\"#DejaVuSans-50\"/>\n       <use x=\"159.033203\" xlink:href=\"#DejaVuSans-53\"/>\n      </g>\n     </g>\n    </g>\n    <g id=\"ytick_17\">\n     <g id=\"line2d_39\">\n      <g>\n       <use style=\"stroke:#000000;stroke-width:0.8;\" x=\"465.94125\" xlink:href=\"#me121a5f6f6\" y=\"125.959376\"/>\n      </g>\n     </g>\n     <g id=\"text_28\">\n      <!-- 0.50 -->\n      <g transform=\"translate(472.94125 129.758594)scale(0.1 -0.1)\">\n       <use xlink:href=\"#DejaVuSans-48\"/>\n       <use x=\"63.623047\" xlink:href=\"#DejaVuSans-46\"/>\n       <use x=\"95.410156\" xlink:href=\"#DejaVuSans-53\"/>\n       <use x=\"159.033203\" xlink:href=\"#DejaVuSans-48\"/>\n      </g>\n     </g>\n    </g>\n    <g id=\"ytick_18\">\n     <g id=\"line2d_40\">\n      <g>\n       <use style=\"stroke:#000000;stroke-width:0.8;\" x=\"465.94125\" xlink:href=\"#me121a5f6f6\" y=\"68.479297\"/>\n      </g>\n     </g>\n     <g id=\"text_29\">\n      <!-- 0.75 -->\n      <g transform=\"translate(472.94125 72.278516)scale(0.1 -0.1)\">\n       <use xlink:href=\"#DejaVuSans-48\"/>\n       <use x=\"63.623047\" xlink:href=\"#DejaVuSans-46\"/>\n       <use x=\"95.410156\" xlink:href=\"#DejaVuSans-55\"/>\n       <use x=\"159.033203\" xlink:href=\"#DejaVuSans-53\"/>\n      </g>\n     </g>\n    </g>\n    <g id=\"ytick_19\">\n     <g id=\"line2d_41\">\n      <g>\n       <use style=\"stroke:#000000;stroke-width:0.8;\" x=\"465.94125\" xlink:href=\"#me121a5f6f6\" y=\"10.999219\"/>\n      </g>\n     </g>\n     <g id=\"text_30\">\n      <!-- 1.00 -->\n      <defs>\n       <path d=\"M 12.40625 8.296875 \nL 28.515625 8.296875 \nL 28.515625 63.921875 \nL 10.984375 60.40625 \nL 10.984375 69.390625 \nL 28.421875 72.90625 \nL 38.28125 72.90625 \nL 38.28125 8.296875 \nL 54.390625 8.296875 \nL 54.390625 0 \nL 12.40625 0 \nz\n\" id=\"DejaVuSans-49\"/>\n      </defs>\n      <g transform=\"translate(472.94125 14.798438)scale(0.1 -0.1)\">\n       <use xlink:href=\"#DejaVuSans-49\"/>\n       <use x=\"63.623047\" xlink:href=\"#DejaVuSans-46\"/>\n       <use x=\"95.410156\" xlink:href=\"#DejaVuSans-48\"/>\n       <use x=\"159.033203\" xlink:href=\"#DejaVuSans-48\"/>\n      </g>\n     </g>\n    </g>\n   </g>\n   <g id=\"patch_8\">\n    <path d=\"M 443.62125 457.399219 \nL 443.62125 455.655469 \nL 443.62125 12.742969 \nL 443.62125 10.999219 \nL 465.94125 10.999219 \nL 465.94125 12.742969 \nL 465.94125 455.655469 \nL 465.94125 457.399219 \nz\n\" style=\"fill:none;stroke:#000000;stroke-linejoin:miter;stroke-width:0.8;\"/>\n   </g>\n  </g>\n </g>\n <defs>\n  <clipPath id=\"p97d1819e6c\">\n   <rect height=\"357.12\" width=\"357.12\" x=\"64.18125\" y=\"55.639219\"/>\n  </clipPath>\n  <clipPath id=\"pe21ce298ef\">\n   <rect height=\"446.4\" width=\"22.32\" x=\"443.62125\" y=\"10.999219\"/>\n  </clipPath>\n </defs>\n</svg>\n",
      "image/png": "[encoded data removed]"
     },
     "metadata": {
      "needs_background": "light"
     }
    }
   ],
   "source": [
    "plt.rcParams[\"figure.figsize\"] = (8, 8)\n",
    "plt.matshow(client_salesComparisonDf.corr())\n",
    "\n",
    "plt.xticks(range(len(client_salesComparisonDf.columns)), client_salesComparisonDf.columns)\n",
    "plt.yticks(range(len(client_salesComparisonDf.columns)), client_salesComparisonDf.columns)\n",
    "plt.colorbar()\n",
    "\n",
    "plt.show()"
   ]
  },
  {
   "source": [
    "The number of years of a client is negative correlated with gerencia. So , using common sense , we can say that the longer a client has been subscribed the more status he has and hence represented with a low value ( i.e Rank 1)"
   ],
   "cell_type": "markdown",
   "metadata": {}
  },
  {
   "source": [
    "#### Back to the client\n",
    "Lets again ur data"
   ],
   "cell_type": "markdown",
   "metadata": {}
  },
  {
   "cell_type": "code",
   "execution_count": 12,
   "metadata": {},
   "outputs": [],
   "source": [
    "temp = ((norm_preprocess_client[\"years\"]+norm_preprocess_client[\"tipo\"]).values) #linear combination \n",
    "\n",
    "temp = np.floor(temp*100/(temp.max()))\n",
    "\n",
    "norm_preprocess_client[\"client_score\"]= temp"
   ]
  },
  {
   "cell_type": "code",
   "execution_count": 13,
   "metadata": {},
   "outputs": [
    {
     "output_type": "execute_result",
     "data": {
      "text/plain": [
       "       Cliente     years  gerencia      tipo  client_score\n",
       "0            1  0.463595  0.885044  0.042145          37.0\n",
       "1            9  0.462364  0.882696  0.084066          40.0\n",
       "2           15  0.462364  0.882696  0.084066          40.0\n",
       "3           37  0.462364  0.882696  0.084066          40.0\n",
       "4           43  0.462364  0.882696  0.084066          40.0\n",
       "...        ...       ...       ...       ...           ...\n",
       "15064    15040  0.061898  0.990375  0.123797          13.0\n",
       "15065    15043  0.049690  0.993808  0.099381          11.0\n",
       "15066    15052  0.136083  0.952579  0.272166          30.0\n",
       "15067    15065  0.047351  0.994379  0.094703          10.0\n",
       "15068    15069  0.070535  0.987484  0.141069          15.0\n",
       "\n",
       "[15069 rows x 5 columns]"
      ],
      "text/html": "<div>\n<style scoped>\n    .dataframe tbody tr th:only-of-type {\n        vertical-align: middle;\n    }\n\n    .dataframe tbody tr th {\n        vertical-align: top;\n    }\n\n    .dataframe thead th {\n        text-align: right;\n    }\n</style>\n<table border=\"1\" class=\"dataframe\">\n  <thead>\n    <tr style=\"text-align: right;\">\n      <th></th>\n      <th>Cliente</th>\n      <th>years</th>\n      <th>gerencia</th>\n      <th>tipo</th>\n      <th>client_score</th>\n    </tr>\n  </thead>\n  <tbody>\n    <tr>\n      <th>0</th>\n      <td>1</td>\n      <td>0.463595</td>\n      <td>0.885044</td>\n      <td>0.042145</td>\n      <td>37.0</td>\n    </tr>\n    <tr>\n      <th>1</th>\n      <td>9</td>\n      <td>0.462364</td>\n      <td>0.882696</td>\n      <td>0.084066</td>\n      <td>40.0</td>\n    </tr>\n    <tr>\n      <th>2</th>\n      <td>15</td>\n      <td>0.462364</td>\n      <td>0.882696</td>\n      <td>0.084066</td>\n      <td>40.0</td>\n    </tr>\n    <tr>\n      <th>3</th>\n      <td>37</td>\n      <td>0.462364</td>\n      <td>0.882696</td>\n      <td>0.084066</td>\n      <td>40.0</td>\n    </tr>\n    <tr>\n      <th>4</th>\n      <td>43</td>\n      <td>0.462364</td>\n      <td>0.882696</td>\n      <td>0.084066</td>\n      <td>40.0</td>\n    </tr>\n    <tr>\n      <th>...</th>\n      <td>...</td>\n      <td>...</td>\n      <td>...</td>\n      <td>...</td>\n      <td>...</td>\n    </tr>\n    <tr>\n      <th>15064</th>\n      <td>15040</td>\n      <td>0.061898</td>\n      <td>0.990375</td>\n      <td>0.123797</td>\n      <td>13.0</td>\n    </tr>\n    <tr>\n      <th>15065</th>\n      <td>15043</td>\n      <td>0.049690</td>\n      <td>0.993808</td>\n      <td>0.099381</td>\n      <td>11.0</td>\n    </tr>\n    <tr>\n      <th>15066</th>\n      <td>15052</td>\n      <td>0.136083</td>\n      <td>0.952579</td>\n      <td>0.272166</td>\n      <td>30.0</td>\n    </tr>\n    <tr>\n      <th>15067</th>\n      <td>15065</td>\n      <td>0.047351</td>\n      <td>0.994379</td>\n      <td>0.094703</td>\n      <td>10.0</td>\n    </tr>\n    <tr>\n      <th>15068</th>\n      <td>15069</td>\n      <td>0.070535</td>\n      <td>0.987484</td>\n      <td>0.141069</td>\n      <td>15.0</td>\n    </tr>\n  </tbody>\n</table>\n<p>15069 rows × 5 columns</p>\n</div>"
     },
     "metadata": {},
     "execution_count": 13
    }
   ],
   "source": [
    "norm_preprocess_client"
   ]
  },
  {
   "source": [
    "#### Back to the financials\n",
    "Lets again our data"
   ],
   "cell_type": "markdown",
   "metadata": {}
  },
  {
   "cell_type": "code",
   "execution_count": 14,
   "metadata": {},
   "outputs": [],
   "source": [
    "temp = (norm_preproSalesDf[\"rev\"].values+0.3*norm_preproSalesDf[\"dcto\"].values)\n",
    "temp =np.floor((temp*100)//(temp.max()))\n",
    "norm_preproSalesDf[\"sales_score\"]= temp"
   ]
  },
  {
   "cell_type": "code",
   "execution_count": 15,
   "metadata": {},
   "outputs": [],
   "source": [
    "norm_preproSalesDf[\"token\"] = norm_preproSalesDf[\"Cliente\"].map(lambda x: str(x)) + norm_preproSalesDf[\"Marca\"].map(lambda x: str(x))+norm_preproSalesDf[\"Cupo\"].map(lambda x: str(x)[:-2])"
   ]
  },
  {
   "cell_type": "code",
   "execution_count": 16,
   "metadata": {},
   "outputs": [
    {
     "output_type": "execute_result",
     "data": {
      "text/plain": [
       "           envase  segmento       rev      dcto  Cliente  Marca  Cupo  Mes  \\\n",
       "0        0.000315  0.000315  1.000000  0.000000        1     44  10.0    1   \n",
       "1        0.000020  0.000040  1.000000  0.000000        1     18  16.0    1   \n",
       "2        0.000167  0.000084  0.970561 -0.240855        1      2   6.0    6   \n",
       "3        0.000514  0.001029  0.999999  0.000000        1     37  34.0    7   \n",
       "4        0.000123  0.000062  1.000000  0.000000        1      2  16.0    8   \n",
       "...           ...       ...       ...       ...      ...    ...   ...  ...   \n",
       "1894242  0.000265  0.000529  1.000000  0.000000    15068     44  32.0    8   \n",
       "1894243  0.000159  0.000318  1.000000  0.000000    15069     44  32.0    3   \n",
       "1894244  0.000159  0.000318  1.000000  0.000000    15069     44  32.0    4   \n",
       "1894245  0.000127  0.000064  1.000000  0.000000    15069      2   6.0    4   \n",
       "1894246  0.000062  0.000124  1.000000  0.000000    15069     44  29.0    7   \n",
       "\n",
       "         sales_score      token  \n",
       "0               99.0      14410  \n",
       "1               99.0      11816  \n",
       "2               89.0        126  \n",
       "3               99.0      13734  \n",
       "4               99.0       1216  \n",
       "...              ...        ...  \n",
       "1894242         99.0  150684432  \n",
       "1894243         99.0  150694432  \n",
       "1894244         99.0  150694432  \n",
       "1894245         99.0    1506926  \n",
       "1894246         99.0  150694429  \n",
       "\n",
       "[1894247 rows x 10 columns]"
      ],
      "text/html": "<div>\n<style scoped>\n    .dataframe tbody tr th:only-of-type {\n        vertical-align: middle;\n    }\n\n    .dataframe tbody tr th {\n        vertical-align: top;\n    }\n\n    .dataframe thead th {\n        text-align: right;\n    }\n</style>\n<table border=\"1\" class=\"dataframe\">\n  <thead>\n    <tr style=\"text-align: right;\">\n      <th></th>\n      <th>envase</th>\n      <th>segmento</th>\n      <th>rev</th>\n      <th>dcto</th>\n      <th>Cliente</th>\n      <th>Marca</th>\n      <th>Cupo</th>\n      <th>Mes</th>\n      <th>sales_score</th>\n      <th>token</th>\n    </tr>\n  </thead>\n  <tbody>\n    <tr>\n      <th>0</th>\n      <td>0.000315</td>\n      <td>0.000315</td>\n      <td>1.000000</td>\n      <td>0.000000</td>\n      <td>1</td>\n      <td>44</td>\n      <td>10.0</td>\n      <td>1</td>\n      <td>99.0</td>\n      <td>14410</td>\n    </tr>\n    <tr>\n      <th>1</th>\n      <td>0.000020</td>\n      <td>0.000040</td>\n      <td>1.000000</td>\n      <td>0.000000</td>\n      <td>1</td>\n      <td>18</td>\n      <td>16.0</td>\n      <td>1</td>\n      <td>99.0</td>\n      <td>11816</td>\n    </tr>\n    <tr>\n      <th>2</th>\n      <td>0.000167</td>\n      <td>0.000084</td>\n      <td>0.970561</td>\n      <td>-0.240855</td>\n      <td>1</td>\n      <td>2</td>\n      <td>6.0</td>\n      <td>6</td>\n      <td>89.0</td>\n      <td>126</td>\n    </tr>\n    <tr>\n      <th>3</th>\n      <td>0.000514</td>\n      <td>0.001029</td>\n      <td>0.999999</td>\n      <td>0.000000</td>\n      <td>1</td>\n      <td>37</td>\n      <td>34.0</td>\n      <td>7</td>\n      <td>99.0</td>\n      <td>13734</td>\n    </tr>\n    <tr>\n      <th>4</th>\n      <td>0.000123</td>\n      <td>0.000062</td>\n      <td>1.000000</td>\n      <td>0.000000</td>\n      <td>1</td>\n      <td>2</td>\n      <td>16.0</td>\n      <td>8</td>\n      <td>99.0</td>\n      <td>1216</td>\n    </tr>\n    <tr>\n      <th>...</th>\n      <td>...</td>\n      <td>...</td>\n      <td>...</td>\n      <td>...</td>\n      <td>...</td>\n      <td>...</td>\n      <td>...</td>\n      <td>...</td>\n      <td>...</td>\n      <td>...</td>\n    </tr>\n    <tr>\n      <th>1894242</th>\n      <td>0.000265</td>\n      <td>0.000529</td>\n      <td>1.000000</td>\n      <td>0.000000</td>\n      <td>15068</td>\n      <td>44</td>\n      <td>32.0</td>\n      <td>8</td>\n      <td>99.0</td>\n      <td>150684432</td>\n    </tr>\n    <tr>\n      <th>1894243</th>\n      <td>0.000159</td>\n      <td>0.000318</td>\n      <td>1.000000</td>\n      <td>0.000000</td>\n      <td>15069</td>\n      <td>44</td>\n      <td>32.0</td>\n      <td>3</td>\n      <td>99.0</td>\n      <td>150694432</td>\n    </tr>\n    <tr>\n      <th>1894244</th>\n      <td>0.000159</td>\n      <td>0.000318</td>\n      <td>1.000000</td>\n      <td>0.000000</td>\n      <td>15069</td>\n      <td>44</td>\n      <td>32.0</td>\n      <td>4</td>\n      <td>99.0</td>\n      <td>150694432</td>\n    </tr>\n    <tr>\n      <th>1894245</th>\n      <td>0.000127</td>\n      <td>0.000064</td>\n      <td>1.000000</td>\n      <td>0.000000</td>\n      <td>15069</td>\n      <td>2</td>\n      <td>6.0</td>\n      <td>4</td>\n      <td>99.0</td>\n      <td>1506926</td>\n    </tr>\n    <tr>\n      <th>1894246</th>\n      <td>0.000062</td>\n      <td>0.000124</td>\n      <td>1.000000</td>\n      <td>0.000000</td>\n      <td>15069</td>\n      <td>44</td>\n      <td>29.0</td>\n      <td>7</td>\n      <td>99.0</td>\n      <td>150694429</td>\n    </tr>\n  </tbody>\n</table>\n<p>1894247 rows × 10 columns</p>\n</div>"
     },
     "metadata": {},
     "execution_count": 16
    }
   ],
   "source": [
    "norm_preproSalesDf"
   ]
  },
  {
   "cell_type": "code",
   "execution_count": null,
   "metadata": {},
   "outputs": [],
   "source": []
  },
  {
   "source": [
    "Preprocessing Promos data"
   ],
   "cell_type": "markdown",
   "metadata": {}
  },
  {
   "cell_type": "code",
   "execution_count": 17,
   "metadata": {},
   "outputs": [],
   "source": [
    "executedPromosDf = pd.read_csv(datas[2],encoding=\"latin1\")\n",
    "active_promosDf  = pd.read_csv(datas[3],encoding=\"latin1\")"
   ]
  },
  {
   "cell_type": "code",
   "execution_count": 18,
   "metadata": {},
   "outputs": [
    {
     "output_type": "execute_result",
     "data": {
      "text/plain": [
       "       CodigoDC  Cliente  Marca  Cupo\n",
       "0        297601     8410     29     9\n",
       "1        297601     9337     29     9\n",
       "2        309843     7404     40    16\n",
       "3        309874     4017     40    16\n",
       "4        309910     6316     40    16\n",
       "...         ...      ...    ...   ...\n",
       "27789    651436     9798     39    20\n",
       "27790    651588     2397     39    20\n",
       "27791    651597     4430     40    16\n",
       "27792    651617     7347     39    20\n",
       "27793    652143     1584     40    16\n",
       "\n",
       "[27794 rows x 4 columns]"
      ],
      "text/html": "<div>\n<style scoped>\n    .dataframe tbody tr th:only-of-type {\n        vertical-align: middle;\n    }\n\n    .dataframe tbody tr th {\n        vertical-align: top;\n    }\n\n    .dataframe thead th {\n        text-align: right;\n    }\n</style>\n<table border=\"1\" class=\"dataframe\">\n  <thead>\n    <tr style=\"text-align: right;\">\n      <th></th>\n      <th>CodigoDC</th>\n      <th>Cliente</th>\n      <th>Marca</th>\n      <th>Cupo</th>\n    </tr>\n  </thead>\n  <tbody>\n    <tr>\n      <th>0</th>\n      <td>297601</td>\n      <td>8410</td>\n      <td>29</td>\n      <td>9</td>\n    </tr>\n    <tr>\n      <th>1</th>\n      <td>297601</td>\n      <td>9337</td>\n      <td>29</td>\n      <td>9</td>\n    </tr>\n    <tr>\n      <th>2</th>\n      <td>309843</td>\n      <td>7404</td>\n      <td>40</td>\n      <td>16</td>\n    </tr>\n    <tr>\n      <th>3</th>\n      <td>309874</td>\n      <td>4017</td>\n      <td>40</td>\n      <td>16</td>\n    </tr>\n    <tr>\n      <th>4</th>\n      <td>309910</td>\n      <td>6316</td>\n      <td>40</td>\n      <td>16</td>\n    </tr>\n    <tr>\n      <th>...</th>\n      <td>...</td>\n      <td>...</td>\n      <td>...</td>\n      <td>...</td>\n    </tr>\n    <tr>\n      <th>27789</th>\n      <td>651436</td>\n      <td>9798</td>\n      <td>39</td>\n      <td>20</td>\n    </tr>\n    <tr>\n      <th>27790</th>\n      <td>651588</td>\n      <td>2397</td>\n      <td>39</td>\n      <td>20</td>\n    </tr>\n    <tr>\n      <th>27791</th>\n      <td>651597</td>\n      <td>4430</td>\n      <td>40</td>\n      <td>16</td>\n    </tr>\n    <tr>\n      <th>27792</th>\n      <td>651617</td>\n      <td>7347</td>\n      <td>39</td>\n      <td>20</td>\n    </tr>\n    <tr>\n      <th>27793</th>\n      <td>652143</td>\n      <td>1584</td>\n      <td>40</td>\n      <td>16</td>\n    </tr>\n  </tbody>\n</table>\n<p>27794 rows × 4 columns</p>\n</div>"
     },
     "metadata": {},
     "execution_count": 18
    }
   ],
   "source": [
    "executedPromosDf"
   ]
  },
  {
   "cell_type": "code",
   "execution_count": 19,
   "metadata": {},
   "outputs": [],
   "source": [
    "executedPromosDf[\"token\"] = executedPromosDf[\"Cliente\"].map(lambda x: str(x)) + executedPromosDf[\"Marca\"].map(lambda x: str(x))+executedPromosDf[\"Cupo\"].map(lambda x: str(x))"
   ]
  },
  {
   "cell_type": "code",
   "execution_count": 20,
   "metadata": {},
   "outputs": [],
   "source": [
    "executedPromosDf[\"executed\"]= \"yes\""
   ]
  },
  {
   "cell_type": "code",
   "execution_count": 21,
   "metadata": {},
   "outputs": [],
   "source": [
    "index_executedPromosDf=executedPromosDf[[\"token\",\"executed\"]]"
   ]
  },
  {
   "cell_type": "code",
   "execution_count": 22,
   "metadata": {},
   "outputs": [],
   "source": [
    "index_executedPromosDf.dropna(inplace=True)"
   ]
  },
  {
   "cell_type": "code",
   "execution_count": 23,
   "metadata": {},
   "outputs": [
    {
     "output_type": "execute_result",
     "data": {
      "text/plain": [
       "          token executed\n",
       "0       8410299      yes\n",
       "1       9337299      yes\n",
       "2      74044016      yes\n",
       "3      40174016      yes\n",
       "4      63164016      yes\n",
       "...         ...      ...\n",
       "27789  97983920      yes\n",
       "27790  23973920      yes\n",
       "27791  44304016      yes\n",
       "27792  73473920      yes\n",
       "27793  15844016      yes\n",
       "\n",
       "[27794 rows x 2 columns]"
      ],
      "text/html": "<div>\n<style scoped>\n    .dataframe tbody tr th:only-of-type {\n        vertical-align: middle;\n    }\n\n    .dataframe tbody tr th {\n        vertical-align: top;\n    }\n\n    .dataframe thead th {\n        text-align: right;\n    }\n</style>\n<table border=\"1\" class=\"dataframe\">\n  <thead>\n    <tr style=\"text-align: right;\">\n      <th></th>\n      <th>token</th>\n      <th>executed</th>\n    </tr>\n  </thead>\n  <tbody>\n    <tr>\n      <th>0</th>\n      <td>8410299</td>\n      <td>yes</td>\n    </tr>\n    <tr>\n      <th>1</th>\n      <td>9337299</td>\n      <td>yes</td>\n    </tr>\n    <tr>\n      <th>2</th>\n      <td>74044016</td>\n      <td>yes</td>\n    </tr>\n    <tr>\n      <th>3</th>\n      <td>40174016</td>\n      <td>yes</td>\n    </tr>\n    <tr>\n      <th>4</th>\n      <td>63164016</td>\n      <td>yes</td>\n    </tr>\n    <tr>\n      <th>...</th>\n      <td>...</td>\n      <td>...</td>\n    </tr>\n    <tr>\n      <th>27789</th>\n      <td>97983920</td>\n      <td>yes</td>\n    </tr>\n    <tr>\n      <th>27790</th>\n      <td>23973920</td>\n      <td>yes</td>\n    </tr>\n    <tr>\n      <th>27791</th>\n      <td>44304016</td>\n      <td>yes</td>\n    </tr>\n    <tr>\n      <th>27792</th>\n      <td>73473920</td>\n      <td>yes</td>\n    </tr>\n    <tr>\n      <th>27793</th>\n      <td>15844016</td>\n      <td>yes</td>\n    </tr>\n  </tbody>\n</table>\n<p>27794 rows × 2 columns</p>\n</div>"
     },
     "metadata": {},
     "execution_count": 23
    }
   ],
   "source": [
    "index_executedPromosDf"
   ]
  },
  {
   "cell_type": "code",
   "execution_count": 24,
   "metadata": {},
   "outputs": [
    {
     "output_type": "execute_result",
     "data": {
      "text/plain": [
       "     token executed\n",
       "0  8410299      yes"
      ],
      "text/html": "<div>\n<style scoped>\n    .dataframe tbody tr th:only-of-type {\n        vertical-align: middle;\n    }\n\n    .dataframe tbody tr th {\n        vertical-align: top;\n    }\n\n    .dataframe thead th {\n        text-align: right;\n    }\n</style>\n<table border=\"1\" class=\"dataframe\">\n  <thead>\n    <tr style=\"text-align: right;\">\n      <th></th>\n      <th>token</th>\n      <th>executed</th>\n    </tr>\n  </thead>\n  <tbody>\n    <tr>\n      <th>0</th>\n      <td>8410299</td>\n      <td>yes</td>\n    </tr>\n  </tbody>\n</table>\n</div>"
     },
     "metadata": {},
     "execution_count": 24
    }
   ],
   "source": [
    "index_executedPromosDf.head(1)"
   ]
  },
  {
   "cell_type": "code",
   "execution_count": 25,
   "metadata": {},
   "outputs": [
    {
     "output_type": "execute_result",
     "data": {
      "text/plain": [
       "   Cliente     years  gerencia      tipo  client_score\n",
       "0        1  0.463595  0.885044  0.042145          37.0"
      ],
      "text/html": "<div>\n<style scoped>\n    .dataframe tbody tr th:only-of-type {\n        vertical-align: middle;\n    }\n\n    .dataframe tbody tr th {\n        vertical-align: top;\n    }\n\n    .dataframe thead th {\n        text-align: right;\n    }\n</style>\n<table border=\"1\" class=\"dataframe\">\n  <thead>\n    <tr style=\"text-align: right;\">\n      <th></th>\n      <th>Cliente</th>\n      <th>years</th>\n      <th>gerencia</th>\n      <th>tipo</th>\n      <th>client_score</th>\n    </tr>\n  </thead>\n  <tbody>\n    <tr>\n      <th>0</th>\n      <td>1</td>\n      <td>0.463595</td>\n      <td>0.885044</td>\n      <td>0.042145</td>\n      <td>37.0</td>\n    </tr>\n  </tbody>\n</table>\n</div>"
     },
     "metadata": {},
     "execution_count": 25
    }
   ],
   "source": [
    "norm_preprocess_client.head(1)"
   ]
  },
  {
   "cell_type": "code",
   "execution_count": 26,
   "metadata": {},
   "outputs": [
    {
     "output_type": "execute_result",
     "data": {
      "text/plain": [
       "     envase  segmento  rev  dcto  Cliente  Marca  Cupo  Mes  sales_score  \\\n",
       "0  0.000315  0.000315  1.0   0.0        1     44  10.0    1         99.0   \n",
       "\n",
       "   token  \n",
       "0  14410  "
      ],
      "text/html": "<div>\n<style scoped>\n    .dataframe tbody tr th:only-of-type {\n        vertical-align: middle;\n    }\n\n    .dataframe tbody tr th {\n        vertical-align: top;\n    }\n\n    .dataframe thead th {\n        text-align: right;\n    }\n</style>\n<table border=\"1\" class=\"dataframe\">\n  <thead>\n    <tr style=\"text-align: right;\">\n      <th></th>\n      <th>envase</th>\n      <th>segmento</th>\n      <th>rev</th>\n      <th>dcto</th>\n      <th>Cliente</th>\n      <th>Marca</th>\n      <th>Cupo</th>\n      <th>Mes</th>\n      <th>sales_score</th>\n      <th>token</th>\n    </tr>\n  </thead>\n  <tbody>\n    <tr>\n      <th>0</th>\n      <td>0.000315</td>\n      <td>0.000315</td>\n      <td>1.0</td>\n      <td>0.0</td>\n      <td>1</td>\n      <td>44</td>\n      <td>10.0</td>\n      <td>1</td>\n      <td>99.0</td>\n      <td>14410</td>\n    </tr>\n  </tbody>\n</table>\n</div>"
     },
     "metadata": {},
     "execution_count": 26
    }
   ],
   "source": [
    "norm_preproSalesDf.head(1)"
   ]
  },
  {
   "cell_type": "code",
   "execution_count": 27,
   "metadata": {},
   "outputs": [],
   "source": [
    "index_executedPromosGroupedDf=index_executedPromosDf.groupby(\"token\",as_index=False).count()"
   ]
  },
  {
   "cell_type": "code",
   "execution_count": 28,
   "metadata": {},
   "outputs": [],
   "source": [
    "consolidatedSalesDf=norm_preproSalesDf.merge(index_executedPromosGroupedDf,on=\"token\",how=\"outer\").fillna(0)"
   ]
  },
  {
   "cell_type": "code",
   "execution_count": 29,
   "metadata": {},
   "outputs": [
    {
     "output_type": "execute_result",
     "data": {
      "text/plain": [
       "           envase  segmento       rev     dcto  Cliente  Marca  Cupo   Mes  \\\n",
       "0        0.000315  0.000315  1.000000  0.00000      1.0   44.0  10.0   1.0   \n",
       "1        0.000020  0.000040  1.000000  0.00000      1.0   18.0  16.0   1.0   \n",
       "2        0.000037  0.000074  0.820978 -0.57096      1.0   18.0  16.0   7.0   \n",
       "3        0.000100  0.000199  1.000000  0.00000      1.0   18.0  16.0  11.0   \n",
       "4        0.000049  0.000097  1.000000  0.00000      1.0   18.0  16.0   4.0   \n",
       "...           ...       ...       ...      ...      ...    ...   ...   ...   \n",
       "1894413  0.000000  0.000000  0.000000  0.00000      0.0    0.0   0.0   0.0   \n",
       "1894414  0.000000  0.000000  0.000000  0.00000      0.0    0.0   0.0   0.0   \n",
       "1894415  0.000000  0.000000  0.000000  0.00000      0.0    0.0   0.0   0.0   \n",
       "1894416  0.000000  0.000000  0.000000  0.00000      0.0    0.0   0.0   0.0   \n",
       "1894417  0.000000  0.000000  0.000000  0.00000      0.0    0.0   0.0   0.0   \n",
       "\n",
       "         sales_score     token  executed  \n",
       "0               99.0     14410       0.0  \n",
       "1               99.0     11816       0.0  \n",
       "2               64.0     11816       0.0  \n",
       "3               99.0     11816       0.0  \n",
       "4               99.0     11816       0.0  \n",
       "...              ...       ...       ...  \n",
       "1894413          0.0  97334016       1.0  \n",
       "1894414          0.0  98044016       1.0  \n",
       "1894415          0.0  98734016       1.0  \n",
       "1894416          0.0  99244016       1.0  \n",
       "1894417          0.0  99604016       1.0  \n",
       "\n",
       "[1894418 rows x 11 columns]"
      ],
      "text/html": "<div>\n<style scoped>\n    .dataframe tbody tr th:only-of-type {\n        vertical-align: middle;\n    }\n\n    .dataframe tbody tr th {\n        vertical-align: top;\n    }\n\n    .dataframe thead th {\n        text-align: right;\n    }\n</style>\n<table border=\"1\" class=\"dataframe\">\n  <thead>\n    <tr style=\"text-align: right;\">\n      <th></th>\n      <th>envase</th>\n      <th>segmento</th>\n      <th>rev</th>\n      <th>dcto</th>\n      <th>Cliente</th>\n      <th>Marca</th>\n      <th>Cupo</th>\n      <th>Mes</th>\n      <th>sales_score</th>\n      <th>token</th>\n      <th>executed</th>\n    </tr>\n  </thead>\n  <tbody>\n    <tr>\n      <th>0</th>\n      <td>0.000315</td>\n      <td>0.000315</td>\n      <td>1.000000</td>\n      <td>0.00000</td>\n      <td>1.0</td>\n      <td>44.0</td>\n      <td>10.0</td>\n      <td>1.0</td>\n      <td>99.0</td>\n      <td>14410</td>\n      <td>0.0</td>\n    </tr>\n    <tr>\n      <th>1</th>\n      <td>0.000020</td>\n      <td>0.000040</td>\n      <td>1.000000</td>\n      <td>0.00000</td>\n      <td>1.0</td>\n      <td>18.0</td>\n      <td>16.0</td>\n      <td>1.0</td>\n      <td>99.0</td>\n      <td>11816</td>\n      <td>0.0</td>\n    </tr>\n    <tr>\n      <th>2</th>\n      <td>0.000037</td>\n      <td>0.000074</td>\n      <td>0.820978</td>\n      <td>-0.57096</td>\n      <td>1.0</td>\n      <td>18.0</td>\n      <td>16.0</td>\n      <td>7.0</td>\n      <td>64.0</td>\n      <td>11816</td>\n      <td>0.0</td>\n    </tr>\n    <tr>\n      <th>3</th>\n      <td>0.000100</td>\n      <td>0.000199</td>\n      <td>1.000000</td>\n      <td>0.00000</td>\n      <td>1.0</td>\n      <td>18.0</td>\n      <td>16.0</td>\n      <td>11.0</td>\n      <td>99.0</td>\n      <td>11816</td>\n      <td>0.0</td>\n    </tr>\n    <tr>\n      <th>4</th>\n      <td>0.000049</td>\n      <td>0.000097</td>\n      <td>1.000000</td>\n      <td>0.00000</td>\n      <td>1.0</td>\n      <td>18.0</td>\n      <td>16.0</td>\n      <td>4.0</td>\n      <td>99.0</td>\n      <td>11816</td>\n      <td>0.0</td>\n    </tr>\n    <tr>\n      <th>...</th>\n      <td>...</td>\n      <td>...</td>\n      <td>...</td>\n      <td>...</td>\n      <td>...</td>\n      <td>...</td>\n      <td>...</td>\n      <td>...</td>\n      <td>...</td>\n      <td>...</td>\n      <td>...</td>\n    </tr>\n    <tr>\n      <th>1894413</th>\n      <td>0.000000</td>\n      <td>0.000000</td>\n      <td>0.000000</td>\n      <td>0.00000</td>\n      <td>0.0</td>\n      <td>0.0</td>\n      <td>0.0</td>\n      <td>0.0</td>\n      <td>0.0</td>\n      <td>97334016</td>\n      <td>1.0</td>\n    </tr>\n    <tr>\n      <th>1894414</th>\n      <td>0.000000</td>\n      <td>0.000000</td>\n      <td>0.000000</td>\n      <td>0.00000</td>\n      <td>0.0</td>\n      <td>0.0</td>\n      <td>0.0</td>\n      <td>0.0</td>\n      <td>0.0</td>\n      <td>98044016</td>\n      <td>1.0</td>\n    </tr>\n    <tr>\n      <th>1894415</th>\n      <td>0.000000</td>\n      <td>0.000000</td>\n      <td>0.000000</td>\n      <td>0.00000</td>\n      <td>0.0</td>\n      <td>0.0</td>\n      <td>0.0</td>\n      <td>0.0</td>\n      <td>0.0</td>\n      <td>98734016</td>\n      <td>1.0</td>\n    </tr>\n    <tr>\n      <th>1894416</th>\n      <td>0.000000</td>\n      <td>0.000000</td>\n      <td>0.000000</td>\n      <td>0.00000</td>\n      <td>0.0</td>\n      <td>0.0</td>\n      <td>0.0</td>\n      <td>0.0</td>\n      <td>0.0</td>\n      <td>99244016</td>\n      <td>1.0</td>\n    </tr>\n    <tr>\n      <th>1894417</th>\n      <td>0.000000</td>\n      <td>0.000000</td>\n      <td>0.000000</td>\n      <td>0.00000</td>\n      <td>0.0</td>\n      <td>0.0</td>\n      <td>0.0</td>\n      <td>0.0</td>\n      <td>0.0</td>\n      <td>99604016</td>\n      <td>1.0</td>\n    </tr>\n  </tbody>\n</table>\n<p>1894418 rows × 11 columns</p>\n</div>"
     },
     "metadata": {},
     "execution_count": 29
    }
   ],
   "source": [
    "consolidatedSalesDf"
   ]
  },
  {
   "cell_type": "code",
   "execution_count": null,
   "metadata": {},
   "outputs": [],
   "source": []
  },
  {
   "cell_type": "code",
   "execution_count": 30,
   "metadata": {},
   "outputs": [],
   "source": [
    "consolidatedSalesDf=consolidatedSalesDf[[\"token\",\"Mes\",\"executed\",\"Cliente\",\"Marca\",\"Cupo\",\"envase\",\"segmento\",\"rev\",\t \"dcto\",\"sales_score\"]]"
   ]
  },
  {
   "cell_type": "code",
   "execution_count": 31,
   "metadata": {},
   "outputs": [],
   "source": [
    "consolidatedSalesDf=consolidatedSalesDf[consolidatedSalesDf[\"Cliente\"]!=0]"
   ]
  },
  {
   "cell_type": "code",
   "execution_count": 32,
   "metadata": {},
   "outputs": [
    {
     "output_type": "execute_result",
     "data": {
      "text/plain": [
       "   token   Mes  executed  Cliente  Marca  Cupo    envase  segmento       rev  \\\n",
       "0  14410   1.0       0.0      1.0   44.0  10.0  0.000315  0.000315  1.000000   \n",
       "1  11816   1.0       0.0      1.0   18.0  16.0  0.000020  0.000040  1.000000   \n",
       "2  11816   7.0       0.0      1.0   18.0  16.0  0.000037  0.000074  0.820978   \n",
       "3  11816  11.0       0.0      1.0   18.0  16.0  0.000100  0.000199  1.000000   \n",
       "4  11816   4.0       0.0      1.0   18.0  16.0  0.000049  0.000097  1.000000   \n",
       "\n",
       "      dcto  sales_score  \n",
       "0  0.00000         99.0  \n",
       "1  0.00000         99.0  \n",
       "2 -0.57096         64.0  \n",
       "3  0.00000         99.0  \n",
       "4  0.00000         99.0  "
      ],
      "text/html": "<div>\n<style scoped>\n    .dataframe tbody tr th:only-of-type {\n        vertical-align: middle;\n    }\n\n    .dataframe tbody tr th {\n        vertical-align: top;\n    }\n\n    .dataframe thead th {\n        text-align: right;\n    }\n</style>\n<table border=\"1\" class=\"dataframe\">\n  <thead>\n    <tr style=\"text-align: right;\">\n      <th></th>\n      <th>token</th>\n      <th>Mes</th>\n      <th>executed</th>\n      <th>Cliente</th>\n      <th>Marca</th>\n      <th>Cupo</th>\n      <th>envase</th>\n      <th>segmento</th>\n      <th>rev</th>\n      <th>dcto</th>\n      <th>sales_score</th>\n    </tr>\n  </thead>\n  <tbody>\n    <tr>\n      <th>0</th>\n      <td>14410</td>\n      <td>1.0</td>\n      <td>0.0</td>\n      <td>1.0</td>\n      <td>44.0</td>\n      <td>10.0</td>\n      <td>0.000315</td>\n      <td>0.000315</td>\n      <td>1.000000</td>\n      <td>0.00000</td>\n      <td>99.0</td>\n    </tr>\n    <tr>\n      <th>1</th>\n      <td>11816</td>\n      <td>1.0</td>\n      <td>0.0</td>\n      <td>1.0</td>\n      <td>18.0</td>\n      <td>16.0</td>\n      <td>0.000020</td>\n      <td>0.000040</td>\n      <td>1.000000</td>\n      <td>0.00000</td>\n      <td>99.0</td>\n    </tr>\n    <tr>\n      <th>2</th>\n      <td>11816</td>\n      <td>7.0</td>\n      <td>0.0</td>\n      <td>1.0</td>\n      <td>18.0</td>\n      <td>16.0</td>\n      <td>0.000037</td>\n      <td>0.000074</td>\n      <td>0.820978</td>\n      <td>-0.57096</td>\n      <td>64.0</td>\n    </tr>\n    <tr>\n      <th>3</th>\n      <td>11816</td>\n      <td>11.0</td>\n      <td>0.0</td>\n      <td>1.0</td>\n      <td>18.0</td>\n      <td>16.0</td>\n      <td>0.000100</td>\n      <td>0.000199</td>\n      <td>1.000000</td>\n      <td>0.00000</td>\n      <td>99.0</td>\n    </tr>\n    <tr>\n      <th>4</th>\n      <td>11816</td>\n      <td>4.0</td>\n      <td>0.0</td>\n      <td>1.0</td>\n      <td>18.0</td>\n      <td>16.0</td>\n      <td>0.000049</td>\n      <td>0.000097</td>\n      <td>1.000000</td>\n      <td>0.00000</td>\n      <td>99.0</td>\n    </tr>\n  </tbody>\n</table>\n</div>"
     },
     "metadata": {},
     "execution_count": 32
    }
   ],
   "source": [
    "consolidatedSalesDf.head()"
   ]
  },
  {
   "cell_type": "code",
   "execution_count": 33,
   "metadata": {},
   "outputs": [],
   "source": [
    "active_promosDf  = pd.read_csv(datas[3],encoding=\"latin1\")"
   ]
  },
  {
   "cell_type": "code",
   "execution_count": 34,
   "metadata": {},
   "outputs": [],
   "source": [
    "active_promosDf[\"token\"] = active_promosDf[\"Cliente\"].map(lambda x: str(x)) + active_promosDf[\"Marca\"].map(lambda x: str(x))+active_promosDf[\"Cupo\"].map(lambda x: str(x))"
   ]
  },
  {
   "cell_type": "code",
   "execution_count": 35,
   "metadata": {},
   "outputs": [
    {
     "output_type": "execute_result",
     "data": {
      "text/plain": [
       "        CodigoDC  Marca  Cupo Fecha_Desde Fecha_Hasta  Cliente      token\n",
       "0         297601     29     9  2018-08-06  2018-08-30     3213    3213299\n",
       "1         297601     29     9  2018-08-06  2018-08-30     3795    3795299\n",
       "2         297601     29     9  2018-08-06  2018-08-30    11816   11816299\n",
       "3         298856     40    16  2018-08-12  2018-08-19     8444   84444016\n",
       "4         309916     40    16  2018-08-12  2018-08-19     8488   84884016\n",
       "...          ...    ...   ...         ...         ...      ...        ...\n",
       "422432    688354     40    16  2019-09-25  2019-09-26    14435  144354016\n",
       "422433    688355     29     9  2019-09-25  2019-09-26      320     320299\n",
       "422434    688355     29     9  2019-09-25  2019-09-26     3117    3117299\n",
       "422435    688355     29     9  2019-09-25  2019-09-26     3503    3503299\n",
       "422436    688355     29     9  2019-09-25  2019-09-26     6372    6372299\n",
       "\n",
       "[422437 rows x 7 columns]"
      ],
      "text/html": "<div>\n<style scoped>\n    .dataframe tbody tr th:only-of-type {\n        vertical-align: middle;\n    }\n\n    .dataframe tbody tr th {\n        vertical-align: top;\n    }\n\n    .dataframe thead th {\n        text-align: right;\n    }\n</style>\n<table border=\"1\" class=\"dataframe\">\n  <thead>\n    <tr style=\"text-align: right;\">\n      <th></th>\n      <th>CodigoDC</th>\n      <th>Marca</th>\n      <th>Cupo</th>\n      <th>Fecha_Desde</th>\n      <th>Fecha_Hasta</th>\n      <th>Cliente</th>\n      <th>token</th>\n    </tr>\n  </thead>\n  <tbody>\n    <tr>\n      <th>0</th>\n      <td>297601</td>\n      <td>29</td>\n      <td>9</td>\n      <td>2018-08-06</td>\n      <td>2018-08-30</td>\n      <td>3213</td>\n      <td>3213299</td>\n    </tr>\n    <tr>\n      <th>1</th>\n      <td>297601</td>\n      <td>29</td>\n      <td>9</td>\n      <td>2018-08-06</td>\n      <td>2018-08-30</td>\n      <td>3795</td>\n      <td>3795299</td>\n    </tr>\n    <tr>\n      <th>2</th>\n      <td>297601</td>\n      <td>29</td>\n      <td>9</td>\n      <td>2018-08-06</td>\n      <td>2018-08-30</td>\n      <td>11816</td>\n      <td>11816299</td>\n    </tr>\n    <tr>\n      <th>3</th>\n      <td>298856</td>\n      <td>40</td>\n      <td>16</td>\n      <td>2018-08-12</td>\n      <td>2018-08-19</td>\n      <td>8444</td>\n      <td>84444016</td>\n    </tr>\n    <tr>\n      <th>4</th>\n      <td>309916</td>\n      <td>40</td>\n      <td>16</td>\n      <td>2018-08-12</td>\n      <td>2018-08-19</td>\n      <td>8488</td>\n      <td>84884016</td>\n    </tr>\n    <tr>\n      <th>...</th>\n      <td>...</td>\n      <td>...</td>\n      <td>...</td>\n      <td>...</td>\n      <td>...</td>\n      <td>...</td>\n      <td>...</td>\n    </tr>\n    <tr>\n      <th>422432</th>\n      <td>688354</td>\n      <td>40</td>\n      <td>16</td>\n      <td>2019-09-25</td>\n      <td>2019-09-26</td>\n      <td>14435</td>\n      <td>144354016</td>\n    </tr>\n    <tr>\n      <th>422433</th>\n      <td>688355</td>\n      <td>29</td>\n      <td>9</td>\n      <td>2019-09-25</td>\n      <td>2019-09-26</td>\n      <td>320</td>\n      <td>320299</td>\n    </tr>\n    <tr>\n      <th>422434</th>\n      <td>688355</td>\n      <td>29</td>\n      <td>9</td>\n      <td>2019-09-25</td>\n      <td>2019-09-26</td>\n      <td>3117</td>\n      <td>3117299</td>\n    </tr>\n    <tr>\n      <th>422435</th>\n      <td>688355</td>\n      <td>29</td>\n      <td>9</td>\n      <td>2019-09-25</td>\n      <td>2019-09-26</td>\n      <td>3503</td>\n      <td>3503299</td>\n    </tr>\n    <tr>\n      <th>422436</th>\n      <td>688355</td>\n      <td>29</td>\n      <td>9</td>\n      <td>2019-09-25</td>\n      <td>2019-09-26</td>\n      <td>6372</td>\n      <td>6372299</td>\n    </tr>\n  </tbody>\n</table>\n<p>422437 rows × 7 columns</p>\n</div>"
     },
     "metadata": {},
     "execution_count": 35
    }
   ],
   "source": [
    "active_promosDf"
   ]
  },
  {
   "cell_type": "code",
   "execution_count": 36,
   "metadata": {},
   "outputs": [
    {
     "output_type": "execute_result",
     "data": {
      "text/plain": [
       "         CodigoDC  Cliente_x  Marca_x  Cupo_x  token_x executed  Marca_y  \\\n",
       "0          297601     8410.0     29.0     9.0  8410299      yes       29   \n",
       "1          297601     8410.0     29.0     9.0  8410299      yes       29   \n",
       "2          297601     8410.0     29.0     9.0  8410299      yes       29   \n",
       "3          297601     8410.0     29.0     9.0  8410299      yes       29   \n",
       "4          297601     8410.0     29.0     9.0  8410299      yes       29   \n",
       "...           ...        ...      ...     ...      ...      ...      ...   \n",
       "9686334    687322        NaN      NaN     NaN      NaN      NaN       40   \n",
       "9686335    687694        NaN      NaN     NaN      NaN      NaN       39   \n",
       "9686336    687694        NaN      NaN     NaN      NaN      NaN       40   \n",
       "9686337    687704        NaN      NaN     NaN      NaN      NaN       39   \n",
       "9686338    687704        NaN      NaN     NaN      NaN      NaN       40   \n",
       "\n",
       "         Cupo_y Fecha_Desde Fecha_Hasta  Cliente_y   token_y  \n",
       "0             9  2018-08-06  2018-08-30       3213   3213299  \n",
       "1             9  2018-08-06  2018-08-30       3795   3795299  \n",
       "2             9  2018-08-06  2018-08-30      11816  11816299  \n",
       "3             9  2018-08-06  2018-08-30       6106   6106299  \n",
       "4             9  2018-08-06  2018-08-30       8157   8157299  \n",
       "...         ...         ...         ...        ...       ...  \n",
       "9686334      16  2019-09-22  2019-09-22       9774  97744016  \n",
       "9686335      20  2019-09-22  2019-09-22       8584  85843920  \n",
       "9686336      16  2019-09-22  2019-09-22       8584  85844016  \n",
       "9686337      20  2019-09-22  2019-09-22       2632  26323920  \n",
       "9686338      16  2019-09-22  2019-09-22       2632  26324016  \n",
       "\n",
       "[9686339 rows x 12 columns]"
      ],
      "text/html": "<div>\n<style scoped>\n    .dataframe tbody tr th:only-of-type {\n        vertical-align: middle;\n    }\n\n    .dataframe tbody tr th {\n        vertical-align: top;\n    }\n\n    .dataframe thead th {\n        text-align: right;\n    }\n</style>\n<table border=\"1\" class=\"dataframe\">\n  <thead>\n    <tr style=\"text-align: right;\">\n      <th></th>\n      <th>CodigoDC</th>\n      <th>Cliente_x</th>\n      <th>Marca_x</th>\n      <th>Cupo_x</th>\n      <th>token_x</th>\n      <th>executed</th>\n      <th>Marca_y</th>\n      <th>Cupo_y</th>\n      <th>Fecha_Desde</th>\n      <th>Fecha_Hasta</th>\n      <th>Cliente_y</th>\n      <th>token_y</th>\n    </tr>\n  </thead>\n  <tbody>\n    <tr>\n      <th>0</th>\n      <td>297601</td>\n      <td>8410.0</td>\n      <td>29.0</td>\n      <td>9.0</td>\n      <td>8410299</td>\n      <td>yes</td>\n      <td>29</td>\n      <td>9</td>\n      <td>2018-08-06</td>\n      <td>2018-08-30</td>\n      <td>3213</td>\n      <td>3213299</td>\n    </tr>\n    <tr>\n      <th>1</th>\n      <td>297601</td>\n      <td>8410.0</td>\n      <td>29.0</td>\n      <td>9.0</td>\n      <td>8410299</td>\n      <td>yes</td>\n      <td>29</td>\n      <td>9</td>\n      <td>2018-08-06</td>\n      <td>2018-08-30</td>\n      <td>3795</td>\n      <td>3795299</td>\n    </tr>\n    <tr>\n      <th>2</th>\n      <td>297601</td>\n      <td>8410.0</td>\n      <td>29.0</td>\n      <td>9.0</td>\n      <td>8410299</td>\n      <td>yes</td>\n      <td>29</td>\n      <td>9</td>\n      <td>2018-08-06</td>\n      <td>2018-08-30</td>\n      <td>11816</td>\n      <td>11816299</td>\n    </tr>\n    <tr>\n      <th>3</th>\n      <td>297601</td>\n      <td>8410.0</td>\n      <td>29.0</td>\n      <td>9.0</td>\n      <td>8410299</td>\n      <td>yes</td>\n      <td>29</td>\n      <td>9</td>\n      <td>2018-08-06</td>\n      <td>2018-08-30</td>\n      <td>6106</td>\n      <td>6106299</td>\n    </tr>\n    <tr>\n      <th>4</th>\n      <td>297601</td>\n      <td>8410.0</td>\n      <td>29.0</td>\n      <td>9.0</td>\n      <td>8410299</td>\n      <td>yes</td>\n      <td>29</td>\n      <td>9</td>\n      <td>2018-08-06</td>\n      <td>2018-08-30</td>\n      <td>8157</td>\n      <td>8157299</td>\n    </tr>\n    <tr>\n      <th>...</th>\n      <td>...</td>\n      <td>...</td>\n      <td>...</td>\n      <td>...</td>\n      <td>...</td>\n      <td>...</td>\n      <td>...</td>\n      <td>...</td>\n      <td>...</td>\n      <td>...</td>\n      <td>...</td>\n      <td>...</td>\n    </tr>\n    <tr>\n      <th>9686334</th>\n      <td>687322</td>\n      <td>NaN</td>\n      <td>NaN</td>\n      <td>NaN</td>\n      <td>NaN</td>\n      <td>NaN</td>\n      <td>40</td>\n      <td>16</td>\n      <td>2019-09-22</td>\n      <td>2019-09-22</td>\n      <td>9774</td>\n      <td>97744016</td>\n    </tr>\n    <tr>\n      <th>9686335</th>\n      <td>687694</td>\n      <td>NaN</td>\n      <td>NaN</td>\n      <td>NaN</td>\n      <td>NaN</td>\n      <td>NaN</td>\n      <td>39</td>\n      <td>20</td>\n      <td>2019-09-22</td>\n      <td>2019-09-22</td>\n      <td>8584</td>\n      <td>85843920</td>\n    </tr>\n    <tr>\n      <th>9686336</th>\n      <td>687694</td>\n      <td>NaN</td>\n      <td>NaN</td>\n      <td>NaN</td>\n      <td>NaN</td>\n      <td>NaN</td>\n      <td>40</td>\n      <td>16</td>\n      <td>2019-09-22</td>\n      <td>2019-09-22</td>\n      <td>8584</td>\n      <td>85844016</td>\n    </tr>\n    <tr>\n      <th>9686337</th>\n      <td>687704</td>\n      <td>NaN</td>\n      <td>NaN</td>\n      <td>NaN</td>\n      <td>NaN</td>\n      <td>NaN</td>\n      <td>39</td>\n      <td>20</td>\n      <td>2019-09-22</td>\n      <td>2019-09-22</td>\n      <td>2632</td>\n      <td>26323920</td>\n    </tr>\n    <tr>\n      <th>9686338</th>\n      <td>687704</td>\n      <td>NaN</td>\n      <td>NaN</td>\n      <td>NaN</td>\n      <td>NaN</td>\n      <td>NaN</td>\n      <td>40</td>\n      <td>16</td>\n      <td>2019-09-22</td>\n      <td>2019-09-22</td>\n      <td>2632</td>\n      <td>26324016</td>\n    </tr>\n  </tbody>\n</table>\n<p>9686339 rows × 12 columns</p>\n</div>"
     },
     "metadata": {},
     "execution_count": 36
    }
   ],
   "source": [
    "executedPromosDf.merge(active_promosDf,on=\"CodigoDC\",how=\"outer\")"
   ]
  },
  {
   "cell_type": "code",
   "execution_count": 37,
   "metadata": {},
   "outputs": [
    {
     "output_type": "execute_result",
     "data": {
      "text/plain": [
       "   token   Mes  executed  Cliente  Marca  Cupo    envase  segmento       rev  \\\n",
       "0  14410   1.0       0.0      1.0   44.0  10.0  0.000315  0.000315  1.000000   \n",
       "1  11816   1.0       0.0      1.0   18.0  16.0  0.000020  0.000040  1.000000   \n",
       "2  11816   7.0       0.0      1.0   18.0  16.0  0.000037  0.000074  0.820978   \n",
       "3  11816  11.0       0.0      1.0   18.0  16.0  0.000100  0.000199  1.000000   \n",
       "4  11816   4.0       0.0      1.0   18.0  16.0  0.000049  0.000097  1.000000   \n",
       "\n",
       "      dcto  sales_score  \n",
       "0  0.00000         99.0  \n",
       "1  0.00000         99.0  \n",
       "2 -0.57096         64.0  \n",
       "3  0.00000         99.0  \n",
       "4  0.00000         99.0  "
      ],
      "text/html": "<div>\n<style scoped>\n    .dataframe tbody tr th:only-of-type {\n        vertical-align: middle;\n    }\n\n    .dataframe tbody tr th {\n        vertical-align: top;\n    }\n\n    .dataframe thead th {\n        text-align: right;\n    }\n</style>\n<table border=\"1\" class=\"dataframe\">\n  <thead>\n    <tr style=\"text-align: right;\">\n      <th></th>\n      <th>token</th>\n      <th>Mes</th>\n      <th>executed</th>\n      <th>Cliente</th>\n      <th>Marca</th>\n      <th>Cupo</th>\n      <th>envase</th>\n      <th>segmento</th>\n      <th>rev</th>\n      <th>dcto</th>\n      <th>sales_score</th>\n    </tr>\n  </thead>\n  <tbody>\n    <tr>\n      <th>0</th>\n      <td>14410</td>\n      <td>1.0</td>\n      <td>0.0</td>\n      <td>1.0</td>\n      <td>44.0</td>\n      <td>10.0</td>\n      <td>0.000315</td>\n      <td>0.000315</td>\n      <td>1.000000</td>\n      <td>0.00000</td>\n      <td>99.0</td>\n    </tr>\n    <tr>\n      <th>1</th>\n      <td>11816</td>\n      <td>1.0</td>\n      <td>0.0</td>\n      <td>1.0</td>\n      <td>18.0</td>\n      <td>16.0</td>\n      <td>0.000020</td>\n      <td>0.000040</td>\n      <td>1.000000</td>\n      <td>0.00000</td>\n      <td>99.0</td>\n    </tr>\n    <tr>\n      <th>2</th>\n      <td>11816</td>\n      <td>7.0</td>\n      <td>0.0</td>\n      <td>1.0</td>\n      <td>18.0</td>\n      <td>16.0</td>\n      <td>0.000037</td>\n      <td>0.000074</td>\n      <td>0.820978</td>\n      <td>-0.57096</td>\n      <td>64.0</td>\n    </tr>\n    <tr>\n      <th>3</th>\n      <td>11816</td>\n      <td>11.0</td>\n      <td>0.0</td>\n      <td>1.0</td>\n      <td>18.0</td>\n      <td>16.0</td>\n      <td>0.000100</td>\n      <td>0.000199</td>\n      <td>1.000000</td>\n      <td>0.00000</td>\n      <td>99.0</td>\n    </tr>\n    <tr>\n      <th>4</th>\n      <td>11816</td>\n      <td>4.0</td>\n      <td>0.0</td>\n      <td>1.0</td>\n      <td>18.0</td>\n      <td>16.0</td>\n      <td>0.000049</td>\n      <td>0.000097</td>\n      <td>1.000000</td>\n      <td>0.00000</td>\n      <td>99.0</td>\n    </tr>\n  </tbody>\n</table>\n</div>"
     },
     "metadata": {},
     "execution_count": 37
    }
   ],
   "source": [
    "consolidatedSalesDf.head()"
   ]
  },
  {
   "cell_type": "code",
   "execution_count": 38,
   "metadata": {},
   "outputs": [],
   "source": [
    "temp = consolidatedSalesDf[\"executed\"].values\n",
    "temp = np.floor(temp*100/temp.max())\n",
    "consolidatedSalesDf[\"promo_score\"] = temp"
   ]
  },
  {
   "cell_type": "code",
   "execution_count": 39,
   "metadata": {},
   "outputs": [],
   "source": [
    "consolidatedDf = norm_preprocess_client.merge(consolidatedSalesDf,on=\"Cliente\",how=\"inner\")"
   ]
  },
  {
   "cell_type": "code",
   "execution_count": 40,
   "metadata": {},
   "outputs": [],
   "source": [
    "consolidatedDf=consolidatedDf.drop(columns=[\"years\",\"executed\",\"gerencia\",\"tipo\",\"segmento\",\"envase\",\"rev\",\"dcto\"],inplace=False)"
   ]
  },
  {
   "cell_type": "code",
   "execution_count": 41,
   "metadata": {},
   "outputs": [],
   "source": [
    "temp = (consolidatedDf[\"promo_score\"].values/100) * (consolidatedDf[\"sales_score\"].values/100) *((consolidatedDf[\"client_score\"].values/100) ) \n",
    "\n",
    "consolidatedDf[\"prob\"]=temp"
   ]
  },
  {
   "cell_type": "code",
   "execution_count": 42,
   "metadata": {},
   "outputs": [],
   "source": [
    "temp2=consolidatedDf[consolidatedDf[\"prob\"]!=0]"
   ]
  },
  {
   "cell_type": "code",
   "execution_count": 43,
   "metadata": {},
   "outputs": [],
   "source": [
    "temp2 = temp2.reset_index(drop=True)"
   ]
  },
  {
   "cell_type": "code",
   "execution_count": 44,
   "metadata": {},
   "outputs": [
    {
     "output_type": "execute_result",
     "data": {
      "text/plain": [
       "        Cliente  client_score      token   Mes  Marca  Cupo  sales_score  \\\n",
       "0             1          37.0      14016   2.0   40.0  16.0         99.0   \n",
       "1             1          37.0      14016   8.0   40.0  16.0         99.0   \n",
       "2             1          37.0      14016   1.0   40.0  16.0         99.0   \n",
       "3             1          37.0      14016   3.0   40.0  16.0         99.0   \n",
       "4             1          37.0      14016  11.0   40.0  16.0         94.0   \n",
       "...         ...           ...        ...   ...    ...   ...          ...   \n",
       "109716    14991          27.0  149914016   7.0   40.0  16.0         99.0   \n",
       "109717    14991          27.0  149914016   4.0   40.0  16.0         99.0   \n",
       "109718    14991          27.0  149914016   5.0   40.0  16.0         99.0   \n",
       "109719    14991          27.0  149914016   6.0   40.0  16.0         97.0   \n",
       "109720    15020          17.0  150204016   8.0   40.0  16.0         99.0   \n",
       "\n",
       "        promo_score      prob  \n",
       "0               5.0  0.018315  \n",
       "1               5.0  0.018315  \n",
       "2               5.0  0.018315  \n",
       "3               5.0  0.018315  \n",
       "4               5.0  0.017390  \n",
       "...             ...       ...  \n",
       "109716         11.0  0.029403  \n",
       "109717         11.0  0.029403  \n",
       "109718         11.0  0.029403  \n",
       "109719         11.0  0.028809  \n",
       "109720          5.0  0.008415  \n",
       "\n",
       "[109721 rows x 9 columns]"
      ],
      "text/html": "<div>\n<style scoped>\n    .dataframe tbody tr th:only-of-type {\n        vertical-align: middle;\n    }\n\n    .dataframe tbody tr th {\n        vertical-align: top;\n    }\n\n    .dataframe thead th {\n        text-align: right;\n    }\n</style>\n<table border=\"1\" class=\"dataframe\">\n  <thead>\n    <tr style=\"text-align: right;\">\n      <th></th>\n      <th>Cliente</th>\n      <th>client_score</th>\n      <th>token</th>\n      <th>Mes</th>\n      <th>Marca</th>\n      <th>Cupo</th>\n      <th>sales_score</th>\n      <th>promo_score</th>\n      <th>prob</th>\n    </tr>\n  </thead>\n  <tbody>\n    <tr>\n      <th>0</th>\n      <td>1</td>\n      <td>37.0</td>\n      <td>14016</td>\n      <td>2.0</td>\n      <td>40.0</td>\n      <td>16.0</td>\n      <td>99.0</td>\n      <td>5.0</td>\n      <td>0.018315</td>\n    </tr>\n    <tr>\n      <th>1</th>\n      <td>1</td>\n      <td>37.0</td>\n      <td>14016</td>\n      <td>8.0</td>\n      <td>40.0</td>\n      <td>16.0</td>\n      <td>99.0</td>\n      <td>5.0</td>\n      <td>0.018315</td>\n    </tr>\n    <tr>\n      <th>2</th>\n      <td>1</td>\n      <td>37.0</td>\n      <td>14016</td>\n      <td>1.0</td>\n      <td>40.0</td>\n      <td>16.0</td>\n      <td>99.0</td>\n      <td>5.0</td>\n      <td>0.018315</td>\n    </tr>\n    <tr>\n      <th>3</th>\n      <td>1</td>\n      <td>37.0</td>\n      <td>14016</td>\n      <td>3.0</td>\n      <td>40.0</td>\n      <td>16.0</td>\n      <td>99.0</td>\n      <td>5.0</td>\n      <td>0.018315</td>\n    </tr>\n    <tr>\n      <th>4</th>\n      <td>1</td>\n      <td>37.0</td>\n      <td>14016</td>\n      <td>11.0</td>\n      <td>40.0</td>\n      <td>16.0</td>\n      <td>94.0</td>\n      <td>5.0</td>\n      <td>0.017390</td>\n    </tr>\n    <tr>\n      <th>...</th>\n      <td>...</td>\n      <td>...</td>\n      <td>...</td>\n      <td>...</td>\n      <td>...</td>\n      <td>...</td>\n      <td>...</td>\n      <td>...</td>\n      <td>...</td>\n    </tr>\n    <tr>\n      <th>109716</th>\n      <td>14991</td>\n      <td>27.0</td>\n      <td>149914016</td>\n      <td>7.0</td>\n      <td>40.0</td>\n      <td>16.0</td>\n      <td>99.0</td>\n      <td>11.0</td>\n      <td>0.029403</td>\n    </tr>\n    <tr>\n      <th>109717</th>\n      <td>14991</td>\n      <td>27.0</td>\n      <td>149914016</td>\n      <td>4.0</td>\n      <td>40.0</td>\n      <td>16.0</td>\n      <td>99.0</td>\n      <td>11.0</td>\n      <td>0.029403</td>\n    </tr>\n    <tr>\n      <th>109718</th>\n      <td>14991</td>\n      <td>27.0</td>\n      <td>149914016</td>\n      <td>5.0</td>\n      <td>40.0</td>\n      <td>16.0</td>\n      <td>99.0</td>\n      <td>11.0</td>\n      <td>0.029403</td>\n    </tr>\n    <tr>\n      <th>109719</th>\n      <td>14991</td>\n      <td>27.0</td>\n      <td>149914016</td>\n      <td>6.0</td>\n      <td>40.0</td>\n      <td>16.0</td>\n      <td>97.0</td>\n      <td>11.0</td>\n      <td>0.028809</td>\n    </tr>\n    <tr>\n      <th>109720</th>\n      <td>15020</td>\n      <td>17.0</td>\n      <td>150204016</td>\n      <td>8.0</td>\n      <td>40.0</td>\n      <td>16.0</td>\n      <td>99.0</td>\n      <td>5.0</td>\n      <td>0.008415</td>\n    </tr>\n  </tbody>\n</table>\n<p>109721 rows × 9 columns</p>\n</div>"
     },
     "metadata": {},
     "execution_count": 44
    }
   ],
   "source": [
    "temp2"
   ]
  },
  {
   "cell_type": "code",
   "execution_count": 45,
   "metadata": {},
   "outputs": [],
   "source": [
    "temp3 = temp2.sort_values(by=[\"Cliente\",\"Mes\"]).reset_index(drop=True)"
   ]
  },
  {
   "cell_type": "code",
   "execution_count": 46,
   "metadata": {},
   "outputs": [],
   "source": [
    "likelihood_ini=temp3[\"prob\"].max()"
   ]
  },
  {
   "cell_type": "code",
   "execution_count": 47,
   "metadata": {},
   "outputs": [],
   "source": [
    "lista = []\n",
    "for token in pd.unique(temp3[\"token\"]):\n",
    "    likelihood = likelihood_ini\n",
    "    probs = list(temp3[temp3[\"token\"]==token][\"prob\"])\n",
    "\n",
    "    for p_aplica in probs:\n",
    "        temp=bayesian_inf(likelihood,p_aplica)\n",
    "        likelihood = temp\n",
    "\n",
    "    lista.append([temp,token])"
   ]
  },
  {
   "cell_type": "code",
   "execution_count": 48,
   "metadata": {},
   "outputs": [
    {
     "output_type": "execute_result",
     "data": {
      "text/plain": [
       "[1.9811599530368715, '50334016']"
      ]
     },
     "metadata": {},
     "execution_count": 48
    }
   ],
   "source": [
    "max(lista)"
   ]
  },
  {
   "cell_type": "code",
   "execution_count": 49,
   "metadata": {},
   "outputs": [],
   "source": [
    "cons = temp2.groupby(\"token\",as_index=False).mean()\n",
    "cons[\"prob\"]=cons[\"prob\"].values-cons[\"prob\"].min()"
   ]
  },
  {
   "cell_type": "code",
   "execution_count": 50,
   "metadata": {},
   "outputs": [],
   "source": [
    "cons=cons.sort_values(by=\"prob\").reset_index(drop=True)"
   ]
  },
  {
   "cell_type": "code",
   "execution_count": 51,
   "metadata": {},
   "outputs": [
    {
     "output_type": "execute_result",
     "data": {
      "text/plain": [
       "       token  Cliente  client_score  Mes  Marca  Cupo  sales_score  \\\n",
       "3545  104016       10          40.0  7.0   40.0  16.0    74.666667   \n",
       "\n",
       "      promo_score      prob  \n",
       "3545         11.0  0.060214  "
      ],
      "text/html": "<div>\n<style scoped>\n    .dataframe tbody tr th:only-of-type {\n        vertical-align: middle;\n    }\n\n    .dataframe tbody tr th {\n        vertical-align: top;\n    }\n\n    .dataframe thead th {\n        text-align: right;\n    }\n</style>\n<table border=\"1\" class=\"dataframe\">\n  <thead>\n    <tr style=\"text-align: right;\">\n      <th></th>\n      <th>token</th>\n      <th>Cliente</th>\n      <th>client_score</th>\n      <th>Mes</th>\n      <th>Marca</th>\n      <th>Cupo</th>\n      <th>sales_score</th>\n      <th>promo_score</th>\n      <th>prob</th>\n    </tr>\n  </thead>\n  <tbody>\n    <tr>\n      <th>3545</th>\n      <td>104016</td>\n      <td>10</td>\n      <td>40.0</td>\n      <td>7.0</td>\n      <td>40.0</td>\n      <td>16.0</td>\n      <td>74.666667</td>\n      <td>11.0</td>\n      <td>0.060214</td>\n    </tr>\n  </tbody>\n</table>\n</div>"
     },
     "metadata": {},
     "execution_count": 51
    }
   ],
   "source": [
    "cons[cons[\"token\"]==\"104016\"]"
   ]
  },
  {
   "cell_type": "code",
   "execution_count": 79,
   "metadata": {},
   "outputs": [],
   "source": [
    "test=pd.read_csv(\"test.csv\")"
   ]
  },
  {
   "cell_type": "code",
   "execution_count": 80,
   "metadata": {},
   "outputs": [],
   "source": [
    "test[\"token\"] = test[\"Cliente\"].map(lambda x: str(x)) + test[\"Marca\"].map(lambda x: str(x))+test[\"Cupo\"].map(lambda x: str(x))"
   ]
  },
  {
   "cell_type": "code",
   "execution_count": 81,
   "metadata": {},
   "outputs": [],
   "source": [
    "testm = test.merge(cons,on=\"token\",how=\"outer\") "
   ]
  },
  {
   "cell_type": "code",
   "execution_count": 82,
   "metadata": {},
   "outputs": [],
   "source": [
    "output=testm[[\"Cliente_x\",\"Marca_x\",\"Cupo_x\",\"prob\"]]"
   ]
  },
  {
   "cell_type": "code",
   "execution_count": 83,
   "metadata": {},
   "outputs": [],
   "source": [
    "output.columns = [\"Cliente\",\"Marca\",\"Cupo\",\"Ejecuto_Promo\"]"
   ]
  },
  {
   "cell_type": "code",
   "execution_count": 91,
   "metadata": {},
   "outputs": [],
   "source": [
    "output[\"Ejecuto_Promo\"].fillna(\"0\",inplace=True)"
   ]
  },
  {
   "cell_type": "code",
   "execution_count": 93,
   "metadata": {},
   "outputs": [],
   "source": [
    "output2 = output.dropna()"
   ]
  },
  {
   "cell_type": "code",
   "execution_count": 95,
   "metadata": {},
   "outputs": [],
   "source": [
    "output2.to_csv(\"output.csv\",index=False)"
   ]
  },
  {
   "cell_type": "code",
   "execution_count": 98,
   "metadata": {},
   "outputs": [
    {
     "output_type": "execute_result",
     "data": {
      "text/plain": [
       "16866"
      ]
     },
     "metadata": {},
     "execution_count": 98
    }
   ],
   "source": [
    "len(test)"
   ]
  },
  {
   "cell_type": "code",
   "execution_count": 108,
   "metadata": {},
   "outputs": [],
   "source": [
    "C=output2[\"Cliente\"].astype(\"int\")\n",
    "M=output2[\"Marca\"].astype(\"int\")\n",
    "CU=output2[\"Cupo\"].astype(\"int\")"
   ]
  },
  {
   "cell_type": "code",
   "execution_count": 109,
   "metadata": {},
   "outputs": [],
   "source": [
    "output2[\"C\"] = C"
   ]
  },
  {
   "cell_type": "code",
   "execution_count": 111,
   "metadata": {},
   "outputs": [],
   "source": [
    "output2[\"M\"] = M"
   ]
  },
  {
   "cell_type": "code",
   "execution_count": 112,
   "metadata": {},
   "outputs": [],
   "source": [
    "output2[\"CU\"] = CU"
   ]
  },
  {
   "cell_type": "code",
   "execution_count": 119,
   "metadata": {},
   "outputs": [],
   "source": [
    "algo  = output2[[\"C\",\"M\",\"CU\",\"Ejecuto_Promo\"]]"
   ]
  },
  {
   "cell_type": "code",
   "execution_count": 121,
   "metadata": {},
   "outputs": [],
   "source": [
    "algo.columns=[\"Cliente\",\"Marca\",\"Cupo\",\"Ejecuto_Promo\"]"
   ]
  },
  {
   "cell_type": "code",
   "execution_count": 123,
   "metadata": {},
   "outputs": [],
   "source": [
    "algo.to_csv(\"output.csv\",index=False)"
   ]
  },
  {
   "cell_type": "code",
   "execution_count": null,
   "metadata": {},
   "outputs": [],
   "source": []
  }
 ]
}