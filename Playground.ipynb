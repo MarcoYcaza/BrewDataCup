{
 "metadata": {
  "language_info": {
   "codemirror_mode": {
    "name": "ipython",
    "version": 3
   },
   "file_extension": ".py",
   "mimetype": "text/x-python",
   "name": "python",
   "nbconvert_exporter": "python",
   "pygments_lexer": "ipython3",
   "version": "3.8.6-final"
  },
  "orig_nbformat": 2,
  "kernelspec": {
   "name": "python38664bitdab45505cc254c83a53f734625cde4af",
   "display_name": "Python 3.8.6 64-bit"
  }
 },
 "nbformat": 4,
 "nbformat_minor": 2,
 "cells": [
  {
   "cell_type": "code",
   "execution_count": 1,
   "metadata": {},
   "outputs": [],
   "source": [
    "import os\n",
    "import pandas as pd\n",
    "import itertools\n",
    "import numpy as np\n",
    "from sklearn import preprocessing as prepro"
   ]
  },
  {
   "cell_type": "code",
   "execution_count": 2,
   "metadata": {},
   "outputs": [
    {
     "output_type": "execute_result",
     "data": {
      "text/plain": [
       "['sales.csv',\n",
       " 'clients_attributes.csv',\n",
       " 'executed_promos.csv',\n",
       " 'active_promos.csv']"
      ]
     },
     "metadata": {},
     "execution_count": 2
    }
   ],
   "source": [
    "os.listdir(\"peru-data\")"
   ]
  },
  {
   "cell_type": "code",
   "execution_count": 3,
   "metadata": {},
   "outputs": [],
   "source": [
    "datas = [\"peru-data/\"+str(i) for i in os.listdir('peru-data')]"
   ]
  },
  {
   "cell_type": "code",
   "execution_count": 4,
   "metadata": {},
   "outputs": [],
   "source": [
    "clientAtrDf = pd.read_csv(datas[1],encoding=\"latin1\")\n",
    "executedPromosDf = pd.read_csv(datas[2],encoding=\"latin1\")\n",
    "active_promosDf  = pd.read_csv(datas[3],encoding=\"latin1\")\n",
    "salesDf = pd.read_csv(datas[0],encoding=\"latin1\")"
   ]
  },
  {
   "cell_type": "code",
   "execution_count": 5,
   "metadata": {},
   "outputs": [],
   "source": [
    "allClients = pd.unique(clientAtrDf[\"Cliente\"])\n",
    "allBrands  = pd.unique(active_promosDf[\"Marca\"])\n",
    "allCupos   = pd.unique(active_promosDf[\"Cupo\"])"
   ]
  },
  {
   "cell_type": "code",
   "execution_count": 6,
   "metadata": {},
   "outputs": [],
   "source": [
    "b1 = pd.DataFrame(allClients,columns=[\"cliente\"])\n",
    "b1[\"marca\"] =allBrands[0]\n",
    "b2= pd.DataFrame(allClients,columns=[\"cliente\"])\n",
    "b2[\"marca\"] =allBrands[1]\n",
    "b3 = pd.DataFrame(allClients,columns=[\"cliente\"])\n",
    "b3[\"marca\"] =allBrands[2]\n",
    "\n",
    "temp = pd.concat((b1,b2),axis=0,ignore_index=True)\n",
    "c1 = pd.concat((temp,b3),axis=0,ignore_index=True)\n",
    "c2 = pd.concat((temp,b3),axis=0,ignore_index=True)\n",
    "c3 = pd.concat((temp,b3),axis=0,ignore_index=True)\n",
    "\n",
    "c1[\"cupo\"]=allCupos[0]\n",
    "c2[\"cupo\"]=allCupos[1]\n",
    "c3[\"cupo\"]=allCupos[2]\n",
    "\n",
    "temp = pd.concat((c1,c2),axis=0,ignore_index=True)\n",
    "keyColumnsDf = pd.concat((temp,c3),axis=0,ignore_index=True)"
   ]
  },
  {
   "cell_type": "code",
   "execution_count": 7,
   "metadata": {},
   "outputs": [],
   "source": [
    "#keyColumnsDf.head(5).to_csv(\"keyColumns.csv\")"
   ]
  },
  {
   "cell_type": "code",
   "execution_count": 8,
   "metadata": {},
   "outputs": [
    {
     "output_type": "execute_result",
     "data": {
      "text/plain": [
       "      Cliente FechaAltaCliente  Region  Gerencia  SubCanal  TipoPoblacion  \\\n",
       "3188     4000       2010-04-27       3        10        18              2   \n",
       "\n",
       "      Estrato  EF  \n",
       "3188        1   0  "
      ],
      "text/html": "<div>\n<style scoped>\n    .dataframe tbody tr th:only-of-type {\n        vertical-align: middle;\n    }\n\n    .dataframe tbody tr th {\n        vertical-align: top;\n    }\n\n    .dataframe thead th {\n        text-align: right;\n    }\n</style>\n<table border=\"1\" class=\"dataframe\">\n  <thead>\n    <tr style=\"text-align: right;\">\n      <th></th>\n      <th>Cliente</th>\n      <th>FechaAltaCliente</th>\n      <th>Region</th>\n      <th>Gerencia</th>\n      <th>SubCanal</th>\n      <th>TipoPoblacion</th>\n      <th>Estrato</th>\n      <th>EF</th>\n    </tr>\n  </thead>\n  <tbody>\n    <tr>\n      <th>3188</th>\n      <td>4000</td>\n      <td>2010-04-27</td>\n      <td>3</td>\n      <td>10</td>\n      <td>18</td>\n      <td>2</td>\n      <td>1</td>\n      <td>0</td>\n    </tr>\n  </tbody>\n</table>\n</div>"
     },
     "metadata": {},
     "execution_count": 8
    }
   ],
   "source": [
    "clientAtrDf[clientAtrDf[\"Cliente\"]==4000]"
   ]
  },
  {
   "cell_type": "code",
   "execution_count": 9,
   "metadata": {},
   "outputs": [],
   "source": [
    "salesDf[\"token\"] = salesDf[\"Cliente\"].map(lambda x: str(x)) + salesDf[\"Marca\"].map(lambda x: str(x))+salesDf[\"Cupo\"].map(lambda x: str(x))\n"
   ]
  },
  {
   "cell_type": "code",
   "execution_count": 10,
   "metadata": {},
   "outputs": [
    {
     "output_type": "execute_result",
     "data": {
      "text/plain": [
       "       Cliente   Año  Mes  ClaseEnvase  SegmentoPrecio  Marca  Cupo        Nr  \\\n",
       "3375        10  2019    7            2             1.0     40  16.0  12909.04   \n",
       "3376        10  2019    8            2             1.0     40  16.0  18385.05   \n",
       "14690       10  2019    6            2             1.0     40  16.0  45181.63   \n",
       "\n",
       "         Hl      Dcto     token  \n",
       "3375   0.06  -6253.02  104016.0  \n",
       "3376   0.09 -10363.05  104016.0  \n",
       "14690  0.21 -21885.57  104016.0  "
      ],
      "text/html": "<div>\n<style scoped>\n    .dataframe tbody tr th:only-of-type {\n        vertical-align: middle;\n    }\n\n    .dataframe tbody tr th {\n        vertical-align: top;\n    }\n\n    .dataframe thead th {\n        text-align: right;\n    }\n</style>\n<table border=\"1\" class=\"dataframe\">\n  <thead>\n    <tr style=\"text-align: right;\">\n      <th></th>\n      <th>Cliente</th>\n      <th>Año</th>\n      <th>Mes</th>\n      <th>ClaseEnvase</th>\n      <th>SegmentoPrecio</th>\n      <th>Marca</th>\n      <th>Cupo</th>\n      <th>Nr</th>\n      <th>Hl</th>\n      <th>Dcto</th>\n      <th>token</th>\n    </tr>\n  </thead>\n  <tbody>\n    <tr>\n      <th>3375</th>\n      <td>10</td>\n      <td>2019</td>\n      <td>7</td>\n      <td>2</td>\n      <td>1.0</td>\n      <td>40</td>\n      <td>16.0</td>\n      <td>12909.04</td>\n      <td>0.06</td>\n      <td>-6253.02</td>\n      <td>104016.0</td>\n    </tr>\n    <tr>\n      <th>3376</th>\n      <td>10</td>\n      <td>2019</td>\n      <td>8</td>\n      <td>2</td>\n      <td>1.0</td>\n      <td>40</td>\n      <td>16.0</td>\n      <td>18385.05</td>\n      <td>0.09</td>\n      <td>-10363.05</td>\n      <td>104016.0</td>\n    </tr>\n    <tr>\n      <th>14690</th>\n      <td>10</td>\n      <td>2019</td>\n      <td>6</td>\n      <td>2</td>\n      <td>1.0</td>\n      <td>40</td>\n      <td>16.0</td>\n      <td>45181.63</td>\n      <td>0.21</td>\n      <td>-21885.57</td>\n      <td>104016.0</td>\n    </tr>\n  </tbody>\n</table>\n</div>"
     },
     "metadata": {},
     "execution_count": 10
    }
   ],
   "source": [
    "salesDf[salesDf[\"token\"]==\"104016.0\"]"
   ]
  },
  {
   "cell_type": "code",
   "execution_count": 11,
   "metadata": {},
   "outputs": [],
   "source": [
    "executedPromosDf[\"token\"] = executedPromosDf[\"Cliente\"].map(lambda x: str(x)) + executedPromosDf[\"Marca\"].map(lambda x: str(x))+executedPromosDf[\"Cupo\"].map(lambda x: str(x))"
   ]
  },
  {
   "cell_type": "code",
   "execution_count": 12,
   "metadata": {},
   "outputs": [
    {
     "output_type": "execute_result",
     "data": {
      "text/plain": [
       "       CodigoDC  Cliente  Marca  Cupo   token\n",
       "4045     617782       10     40    16  104016\n",
       "23094    641612       10     40    16  104016"
      ],
      "text/html": "<div>\n<style scoped>\n    .dataframe tbody tr th:only-of-type {\n        vertical-align: middle;\n    }\n\n    .dataframe tbody tr th {\n        vertical-align: top;\n    }\n\n    .dataframe thead th {\n        text-align: right;\n    }\n</style>\n<table border=\"1\" class=\"dataframe\">\n  <thead>\n    <tr style=\"text-align: right;\">\n      <th></th>\n      <th>CodigoDC</th>\n      <th>Cliente</th>\n      <th>Marca</th>\n      <th>Cupo</th>\n      <th>token</th>\n    </tr>\n  </thead>\n  <tbody>\n    <tr>\n      <th>4045</th>\n      <td>617782</td>\n      <td>10</td>\n      <td>40</td>\n      <td>16</td>\n      <td>104016</td>\n    </tr>\n    <tr>\n      <th>23094</th>\n      <td>641612</td>\n      <td>10</td>\n      <td>40</td>\n      <td>16</td>\n      <td>104016</td>\n    </tr>\n  </tbody>\n</table>\n</div>"
     },
     "metadata": {},
     "execution_count": 12
    }
   ],
   "source": [
    "executedPromosDf[executedPromosDf[\"token\"]==\"104016\"]\n"
   ]
  },
  {
   "cell_type": "code",
   "execution_count": null,
   "metadata": {},
   "outputs": [],
   "source": []
  },
  {
   "cell_type": "code",
   "execution_count": 13,
   "metadata": {},
   "outputs": [],
   "source": [
    "testDf = salesDf[salesDf[\"token\"]==\"104016.0\"]"
   ]
  },
  {
   "cell_type": "code",
   "execution_count": 14,
   "metadata": {},
   "outputs": [],
   "source": [
    "temp1=testDf[[\"Nr\",\"Hl\",\"Dcto\"]]"
   ]
  },
  {
   "cell_type": "code",
   "execution_count": 15,
   "metadata": {},
   "outputs": [
    {
     "output_type": "execute_result",
     "data": {
      "text/plain": [
       "             Nr    Hl      Dcto\n",
       "3375   12909.04  0.06  -6253.02\n",
       "3376   18385.05  0.09 -10363.05\n",
       "14690  45181.63  0.21 -21885.57"
      ],
      "text/html": "<div>\n<style scoped>\n    .dataframe tbody tr th:only-of-type {\n        vertical-align: middle;\n    }\n\n    .dataframe tbody tr th {\n        vertical-align: top;\n    }\n\n    .dataframe thead th {\n        text-align: right;\n    }\n</style>\n<table border=\"1\" class=\"dataframe\">\n  <thead>\n    <tr style=\"text-align: right;\">\n      <th></th>\n      <th>Nr</th>\n      <th>Hl</th>\n      <th>Dcto</th>\n    </tr>\n  </thead>\n  <tbody>\n    <tr>\n      <th>3375</th>\n      <td>12909.04</td>\n      <td>0.06</td>\n      <td>-6253.02</td>\n    </tr>\n    <tr>\n      <th>3376</th>\n      <td>18385.05</td>\n      <td>0.09</td>\n      <td>-10363.05</td>\n    </tr>\n    <tr>\n      <th>14690</th>\n      <td>45181.63</td>\n      <td>0.21</td>\n      <td>-21885.57</td>\n    </tr>\n  </tbody>\n</table>\n</div>"
     },
     "metadata": {},
     "execution_count": 15
    }
   ],
   "source": [
    "temp1"
   ]
  },
  {
   "cell_type": "code",
   "execution_count": 16,
   "metadata": {},
   "outputs": [],
   "source": [
    "temp2 = prepro.normalize(temp1,norm=\"l2\")"
   ]
  },
  {
   "cell_type": "code",
   "execution_count": 17,
   "metadata": {},
   "outputs": [],
   "source": [
    "temp3 = pd.DataFrame(temp2,columns=[\"Nr\",\"Hl\",\"Dcto\"])"
   ]
  },
  {
   "cell_type": "code",
   "execution_count": 18,
   "metadata": {},
   "outputs": [
    {
     "output_type": "execute_result",
     "data": {
      "text/plain": [
       "         Nr        Hl      Dcto\n",
       "0  0.899976  0.000004 -0.435940\n",
       "1  0.871141  0.000004 -0.491033\n",
       "2  0.899976  0.000004 -0.435940"
      ],
      "text/html": "<div>\n<style scoped>\n    .dataframe tbody tr th:only-of-type {\n        vertical-align: middle;\n    }\n\n    .dataframe tbody tr th {\n        vertical-align: top;\n    }\n\n    .dataframe thead th {\n        text-align: right;\n    }\n</style>\n<table border=\"1\" class=\"dataframe\">\n  <thead>\n    <tr style=\"text-align: right;\">\n      <th></th>\n      <th>Nr</th>\n      <th>Hl</th>\n      <th>Dcto</th>\n    </tr>\n  </thead>\n  <tbody>\n    <tr>\n      <th>0</th>\n      <td>0.899976</td>\n      <td>0.000004</td>\n      <td>-0.435940</td>\n    </tr>\n    <tr>\n      <th>1</th>\n      <td>0.871141</td>\n      <td>0.000004</td>\n      <td>-0.491033</td>\n    </tr>\n    <tr>\n      <th>2</th>\n      <td>0.899976</td>\n      <td>0.000004</td>\n      <td>-0.435940</td>\n    </tr>\n  </tbody>\n</table>\n</div>"
     },
     "metadata": {},
     "execution_count": 18
    }
   ],
   "source": [
    "temp3"
   ]
  },
  {
   "cell_type": "code",
   "execution_count": 19,
   "metadata": {},
   "outputs": [],
   "source": [
    "Nr = np.floor(temp3[\"Nr\"]*(10/temp3[\"Nr\"].max()))\n",
    "Hl = np.floor(temp3[\"Hl\"]*(10/temp3[\"Hl\"].max()))\n",
    "Dcto = np.floor(temp3[\"Dcto\"]*(10/temp3[\"Dcto\"].max()))"
   ]
  },
  {
   "cell_type": "code",
   "execution_count": 20,
   "metadata": {},
   "outputs": [
    {
     "output_type": "execute_result",
     "data": {
      "text/plain": [
       "array([[10.],\n",
       "       [11.],\n",
       "       [10.]])"
      ]
     },
     "metadata": {},
     "execution_count": 20
    }
   ],
   "source": [
    "Nr.to_numpy().reshape(3,1)\n",
    "Hl.to_numpy().reshape(3,1)\n",
    "Dcto.to_numpy().reshape(3,1)"
   ]
  },
  {
   "cell_type": "code",
   "execution_count": 21,
   "metadata": {},
   "outputs": [
    {
     "output_type": "execute_result",
     "data": {
      "text/plain": [
       "array([10., 11., 10.])"
      ]
     },
     "metadata": {},
     "execution_count": 21
    }
   ],
   "source": [
    "Dcto.to_numpy().T"
   ]
  },
  {
   "cell_type": "code",
   "execution_count": 22,
   "metadata": {},
   "outputs": [
    {
     "output_type": "execute_result",
     "data": {
      "text/plain": [
       "(0.5917188485995826, array([0.195, 0.84 ]))"
      ]
     },
     "metadata": {},
     "execution_count": 22
    }
   ],
   "source": [
    "import pingouin as pg\n",
    "data = pg.read_dataset('cronbach_alpha')\n",
    "#data[data[\"Items\"]==\"Q1\"]\n",
    "pg.cronbach_alpha(data=data, items='Items', scores='Scores',\n",
    "                  subject='Subj')"
   ]
  },
  {
   "cell_type": "code",
   "execution_count": 23,
   "metadata": {},
   "outputs": [
    {
     "output_type": "execute_result",
     "data": {
      "text/plain": [
       "     Subj Items  Scores\n",
       "0       0    Q1       3\n",
       "15      0    Q2       2\n",
       "30      0    Q3       4\n",
       "45      0    Q4       1\n",
       "60      0    Q5       4\n",
       "75      0    Q6       5\n",
       "90      0    Q7       1\n",
       "105     0    Q8       4\n",
       "120     0    Q9       3\n",
       "135     0   Q10       2"
      ],
      "text/html": "<div>\n<style scoped>\n    .dataframe tbody tr th:only-of-type {\n        vertical-align: middle;\n    }\n\n    .dataframe tbody tr th {\n        vertical-align: top;\n    }\n\n    .dataframe thead th {\n        text-align: right;\n    }\n</style>\n<table border=\"1\" class=\"dataframe\">\n  <thead>\n    <tr style=\"text-align: right;\">\n      <th></th>\n      <th>Subj</th>\n      <th>Items</th>\n      <th>Scores</th>\n    </tr>\n  </thead>\n  <tbody>\n    <tr>\n      <th>0</th>\n      <td>0</td>\n      <td>Q1</td>\n      <td>3</td>\n    </tr>\n    <tr>\n      <th>15</th>\n      <td>0</td>\n      <td>Q2</td>\n      <td>2</td>\n    </tr>\n    <tr>\n      <th>30</th>\n      <td>0</td>\n      <td>Q3</td>\n      <td>4</td>\n    </tr>\n    <tr>\n      <th>45</th>\n      <td>0</td>\n      <td>Q4</td>\n      <td>1</td>\n    </tr>\n    <tr>\n      <th>60</th>\n      <td>0</td>\n      <td>Q5</td>\n      <td>4</td>\n    </tr>\n    <tr>\n      <th>75</th>\n      <td>0</td>\n      <td>Q6</td>\n      <td>5</td>\n    </tr>\n    <tr>\n      <th>90</th>\n      <td>0</td>\n      <td>Q7</td>\n      <td>1</td>\n    </tr>\n    <tr>\n      <th>105</th>\n      <td>0</td>\n      <td>Q8</td>\n      <td>4</td>\n    </tr>\n    <tr>\n      <th>120</th>\n      <td>0</td>\n      <td>Q9</td>\n      <td>3</td>\n    </tr>\n    <tr>\n      <th>135</th>\n      <td>0</td>\n      <td>Q10</td>\n      <td>2</td>\n    </tr>\n  </tbody>\n</table>\n</div>"
     },
     "metadata": {},
     "execution_count": 23
    }
   ],
   "source": [
    "data[data[\"Subj\"]==0]"
   ]
  },
  {
   "cell_type": "code",
   "execution_count": null,
   "metadata": {},
   "outputs": [],
   "source": []
  }
 ]
}